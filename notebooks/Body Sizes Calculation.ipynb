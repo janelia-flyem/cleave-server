{
 "cells": [
  {
   "cell_type": "code",
   "execution_count": 1,
   "metadata": {},
   "outputs": [],
   "source": [
    "%load_ext autoreload\n",
    "%autoreload 2"
   ]
  },
  {
   "cell_type": "code",
   "execution_count": 10,
   "metadata": {},
   "outputs": [],
   "source": [
    "import sys\n",
    "import logging\n",
    "\n",
    "import numpy as np\n",
    "import pandas as pd\n",
    "\n",
    "from neuclease.dvid import DvidInstanceInfo, fetch_split_supervoxel_sizes, fetch_complete_mappings\n",
    "from neuclease.merge_table import load_supervoxel_sizes, compute_body_sizes"
   ]
  },
  {
   "cell_type": "code",
   "execution_count": 3,
   "metadata": {},
   "outputs": [],
   "source": [
    "handler = logging.StreamHandler(sys.stdout)\n",
    "root_logger = logging.getLogger()\n",
    "root_logger.handlers = []\n",
    "root_logger.addHandler(handler)\n",
    "root_logger.setLevel(logging.INFO)\n",
    "logging.getLogger('kafka').setLevel(logging.WARNING)"
   ]
  },
  {
   "cell_type": "markdown",
   "metadata": {},
   "source": [
    "### Load Original supervoxel sizes"
   ]
  },
  {
   "cell_type": "code",
   "execution_count": 4,
   "metadata": {},
   "outputs": [
    {
     "name": "stdout",
     "output_type": "stream",
     "text": [
      "Volume contains 188243164 supervoxels and 22.5 Teravoxels in total\n",
      "CPU times: user 726 ms, sys: 1 s, total: 1.73 s\n",
      "Wall time: 2.51 s\n"
     ]
    }
   ],
   "source": [
    "orig_sizes_file = '/groups/flyem/data/scratchspace/copyseg-configs/labelmaps/hemibrain/8nm/compute-8nm-extended-fixed-STATS-ONLY-20180402.192015/supervoxel-sizes.h5'\n",
    "%time orig_sv_sizes = load_supervoxel_sizes(orig_sizes_file)\n",
    "total_voxel_count = orig_sv_sizes.sum()"
   ]
  },
  {
   "cell_type": "markdown",
   "metadata": {},
   "source": [
    "### Fetch Supervoxel split fragment sizes"
   ]
  },
  {
   "cell_type": "code",
   "execution_count": 18,
   "metadata": {},
   "outputs": [],
   "source": [
    "# Initial agglo node\n",
    "instance_info = DvidInstanceInfo('emdata3:8900', 'ac90', 'segmentation')\n",
    "\n",
    "# Latest production node\n",
    "instance_info = DvidInstanceInfo('emdata3:8900', '662e', 'segmentation')"
   ]
  },
  {
   "cell_type": "code",
   "execution_count": 20,
   "metadata": {},
   "outputs": [],
   "source": [
    "split_fragment_sizes = fetch_split_supervoxel_sizes(instance_info)"
   ]
  },
  {
   "cell_type": "markdown",
   "metadata": {},
   "source": [
    "### Combine orig/split sizes"
   ]
  },
  {
   "cell_type": "code",
   "execution_count": 21,
   "metadata": {},
   "outputs": [],
   "source": [
    "sv_sizes = pd.concat((orig_sv_sizes, split_fragment_sizes))"
   ]
  },
  {
   "cell_type": "code",
   "execution_count": 22,
   "metadata": {},
   "outputs": [],
   "source": [
    "assert sv_sizes.index.dtype == np.uint64\n",
    "assert sv_sizes.dtype == np.uint32"
   ]
  },
  {
   "cell_type": "markdown",
   "metadata": {},
   "source": [
    "### Fetch mapping"
   ]
  },
  {
   "cell_type": "code",
   "execution_count": 23,
   "metadata": {},
   "outputs": [
    {
     "name": "stdout",
     "output_type": "stream",
     "text": [
      "Reading kafka messages from kafka.int.janelia.org:9092 for emdata3:8900 / ac90 / segmentation\n",
      "Reading 2622 kafka messages took 2.2186641693115234 seconds\n",
      "Fetching http://emdata3:8900/api/node/ac90/segmentation/mappings...\n",
      "Fetching http://emdata3:8900/api/node/ac90/segmentation/mappings took 0:00:28.998321\n",
      "Parsing mapping...\n",
      "Parsing mapping took 0:00:07.946167\n",
      "Appending missing identity-mappings...\n",
      "Appending missing identity-mappings took 0:00:20.539866\n"
     ]
    }
   ],
   "source": [
    "mapping = fetch_complete_mappings(instance_info, 'kafka')"
   ]
  },
  {
   "cell_type": "markdown",
   "metadata": {},
   "source": [
    "### Compute body sizes"
   ]
  },
  {
   "cell_type": "code",
   "execution_count": 24,
   "metadata": {},
   "outputs": [
    {
     "name": "stdout",
     "output_type": "stream",
     "text": [
      "Dropping unknown supervoxels\n",
      "Applying sizes to mapping\n",
      "Aggregating sizes by body\n"
     ]
    }
   ],
   "source": [
    "body_sizes = compute_body_sizes(sv_sizes, mapping)"
   ]
  },
  {
   "cell_type": "code",
   "execution_count": 25,
   "metadata": {},
   "outputs": [],
   "source": [
    "body_sizes.to_csv(f'/nrs/flyem/bergs/finish-02/body-sizes-{instance_info.uuid[:4]}.csv')"
   ]
  },
  {
   "cell_type": "code",
   "execution_count": 28,
   "metadata": {},
   "outputs": [
    {
     "data": {
      "text/plain": [
       "(174010,)"
      ]
     },
     "execution_count": 28,
     "metadata": {},
     "output_type": "execute_result"
    }
   ],
   "source": [
    "large_body_sizes = body_sizes[body_sizes >= 10e6]\n",
    "large_body_sizes.shape"
   ]
  },
  {
   "cell_type": "code",
   "execution_count": null,
   "metadata": {},
   "outputs": [],
   "source": []
  }
 ],
 "metadata": {
  "kernelspec": {
   "display_name": "Python 3",
   "language": "python",
   "name": "python3"
  },
  "language_info": {
   "codemirror_mode": {
    "name": "ipython",
    "version": 3
   },
   "file_extension": ".py",
   "mimetype": "text/x-python",
   "name": "python",
   "nbconvert_exporter": "python",
   "pygments_lexer": "ipython3",
   "version": "3.6.2"
  }
 },
 "nbformat": 4,
 "nbformat_minor": 2
}
