{
 "cells": [
  {
   "cell_type": "code",
   "execution_count": 1,
   "metadata": {},
   "outputs": [],
   "source": [
    "%load_ext autoreload\n",
    "%autoreload 2"
   ]
  },
  {
   "cell_type": "code",
   "execution_count": 72,
   "metadata": {},
   "outputs": [],
   "source": [
    "import sys\n",
    "import logging\n",
    "\n",
    "import numpy as np\n",
    "import pandas as pd\n",
    "\n",
    "from neuclease.dvid import DvidInstanceInfo, fetch_split_supervoxel_sizes, fetch_mappings\n",
    "from neuclease.merge_table import load_supervoxel_sizes, compute_body_sizes"
   ]
  },
  {
   "cell_type": "code",
   "execution_count": 29,
   "metadata": {},
   "outputs": [],
   "source": [
    "handler = logging.StreamHandler(sys.stdout)\n",
    "root_logger = logging.getLogger()\n",
    "root_logger.handlers = []\n",
    "root_logger.addHandler(handler)\n",
    "root_logger.setLevel(logging.INFO)\n",
    "logging.getLogger('kafka').setLevel(logging.WARNING)"
   ]
  },
  {
   "cell_type": "markdown",
   "metadata": {},
   "source": [
    "### Load Original supervoxel sizes"
   ]
  },
  {
   "cell_type": "code",
   "execution_count": 36,
   "metadata": {},
   "outputs": [
    {
     "name": "stdout",
     "output_type": "stream",
     "text": [
      "Volume contains 188243164 supervoxels and 22.5 Teravoxels in total\n",
      "CPU times: user 748 ms, sys: 1.11 s, total: 1.85 s\n",
      "Wall time: 7.58 s\n"
     ]
    }
   ],
   "source": [
    "orig_sizes_file = '/groups/flyem/data/scratchspace/copyseg-configs/labelmaps/hemibrain/8nm/compute-8nm-extended-fixed-STATS-ONLY-20180402.192015/supervoxel-sizes.h5'\n",
    "%time orig_sv_sizes = load_supervoxel_sizes(orig_sizes_file)\n",
    "total_voxel_count = orig_sv_sizes.sum()"
   ]
  },
  {
   "cell_type": "markdown",
   "metadata": {},
   "source": [
    "### Fetch Supervoxel split fragment sizes"
   ]
  },
  {
   "cell_type": "code",
   "execution_count": 73,
   "metadata": {},
   "outputs": [],
   "source": [
    "instance_info = DvidInstanceInfo('emdata3:8900', '52f9', 'segmentation')"
   ]
  },
  {
   "cell_type": "code",
   "execution_count": 64,
   "metadata": {},
   "outputs": [
    {
     "name": "stdout",
     "output_type": "stream",
     "text": [
      "Reading kafka messages from kafka.int.janelia.org:9092 for emdata3:8900 / 52f9 / segmentation\n",
      "Reading 155276 kafka messages took 7.97636866569519 seconds\n",
      "Fetching sizes for 5843 split supervoxels...\n",
      "Fetching sizes for 5843 split supervoxels took 0:00:07.994808\n"
     ]
    }
   ],
   "source": [
    "split_fragment_sizes = fetch_split_supervoxel_sizes(instance_info, include_retired=True)"
   ]
  },
  {
   "cell_type": "markdown",
   "metadata": {},
   "source": [
    "### Combine old/split sizes"
   ]
  },
  {
   "cell_type": "code",
   "execution_count": 65,
   "metadata": {},
   "outputs": [],
   "source": [
    "all_sizes = pd.concat((orig_sv_sizes, split_fragment_sizes))\n",
    "all_sizes = all_sizes[~all_sizes.index.duplicated(keep='last')]"
   ]
  },
  {
   "cell_type": "code",
   "execution_count": 66,
   "metadata": {},
   "outputs": [
    {
     "data": {
      "text/plain": [
       "7460"
      ]
     },
     "execution_count": 66,
     "metadata": {},
     "output_type": "execute_result"
    }
   ],
   "source": [
    "assert all_sizes.index.dtype == np.uint64\n",
    "assert all_sizes.dtype == np.uint32\n",
    "all_sizes.shape[0] - orig_sv_sizes.shape[0]"
   ]
  },
  {
   "cell_type": "markdown",
   "metadata": {},
   "source": [
    "### Fetch mapping"
   ]
  },
  {
   "cell_type": "code",
   "execution_count": 51,
   "metadata": {},
   "outputs": [
    {
     "name": "stdout",
     "output_type": "stream",
     "text": [
      "Fetching http://emdata3:8900/api/node/52f9/segmentation/mappings...\n",
      "Fetching http://emdata3:8900/api/node/52f9/segmentation/mappings took 0:00:31.064037\n",
      "Parsing mapping...\n",
      "Parsing mapping took 0:00:08.105745\n",
      "Appending missing identity-mappings...\n",
      "Appending missing identity-mappings took 0:00:22.367342\n"
     ]
    }
   ],
   "source": [
    "retired_supervoxels = all_sizes[all_sizes == 0].index\n",
    "mapping = fetch_mappings(instance_info, retired_supervoxels=retired_supervoxels)"
   ]
  },
  {
   "cell_type": "markdown",
   "metadata": {},
   "source": [
    "### Compute body sizes"
   ]
  },
  {
   "cell_type": "code",
   "execution_count": 67,
   "metadata": {},
   "outputs": [
    {
     "name": "stdout",
     "output_type": "stream",
     "text": [
      "Dropping unknown supervoxels\n",
      "Applying sizes to mapping\n",
      "Aggregating sizes by body\n"
     ]
    }
   ],
   "source": [
    "body_sizes = compute_body_sizes(all_sizes, mapping)"
   ]
  },
  {
   "cell_type": "code",
   "execution_count": 74,
   "metadata": {},
   "outputs": [],
   "source": [
    "body_sizes.to_csv(f'/nrs/flyem/bergs/finish-02/body-sizes-{instance_info.uuid[:4]}.csv')"
   ]
  },
  {
   "cell_type": "code",
   "execution_count": null,
   "metadata": {},
   "outputs": [],
   "source": []
  }
 ],
 "metadata": {
  "kernelspec": {
   "display_name": "Python 3",
   "language": "python",
   "name": "python3"
  },
  "language_info": {
   "codemirror_mode": {
    "name": "ipython",
    "version": 3
   },
   "file_extension": ".py",
   "mimetype": "text/x-python",
   "name": "python",
   "nbconvert_exporter": "python",
   "pygments_lexer": "ipython3",
   "version": "3.6.2"
  }
 },
 "nbformat": 4,
 "nbformat_minor": 2
}
