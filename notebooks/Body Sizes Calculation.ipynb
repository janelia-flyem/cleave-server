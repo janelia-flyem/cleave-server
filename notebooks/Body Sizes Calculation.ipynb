{
 "cells": [
  {
   "cell_type": "code",
   "execution_count": null,
   "metadata": {},
   "outputs": [],
   "source": [
    "%load_ext autoreload\n",
    "%autoreload 2"
   ]
  },
  {
   "cell_type": "code",
   "execution_count": 5,
   "metadata": {},
   "outputs": [],
   "source": [
    "import sys\n",
    "import logging\n",
    "\n",
    "import numpy as np\n",
    "import pandas as pd\n",
    "\n",
    "from neuclease.dvid import DvidInstanceInfo, fetch_split_supervoxel_sizes, fetch_complete_mappings\n",
    "from neuclease.merge_table import load_supervoxel_sizes, compute_body_sizes"
   ]
  },
  {
   "cell_type": "code",
   "execution_count": 6,
   "metadata": {},
   "outputs": [],
   "source": [
    "handler = logging.StreamHandler(sys.stdout)\n",
    "root_logger = logging.getLogger()\n",
    "root_logger.handlers = []\n",
    "root_logger.addHandler(handler)\n",
    "root_logger.setLevel(logging.INFO)\n",
    "logging.getLogger('kafka').setLevel(logging.WARNING)"
   ]
  },
  {
   "cell_type": "markdown",
   "metadata": {},
   "source": [
    "### Load Original supervoxel sizes"
   ]
  },
  {
   "cell_type": "code",
   "execution_count": 7,
   "metadata": {},
   "outputs": [
    {
     "name": "stdout",
     "output_type": "stream",
     "text": [
      "Volume contains 188243164 supervoxels and 22.5 Teravoxels in total\n",
      "CPU times: user 662 ms, sys: 1.83 s, total: 2.49 s\n",
      "Wall time: 5.92 s\n"
     ]
    }
   ],
   "source": [
    "orig_sizes_file = '/groups/flyem/data/scratchspace/copyseg-configs/labelmaps/hemibrain/8nm/compute-8nm-extended-fixed-STATS-ONLY-20180402.192015/supervoxel-sizes.h5'\n",
    "%time orig_sv_sizes = load_supervoxel_sizes(orig_sizes_file)\n",
    "total_voxel_count = orig_sv_sizes.sum()"
   ]
  },
  {
   "cell_type": "markdown",
   "metadata": {},
   "source": [
    "### Fetch Supervoxel split fragment sizes"
   ]
  },
  {
   "cell_type": "code",
   "execution_count": 30,
   "metadata": {},
   "outputs": [],
   "source": [
    "# Initial agglo node\n",
    "instance_info = DvidInstanceInfo('emdata3:8900', 'ac90', 'segmentation')\n",
    "\n",
    "# Latest production node\n",
    "instance_info = DvidInstanceInfo('emdata3:8900', '7254f5a8aacf4e6f804dcbddfdac4f7f', 'segmentation')\n",
    "\n",
    "# Proofreader test node\n",
    "instance_info = ('emdata1:8400', 'ecbedddd08034db8b0b0f1529b578d96', 'segmentation')"
   ]
  },
  {
   "cell_type": "code",
   "execution_count": 9,
   "metadata": {},
   "outputs": [
    {
     "name": "stdout",
     "output_type": "stream",
     "text": [
      "Reading kafka messages from kafka.int.janelia.org:9092 for emdata3:8900 / 7254f5a8aacf4e6f804dcbddfdac4f7f / segmentation\n",
      "Reading 517916 kafka messages took 18.0354061126709 seconds\n",
      "Fetching sizes for 5910 split supervoxels...\n",
      "Fetching sizes for 5910 split supervoxels took 0:00:11.705968\n"
     ]
    }
   ],
   "source": [
    "split_fragment_sizes = fetch_split_supervoxel_sizes(*instance_info)"
   ]
  },
  {
   "cell_type": "markdown",
   "metadata": {},
   "source": [
    "### Combine orig/split sizes"
   ]
  },
  {
   "cell_type": "code",
   "execution_count": 10,
   "metadata": {},
   "outputs": [],
   "source": [
    "sv_sizes = pd.concat((orig_sv_sizes, split_fragment_sizes))"
   ]
  },
  {
   "cell_type": "code",
   "execution_count": 11,
   "metadata": {},
   "outputs": [],
   "source": [
    "assert sv_sizes.index.dtype == np.uint64\n",
    "assert sv_sizes.dtype == np.uint32"
   ]
  },
  {
   "cell_type": "markdown",
   "metadata": {},
   "source": [
    "### Fetch mapping"
   ]
  },
  {
   "cell_type": "code",
   "execution_count": 31,
   "metadata": {},
   "outputs": [
    {
     "name": "stdout",
     "output_type": "stream",
     "text": [
      "Reading kafka messages from kafka.int.janelia.org:9092 for emdata1:8400 / ecbedddd08034db8b0b0f1529b578d96 / segmentation\n",
      "Reading 517916 kafka messages took 16.13109564781189 seconds\n",
      "Fetching http://emdata1:8400/api/node/ecbedddd08034db8b0b0f1529b578d96/segmentation/mappings...\n",
      "Fetching http://emdata1:8400/api/node/ecbedddd08034db8b0b0f1529b578d96/segmentation/mappings took 0:00:32.505847\n",
      "Parsing mapping...\n",
      "Parsing mapping took 0:00:07.705811\n",
      "Constructing missing identity-mappings...\n",
      "Constructing missing identity-mappings took 0:00:25.282152\n"
     ]
    }
   ],
   "source": [
    "mapping = fetch_complete_mappings(*instance_info)"
   ]
  },
  {
   "cell_type": "markdown",
   "metadata": {},
   "source": [
    "### Compute body sizes"
   ]
  },
  {
   "cell_type": "code",
   "execution_count": 32,
   "metadata": {},
   "outputs": [
    {
     "name": "stdout",
     "output_type": "stream",
     "text": [
      "Dropping unknown supervoxels\n",
      "Applying sizes to mapping\n",
      "Aggregating sizes by body\n"
     ]
    }
   ],
   "source": [
    "body_sizes = compute_body_sizes(sv_sizes, mapping)"
   ]
  },
  {
   "cell_type": "code",
   "execution_count": 34,
   "metadata": {},
   "outputs": [],
   "source": [
    "body_sizes.to_csv(f'/nrs/flyem/bergs/tmp/body-sizes-{instance_info[1][:4]}.csv')"
   ]
  },
  {
   "cell_type": "code",
   "execution_count": 35,
   "metadata": {},
   "outputs": [
    {
     "data": {
      "text/plain": [
       "<matplotlib.axes._subplots.AxesSubplot at 0x2b646e7a1208>"
      ]
     },
     "execution_count": 35,
     "metadata": {},
     "output_type": "execute_result"
    },
    {
     "data": {
      "image/png": "[encoded data removed]",
      "text/plain": [
       "<matplotlib.figure.Figure at 0x2b64b81c37b8>"
      ]
     },
     "metadata": {},
     "output_type": "display_data"
    }
   ],
   "source": [
    "body_sizes.hist(bins=50)"
   ]
  },
  {
   "cell_type": "code",
   "execution_count": 16,
   "metadata": {},
   "outputs": [
    {
     "data": {
      "text/plain": [
       "(50001,)"
      ]
     },
     "execution_count": 16,
     "metadata": {},
     "output_type": "execute_result"
    }
   ],
   "source": [
    "large_body_sizes = body_sizes[body_sizes >= body_sizes.iloc[50000]]\n",
    "large_body_sizes.shape"
   ]
  },
  {
   "cell_type": "markdown",
   "metadata": {},
   "source": [
    "### Optional: Filter by 0.5 bodies"
   ]
  },
  {
   "cell_type": "code",
   "execution_count": 38,
   "metadata": {},
   "outputs": [
    {
     "name": "stdout",
     "output_type": "stream",
     "text": [
      "Wrote to /nrs/flyem/bergs/tmp/focused-body-sizes-ecbe.csv\n"
     ]
    }
   ],
   "source": [
    "path = '/nrs/flyem/bergs/complete-ffn-agglo/bodies-0.5-including-psds-from-neuprint-52f9.csv'\n",
    "focused_bodies = set(pd.read_csv(path, header=None, names=['body'])['body'])\n",
    "filtered_body_sizes = body_sizes[body_sizes.index.isin(focused_bodies)]\n",
    "\n",
    "path = f'/nrs/flyem/bergs/tmp/focused-body-sizes-{instance_info[1][:4]}.csv'\n",
    "filtered_body_sizes.to_csv(path, header=True, index=True)\n",
    "print(f\"Wrote to {path}\")"
   ]
  },
  {
   "cell_type": "code",
   "execution_count": 39,
   "metadata": {},
   "outputs": [
    {
     "data": {
      "text/plain": [
       "<matplotlib.axes._subplots.AxesSubplot at 0x2b64dd2caa20>"
      ]
     },
     "execution_count": 39,
     "metadata": {},
     "output_type": "execute_result"
    },
    {
     "data": {
      "image/png": "[encoded data removed]",
      "text/plain": [
       "<matplotlib.figure.Figure at 0x2b64bdf5b390>"
      ]
     },
     "metadata": {},
     "output_type": "display_data"
    }
   ],
   "source": [
    "filtered_body_sizes.hist(bins=50)"
   ]
  },
  {
   "cell_type": "code",
   "execution_count": 40,
   "metadata": {},
   "outputs": [
    {
     "data": {
      "text/plain": [
       "(612769,)"
      ]
     },
     "execution_count": 40,
     "metadata": {},
     "output_type": "execute_result"
    }
   ],
   "source": [
    "filtered_body_sizes.shape"
   ]
  },
  {
   "cell_type": "code",
   "execution_count": null,
   "metadata": {},
   "outputs": [],
   "source": [
    "#sizes = pd.read_csv('/nrs/flyem/bergs/tmp/focused-body-sizes-d585.csv')"
   ]
  },
  {
   "cell_type": "code",
   "execution_count": 41,
   "metadata": {},
   "outputs": [],
   "source": [
    "filtered_small_body_sizes = filtered_body_sizes[filtered_body_sizes <= filtered_body_sizes.iloc[50000]]"
   ]
  },
  {
   "cell_type": "code",
   "execution_count": 42,
   "metadata": {},
   "outputs": [
    {
     "data": {
      "text/plain": [
       "(562769,)"
      ]
     },
     "execution_count": 42,
     "metadata": {},
     "output_type": "execute_result"
    }
   ],
   "source": [
    "filtered_small_body_sizes.shape"
   ]
  },
  {
   "cell_type": "code",
   "execution_count": 43,
   "metadata": {},
   "outputs": [],
   "source": [
    "np.random.seed(0)\n",
    "chosen_bodies = np.random.choice(filtered_small_body_sizes.index.values, size=200, replace=False)\n",
    "chosen_sizes = filtered_small_body_sizes.loc[chosen_bodies]\n",
    "chosen_sizes.to_csv('/nrs/flyem/bergs/orphan-link-experiment/orphan-link-experiment-bodies.csv', index=True, header=True)"
   ]
  },
  {
   "cell_type": "code",
   "execution_count": 29,
   "metadata": {},
   "outputs": [],
   "source": []
  },
  {
   "cell_type": "code",
   "execution_count": null,
   "metadata": {},
   "outputs": [],
   "source": []
  },
  {
   "cell_type": "code",
   "execution_count": null,
   "metadata": {},
   "outputs": [],
   "source": [
    "sizes[:10]"
   ]
  },
  {
   "cell_type": "code",
   "execution_count": null,
   "metadata": {},
   "outputs": [],
   "source": [
    "from neuclease.dvid import *\n",
    "from tqdm import tqdm_notebook\n",
    "\n",
    "sv_count = []\n",
    "exist_count = []\n",
    "\n",
    "sizes_subset = sizes.iloc[-100:].copy()\n",
    "\n",
    "for body in tqdm_notebook(sizes_subset):\n",
    "    svs = fetch_supervoxels_for_body(*instance_info, body)\n",
    "    exists = fetch_exists(instance_info[0], instance_info[1], 'segmentation_sv_meshes', svs)\n",
    "    sv_count.append(len(svs))\n",
    "    exist_count.append(exists.sum())\n",
    "\n",
    "sizes_subset = sizes_subset.copy()\n",
    "sizes_subset['sv_count'] = sv_count\n",
    "sizes_subset['exist_count'] = exist_count\n",
    "sizes_subset['exist_pct'] = 100*(sizes_subset['exist_count'] / sizes_subset['sv_count'])"
   ]
  },
  {
   "cell_type": "code",
   "execution_count": null,
   "metadata": {},
   "outputs": [],
   "source": [
    "sizes_subset[top_sizes['exist_pct'] < 98]"
   ]
  },
  {
   "cell_type": "code",
   "execution_count": null,
   "metadata": {},
   "outputs": [],
   "source": [
    "len(sv_count)"
   ]
  },
  {
   "cell_type": "code",
   "execution_count": null,
   "metadata": {},
   "outputs": [],
   "source": [
    "len(exist_count)"
   ]
  },
  {
   "cell_type": "code",
   "execution_count": null,
   "metadata": {},
   "outputs": [],
   "source": []
  },
  {
   "cell_type": "code",
   "execution_count": null,
   "metadata": {},
   "outputs": [],
   "source": []
  }
 ],
 "metadata": {
  "kernelspec": {
   "display_name": "Python 3",
   "language": "python",
   "name": "python3"
  },
  "language_info": {
   "codemirror_mode": {
    "name": "ipython",
    "version": 3
   },
   "file_extension": ".py",
   "mimetype": "text/x-python",
   "name": "python",
   "nbconvert_exporter": "python",
   "pygments_lexer": "ipython3",
   "version": "3.6.2"
  }
 },
 "nbformat": 4,
 "nbformat_minor": 2
}
