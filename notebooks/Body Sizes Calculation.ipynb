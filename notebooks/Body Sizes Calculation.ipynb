{
 "cells": [
  {
   "cell_type": "code",
   "execution_count": 1,
   "metadata": {},
   "outputs": [],
   "source": [
    "%load_ext autoreload\n",
    "%autoreload 2"
   ]
  },
  {
   "cell_type": "code",
   "execution_count": 2,
   "metadata": {},
   "outputs": [],
   "source": [
    "import sys\n",
    "import logging\n",
    "\n",
    "import numpy as np\n",
    "import pandas as pd\n",
    "\n",
    "from neuclease.dvid import DvidInstanceInfo, fetch_split_supervoxel_sizes, fetch_complete_mappings\n",
    "from neuclease.merge_table import load_supervoxel_sizes, compute_body_sizes"
   ]
  },
  {
   "cell_type": "code",
   "execution_count": 3,
   "metadata": {},
   "outputs": [],
   "source": [
    "handler = logging.StreamHandler(sys.stdout)\n",
    "root_logger = logging.getLogger()\n",
    "root_logger.handlers = []\n",
    "root_logger.addHandler(handler)\n",
    "root_logger.setLevel(logging.INFO)\n",
    "logging.getLogger('kafka').setLevel(logging.WARNING)"
   ]
  },
  {
   "cell_type": "markdown",
   "metadata": {},
   "source": [
    "### Load Original supervoxel sizes"
   ]
  },
  {
   "cell_type": "code",
   "execution_count": 4,
   "metadata": {},
   "outputs": [
    {
     "name": "stdout",
     "output_type": "stream",
     "text": [
      "Volume contains 188243164 supervoxels and 22.5 Teravoxels in total\n",
      "CPU times: user 619 ms, sys: 822 ms, total: 1.44 s\n",
      "Wall time: 1.52 s\n"
     ]
    }
   ],
   "source": [
    "orig_sizes_file = '/groups/flyem/data/scratchspace/copyseg-configs/labelmaps/hemibrain/8nm/compute-8nm-extended-fixed-STATS-ONLY-20180402.192015/supervoxel-sizes.h5'\n",
    "%time orig_sv_sizes = load_supervoxel_sizes(orig_sizes_file)\n",
    "total_voxel_count = orig_sv_sizes.sum()"
   ]
  },
  {
   "cell_type": "markdown",
   "metadata": {},
   "source": [
    "### Fetch Supervoxel split fragment sizes"
   ]
  },
  {
   "cell_type": "code",
   "execution_count": 5,
   "metadata": {},
   "outputs": [],
   "source": [
    "# Initial agglo node\n",
    "instance_info = DvidInstanceInfo('emdata3:8900', 'ac90', 'segmentation')\n",
    "\n",
    "# Latest production node\n",
    "instance_info = DvidInstanceInfo('emdata3:8900', 'd5852c27b5c04687bb1be414f6dc2336', 'segmentation')"
   ]
  },
  {
   "cell_type": "code",
   "execution_count": 7,
   "metadata": {},
   "outputs": [
    {
     "name": "stdout",
     "output_type": "stream",
     "text": [
      "Reading kafka messages from kafka.int.janelia.org:9092 for emdata3:8900 / d5852c27b5c04687bb1be414f6dc2336 / segmentation\n",
      "Reading 380487 kafka messages took 17.42137622833252 seconds\n",
      "Fetching sizes for 5910 split supervoxels...\n",
      "Fetching sizes for 5910 split supervoxels took 0:00:11.259472\n"
     ]
    }
   ],
   "source": [
    "split_fragment_sizes = fetch_split_supervoxel_sizes(*instance_info)"
   ]
  },
  {
   "cell_type": "markdown",
   "metadata": {},
   "source": [
    "### Combine orig/split sizes"
   ]
  },
  {
   "cell_type": "code",
   "execution_count": 8,
   "metadata": {},
   "outputs": [],
   "source": [
    "sv_sizes = pd.concat((orig_sv_sizes, split_fragment_sizes))"
   ]
  },
  {
   "cell_type": "code",
   "execution_count": 9,
   "metadata": {},
   "outputs": [],
   "source": [
    "assert sv_sizes.index.dtype == np.uint64\n",
    "assert sv_sizes.dtype == np.uint32"
   ]
  },
  {
   "cell_type": "markdown",
   "metadata": {},
   "source": [
    "### Fetch mapping"
   ]
  },
  {
   "cell_type": "code",
   "execution_count": 10,
   "metadata": {},
   "outputs": [
    {
     "name": "stdout",
     "output_type": "stream",
     "text": [
      "Reading kafka messages from kafka.int.janelia.org:9092 for emdata3:8900 / d5852c27b5c04687bb1be414f6dc2336 / segmentation\n",
      "Reading 380487 kafka messages took 17.014442443847656 seconds\n",
      "Fetching http://emdata3:8900/api/node/d5852c27b5c04687bb1be414f6dc2336/segmentation/mappings...\n",
      "Fetching http://emdata3:8900/api/node/d5852c27b5c04687bb1be414f6dc2336/segmentation/mappings took 0:00:31.407138\n",
      "Parsing mapping...\n",
      "Parsing mapping took 0:00:08.209481\n",
      "Constructing missing identity-mappings...\n",
      "Constructing missing identity-mappings took 0:00:20.960173\n"
     ]
    }
   ],
   "source": [
    "mapping = fetch_complete_mappings(*instance_info)"
   ]
  },
  {
   "cell_type": "markdown",
   "metadata": {},
   "source": [
    "### Compute body sizes"
   ]
  },
  {
   "cell_type": "code",
   "execution_count": 11,
   "metadata": {},
   "outputs": [
    {
     "name": "stdout",
     "output_type": "stream",
     "text": [
      "Dropping unknown supervoxels\n",
      "Applying sizes to mapping\n",
      "Aggregating sizes by body\n"
     ]
    }
   ],
   "source": [
    "body_sizes = compute_body_sizes(sv_sizes, mapping)"
   ]
  },
  {
   "cell_type": "code",
   "execution_count": 12,
   "metadata": {},
   "outputs": [],
   "source": [
    "body_sizes.to_csv(f'/nrs/flyem/bergs/tmp/body-sizes-{instance_info.uuid[:4]}.csv')"
   ]
  },
  {
   "cell_type": "code",
   "execution_count": 13,
   "metadata": {},
   "outputs": [
    {
     "data": {
      "text/plain": [
       "(193876,)"
      ]
     },
     "execution_count": 13,
     "metadata": {},
     "output_type": "execute_result"
    }
   ],
   "source": [
    "large_body_sizes = body_sizes[body_sizes >= 10e6]\n",
    "large_body_sizes.shape"
   ]
  },
  {
   "cell_type": "markdown",
   "metadata": {},
   "source": [
    "### Optional: Filter by 0.5 bodies"
   ]
  },
  {
   "cell_type": "code",
   "execution_count": 16,
   "metadata": {},
   "outputs": [
    {
     "name": "stdout",
     "output_type": "stream",
     "text": [
      "Wrote to /nrs/flyem/bergs/tmp/focused-body-sizes-d585.csv\n"
     ]
    }
   ],
   "source": [
    "path = '/nrs/flyem/bergs/complete-ffn-agglo/bodies-0.5-including-psds-from-neuprint-52f9.csv'\n",
    "focused_bodies = set(pd.read_csv(path, header=None, names=['body'])['body'])\n",
    "filtered_body_sizes = body_sizes[body_sizes.index.isin(focused_bodies)]\n",
    "\n",
    "path = f'/nrs/flyem/bergs/tmp/focused-body-sizes-{instance_info.uuid[:4]}.csv'\n",
    "filtered_body_sizes.to_csv(path, header=True, index=True)\n",
    "print(f\"Wrote to {path}\")"
   ]
  }
 ],
 "metadata": {
  "kernelspec": {
   "display_name": "Python 3",
   "language": "python",
   "name": "python3"
  },
  "language_info": {
   "codemirror_mode": {
    "name": "ipython",
    "version": 3
   },
   "file_extension": ".py",
   "mimetype": "text/x-python",
   "name": "python",
   "nbconvert_exporter": "python",
   "pygments_lexer": "ipython3",
   "version": "3.6.2"
  }
 },
 "nbformat": 4,
 "nbformat_minor": 2
}
