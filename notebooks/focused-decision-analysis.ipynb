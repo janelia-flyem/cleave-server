{
 "cells": [
  {
   "cell_type": "code",
   "execution_count": 24,
   "metadata": {},
   "outputs": [],
   "source": [
    "import urllib\n",
    "from datetime import datetime\n",
    "\n",
    "import numpy as np\n",
    "import pandas as pd\n",
    "\n",
    "import hvplot.pandas\n",
    "\n",
    "from neuclease.dvid import *\n",
    "from neuclease.util import *\n",
    "from neuclease.focused.ingest import fetch_focused_decisions\n",
    "\n",
    "from neuclease import configure_default_logging\n",
    "configure_default_logging()"
   ]
  },
  {
   "cell_type": "markdown",
   "metadata": {},
   "source": [
    "### Proofreader Decisions"
   ]
  },
  {
   "cell_type": "code",
   "execution_count": 4,
   "metadata": {},
   "outputs": [
    {
     "name": "stdout",
     "output_type": "stream",
     "text": [
      "[2020-10-14 10:20:54,251] INFO Fetching keys from 'segmentation_focused'...\n",
      "[2020-10-14 10:20:55,316] INFO Fetching keys from 'segmentation_focused' took 0:00:01.063417\n",
      "[2020-10-14 10:20:55,316] INFO Fetching values from 'segmentation_focused'...\n"
     ]
    },
    {
     "data": {
      "application/vnd.jupyter.widget-view+json": {
       "model_id": "",
       "version_major": 2,
       "version_minor": 0
      },
      "text/plain": [
       "HBox(children=(FloatProgress(value=0.0, max=2.0), HTML(value='')))"
      ]
     },
     "metadata": {},
     "output_type": "display_data"
    },
    {
     "name": "stdout",
     "output_type": "stream",
     "text": [
      "[2020-10-14 10:21:10,773] INFO Fetching values from 'segmentation_focused' took 0:00:15.456224\n"
     ]
    },
    {
     "data": {
      "application/vnd.jupyter.widget-view+json": {
       "model_id": "de75a057f3254ad1bcf0db922ef4e37b",
       "version_major": 2,
       "version_minor": 0
      },
      "text/plain": [
       "HBox(children=(FloatProgress(value=0.0, max=209340.0), HTML(value='')))"
      ]
     },
     "metadata": {},
     "output_type": "display_data"
    },
    {
     "name": "stdout",
     "output_type": "stream",
     "text": [
      "\n"
     ]
    },
    {
     "data": {
      "application/vnd.jupyter.widget-view+json": {
       "model_id": "c0002bb17d6b43719c4d2e0feff85468",
       "version_major": 2,
       "version_minor": 0
      },
      "text/plain": [
       "HBox(children=(FloatProgress(value=0.0, max=209340.0), HTML(value='')))"
      ]
     },
     "metadata": {},
     "output_type": "display_data"
    },
    {
     "name": "stdout",
     "output_type": "stream",
     "text": [
      "\n"
     ]
    }
   ],
   "source": [
    "vnc_focused = ('https://hemibrain-dvid2.janelia.org', '36e0b', 'segmentation_focused')\n",
    "decisions = fetch_focused_decisions(*vnc_focused, normalize_pairs='sv', update_with_instance=None, is_hemibrain=False)\n",
    "\n",
    "# Use separate score columns depending on which process was used to generate the tasks\n",
    "decisions['score'] = [info['score'] if 'score' in info else np.nan for info in tqdm_proxy(decisions['edge_info'])]\n",
    "decisions['synth_score'] = [info['synth_score'] if 'synth_score' in info else np.nan for info in tqdm_proxy(decisions['edge_info'])]"
   ]
  },
  {
   "cell_type": "code",
   "execution_count": 98,
   "metadata": {},
   "outputs": [
    {
     "data": {},
     "metadata": {},
     "output_type": "display_data"
    },
    {
     "data": {
      "application/vnd.holoviews_exec.v0+json": "",
      "text/html": [
       "<div id='4095'>\n",
       "\n",
       "\n",
       "\n",
       "\n",
       "\n",
       "  <div class=\"bk-root\" id=\"1c0476c5-c01b-4424-9cb8-6496e49649a3\" data-root-id=\"4095\"></div>\n",
       "</div>\n",
       "<script type=\"application/javascript\">(function(root) {\n",
       "  function embed_document(root) {\n",
       "  var docs_json = {\"e1753a3c-02a4-469b-9ef5-b02e93f95cf3\":{\"roots\":{\"references\":[{\"attributes\":{\"data\":{\"index\":[\"2020-10-14\",\"2020-10-13\",\"2020-10-12\",\"2020-10-09\",\"2020-10-08\",\"2020-10-07\",\"2020-10-06\",\"2020-10-05\",\"2020-10-03\",\"2020-10-02\",\"2020-10-01\",\"2020-09-30\",\"2020-09-29\",\"2020-09-28\",\"2020-09-25\",\"2020-09-24\",\"2020-09-23\",\"2020-09-22\",\"2020-09-21\",\"2020-09-18\",\"2020-09-17\",\"2020-09-16\",\"2020-09-15\"],\"total_tasks_per_day\":[1779,8841,8038,6304,8660,10849,10147,11519,1,12153,11141,10900,10293,9762,12199,9101,11402,11468,9768,11961,9771,8645,4638]},\"selected\":{\"id\":\"4130\"},\"selection_policy\":{\"id\":\"4148\"}},\"id\":\"4129\",\"type\":\"ColumnDataSource\"},{\"attributes\":{\"data_source\":{\"id\":\"4129\"},\"glyph\":{\"id\":\"4132\"},\"hover_glyph\":null,\"muted_glyph\":{\"id\":\"4134\"},\"nonselection_glyph\":{\"id\":\"4133\"},\"selection_glyph\":null,\"view\":{\"id\":\"4136\"}},\"id\":\"4135\",\"type\":\"GlyphRenderer\"},{\"attributes\":{\"fill_color\":{\"value\":\"#1f77b3\"},\"height\":{\"value\":0.8},\"right\":{\"field\":\"total_tasks_per_day\"},\"y\":{\"field\":\"index\"}},\"id\":\"4132\",\"type\":\"HBar\"},{\"attributes\":{},\"id\":\"4107\",\"type\":\"CategoricalScale\"},{\"attributes\":{\"fill_alpha\":{\"value\":0.2},\"fill_color\":{\"value\":\"#1f77b3\"},\"height\":{\"value\":0.8},\"line_alpha\":{\"value\":0.2},\"right\":{\"field\":\"total_tasks_per_day\"},\"y\":{\"field\":\"index\"}},\"id\":\"4134\",\"type\":\"HBar\"},{\"attributes\":{\"active_drag\":\"auto\",\"active_inspect\":\"auto\",\"active_multi\":null,\"active_scroll\":\"auto\",\"active_tap\":\"auto\",\"tools\":[{\"id\":\"4099\"},{\"id\":\"4116\"},{\"id\":\"4117\"},{\"id\":\"4118\"},{\"id\":\"4119\"},{\"id\":\"4120\"}]},\"id\":\"4122\",\"type\":\"Toolbar\"},{\"attributes\":{},\"id\":\"4105\",\"type\":\"LinearScale\"},{\"attributes\":{\"source\":{\"id\":\"4129\"}},\"id\":\"4136\",\"type\":\"CDSView\"},{\"attributes\":{\"margin\":[5,5,5,5],\"name\":\"HSpacer09639\",\"sizing_mode\":\"stretch_width\"},\"id\":\"4096\",\"type\":\"Spacer\"},{\"attributes\":{},\"id\":\"4140\",\"type\":\"CategoricalTickFormatter\"},{\"attributes\":{\"bottom_units\":\"screen\",\"fill_alpha\":0.5,\"fill_color\":\"lightgrey\",\"left_units\":\"screen\",\"level\":\"overlay\",\"line_alpha\":1.0,\"line_color\":\"black\",\"line_dash\":[4,4],\"line_width\":2,\"right_units\":\"screen\",\"top_units\":\"screen\"},\"id\":\"4121\",\"type\":\"BoxAnnotation\"},{\"attributes\":{},\"id\":\"4114\",\"type\":\"CategoricalTicker\"},{\"attributes\":{\"end\":13418.8,\"reset_end\":13418.8,\"reset_start\":0.0,\"tags\":[[[\"total tasks per day\",\"total tasks per day\",null]]]},\"id\":\"4097\",\"type\":\"Range1d\"},{\"attributes\":{},\"id\":\"4148\",\"type\":\"UnionRenderers\"},{\"attributes\":{\"axis\":{\"id\":\"4109\"},\"grid_line_color\":null,\"ticker\":null},\"id\":\"4112\",\"type\":\"Grid\"},{\"attributes\":{},\"id\":\"4110\",\"type\":\"BasicTicker\"},{\"attributes\":{\"axis_label\":\"\",\"bounds\":\"auto\",\"formatter\":{\"id\":\"4137\"},\"major_label_orientation\":\"horizontal\",\"ticker\":{\"id\":\"4110\"}},\"id\":\"4109\",\"type\":\"LinearAxis\"},{\"attributes\":{},\"id\":\"4116\",\"type\":\"SaveTool\"},{\"attributes\":{\"text\":\"total tasks per day\",\"text_color\":{\"value\":\"black\"},\"text_font_size\":{\"value\":\"12pt\"}},\"id\":\"4101\",\"type\":\"Title\"},{\"attributes\":{\"children\":[{\"id\":\"4096\"},{\"id\":\"4100\"},{\"id\":\"4157\"}],\"margin\":[0,0,0,0],\"name\":\"Row09635\",\"tags\":[\"embedded\"]},\"id\":\"4095\",\"type\":\"Row\"},{\"attributes\":{\"axis_label\":\"\",\"bounds\":\"auto\",\"formatter\":{\"id\":\"4140\"},\"major_label_orientation\":\"horizontal\",\"ticker\":{\"id\":\"4114\"}},\"id\":\"4113\",\"type\":\"CategoricalAxis\"},{\"attributes\":{\"factors\":[\"2020-10-14\",\"2020-10-13\",\"2020-10-12\",\"2020-10-09\",\"2020-10-08\",\"2020-10-07\",\"2020-10-06\",\"2020-10-05\",\"2020-10-03\",\"2020-10-02\",\"2020-10-01\",\"2020-09-30\",\"2020-09-29\",\"2020-09-28\",\"2020-09-25\",\"2020-09-24\",\"2020-09-23\",\"2020-09-22\",\"2020-09-21\",\"2020-09-18\",\"2020-09-17\",\"2020-09-16\",\"2020-09-15\"],\"tags\":[[[\"index\",\"index\",null]]]},\"id\":\"4098\",\"type\":\"FactorRange\"},{\"attributes\":{\"overlay\":{\"id\":\"4121\"}},\"id\":\"4119\",\"type\":\"BoxZoomTool\"},{\"attributes\":{\"axis\":{\"id\":\"4113\"},\"dimension\":1,\"grid_line_color\":null,\"ticker\":null},\"id\":\"4115\",\"type\":\"Grid\"},{\"attributes\":{\"fill_alpha\":{\"value\":0.1},\"fill_color\":{\"value\":\"#1f77b3\"},\"height\":{\"value\":0.8},\"line_alpha\":{\"value\":0.1},\"right\":{\"field\":\"total_tasks_per_day\"},\"y\":{\"field\":\"index\"}},\"id\":\"4133\",\"type\":\"HBar\"},{\"attributes\":{},\"id\":\"4137\",\"type\":\"BasicTickFormatter\"},{\"attributes\":{\"callback\":null,\"renderers\":[{\"id\":\"4135\"}],\"tags\":[\"hv_created\"],\"tooltips\":[[\"index\",\"@{index}\"],[\"total tasks per day\",\"@{total_tasks_per_day}\"]]},\"id\":\"4099\",\"type\":\"HoverTool\"},{\"attributes\":{},\"id\":\"4120\",\"type\":\"ResetTool\"},{\"attributes\":{\"margin\":[5,5,5,5],\"name\":\"HSpacer09640\",\"sizing_mode\":\"stretch_width\"},\"id\":\"4157\",\"type\":\"Spacer\"},{\"attributes\":{},\"id\":\"4117\",\"type\":\"PanTool\"},{\"attributes\":{},\"id\":\"4130\",\"type\":\"Selection\"},{\"attributes\":{},\"id\":\"4118\",\"type\":\"WheelZoomTool\"},{\"attributes\":{\"align\":null,\"below\":[{\"id\":\"4109\"}],\"center\":[{\"id\":\"4112\"},{\"id\":\"4115\"}],\"left\":[{\"id\":\"4113\"}],\"margin\":null,\"min_border_bottom\":10,\"min_border_left\":10,\"min_border_right\":10,\"min_border_top\":10,\"plot_height\":300,\"plot_width\":700,\"renderers\":[{\"id\":\"4135\"}],\"sizing_mode\":\"fixed\",\"title\":{\"id\":\"4101\"},\"toolbar\":{\"id\":\"4122\"},\"x_range\":{\"id\":\"4097\"},\"x_scale\":{\"id\":\"4105\"},\"y_range\":{\"id\":\"4098\"},\"y_scale\":{\"id\":\"4107\"}},\"id\":\"4100\",\"subtype\":\"Figure\",\"type\":\"Plot\"}],\"root_ids\":[\"4095\"]},\"title\":\"Bokeh Application\",\"version\":\"2.2.1\"}};\n",
       "  var render_items = [{\"docid\":\"e1753a3c-02a4-469b-9ef5-b02e93f95cf3\",\"root_ids\":[\"4095\"],\"roots\":{\"4095\":\"1c0476c5-c01b-4424-9cb8-6496e49649a3\"}}];\n",
       "  root.Bokeh.embed.embed_items_notebook(docs_json, render_items);\n",
       "  }\n",
       "if (root.Bokeh !== undefined) {\n",
       "    embed_document(root);\n",
       "  } else {\n",
       "    var attempts = 0;\n",
       "    var timer = setInterval(function(root) {\n",
       "      if (root.Bokeh !== undefined) {\n",
       "        clearInterval(timer);\n",
       "        embed_document(root);\n",
       "      } else if (document.readyState == \"complete\") {\n",
       "        attempts++;\n",
       "        if (attempts > 100) {\n",
       "          clearInterval(timer);\n",
       "          console.log(\"Bokeh: ERROR: Unable to run BokehJS code because BokehJS library is missing\");\n",
       "        }\n",
       "      }\n",
       "    }, 10, root)\n",
       "  }\n",
       "})(window);</script>"
      ],
      "text/plain": [
       ":Bars   [index]   (total tasks per day)"
      ]
     },
     "execution_count": 98,
     "metadata": {
      "application/vnd.holoviews_exec.v0+json": {
       "id": "4095"
      }
     },
     "output_type": "execute_result"
    }
   ],
   "source": [
    "decisions['date_eastern'].astype(str).value_counts().rename('total tasks per day').sort_index(ascending=False).hvplot.barh()"
   ]
  },
  {
   "cell_type": "markdown",
   "metadata": {},
   "source": [
    "### Check today's merge rate"
   ]
  },
  {
   "cell_type": "code",
   "execution_count": 35,
   "metadata": {},
   "outputs": [
    {
     "data": {
      "text/html": [
       "<div>\n",
       "<style scoped>\n",
       "    .dataframe tbody tr th:only-of-type {\n",
       "        vertical-align: middle;\n",
       "    }\n",
       "\n",
       "    .dataframe tbody tr th {\n",
       "        vertical-align: top;\n",
       "    }\n",
       "\n",
       "    .dataframe thead th {\n",
       "        text-align: right;\n",
       "    }\n",
       "</style>\n",
       "<table border=\"1\" class=\"dataframe\">\n",
       "  <thead>\n",
       "    <tr style=\"text-align: right;\">\n",
       "      <th></th>\n",
       "      <th>count</th>\n",
       "      <th>pct</th>\n",
       "    </tr>\n",
       "    <tr>\n",
       "      <th>result</th>\n",
       "      <th></th>\n",
       "      <th></th>\n",
       "    </tr>\n",
       "  </thead>\n",
       "  <tbody>\n",
       "    <tr>\n",
       "      <th>dontMerge</th>\n",
       "      <td>1046</td>\n",
       "      <td>58.8</td>\n",
       "    </tr>\n",
       "    <tr>\n",
       "      <th>merge</th>\n",
       "      <td>725</td>\n",
       "      <td>40.8</td>\n",
       "    </tr>\n",
       "    <tr>\n",
       "      <th>dontKnow</th>\n",
       "      <td>8</td>\n",
       "      <td>0.4</td>\n",
       "    </tr>\n",
       "    <tr>\n",
       "      <th>skip (same body ID)</th>\n",
       "      <td>0</td>\n",
       "      <td>0.0</td>\n",
       "    </tr>\n",
       "  </tbody>\n",
       "</table>\n",
       "</div>"
      ],
      "text/plain": [
       "                     count   pct\n",
       "result                          \n",
       "dontMerge             1046  58.8\n",
       "merge                  725  40.8\n",
       "dontKnow                 8   0.4\n",
       "skip (same body ID)      0   0.0"
      ]
     },
     "metadata": {},
     "output_type": "display_data"
    },
    {
     "data": {
      "image/png": "[encoded data removed]",
      "text/plain": [
       "<Figure size 432x288 with 1 Axes>"
      ]
     },
     "metadata": {},
     "output_type": "display_data"
    }
   ],
   "source": [
    "today = datetime.now().date()\n",
    "today_decisions = decisions.query('date_eastern == @today')\n",
    "\n",
    "vc = today_decisions['result'].value_counts().rename('count').rename_axis('result').to_frame()\n",
    "vc['pct'] = 100*(vc['count'] / vc['count'].sum())\n",
    "vc['pct'] = np.round(vc['pct'], 1)\n",
    "display(vc)\n",
    "vc['count'].plot(kind='pie', title=\"Today's decisions\");"
   ]
  },
  {
   "cell_type": "markdown",
   "metadata": {},
   "source": [
    "### Per-user analysis"
   ]
  },
  {
   "cell_type": "code",
   "execution_count": 99,
   "metadata": {},
   "outputs": [],
   "source": [
    "df = decisions\n",
    "\n",
    "# Optional: Query for some decisions only\n",
    "#df = decisions.query('not synth_score.isnull()')\n",
    "\n",
    "user_merge_rates = df.groupby('user')['result'].agg(lambda s: s.value_counts()).reset_index()\n",
    "user_merge_rates.columns = ['user', 'result', 'count']\n",
    "user_merge_rates = user_merge_rates.merge( user_merge_rates.groupby('user')['count'].sum().rename('total_tasks').reset_index(), 'left', on='user' )\n",
    "user_merge_rates = user_merge_rates.sort_values('total_tasks')\n",
    "user_merge_rates['rate'] = user_merge_rates['count'] / user_merge_rates['total_tasks']\n",
    "user_merge_rates = user_merge_rates.query('count > 0')"
   ]
  },
  {
   "cell_type": "code",
   "execution_count": 97,
   "metadata": {},
   "outputs": [
    {
     "data": {},
     "metadata": {},
     "output_type": "display_data"
    },
    {
     "data": {
      "application/vnd.holoviews_exec.v0+json": "",
      "text/html": [
       "<div id='3980'>\n",
       "\n",
       "\n",
       "\n",
       "\n",
       "\n",
       "  <div class=\"bk-root\" id=\"0c6d5b55-e2f3-46d2-a2e4-fc9d49e15224\" data-root-id=\"3980\"></div>\n",
       "</div>\n",
       "<script type=\"application/javascript\">(function(root) {\n",
       "  function embed_document(root) {\n",
       "  var docs_json = {\"a543949f-2d56-4329-9e44-6c3c91d85ec7\":{\"roots\":{\"references\":[{\"attributes\":{\"children\":[{\"id\":\"3981\"},{\"id\":\"3985\"},{\"id\":\"4053\"}],\"margin\":[0,0,0,0],\"name\":\"Row09333\",\"tags\":[\"embedded\"]},\"id\":\"3980\",\"type\":\"Row\"},{\"attributes\":{},\"id\":\"4005\",\"type\":\"ResetTool\"},{\"attributes\":{\"margin\":[5,5,5,5],\"name\":\"HSpacer09337\",\"sizing_mode\":\"stretch_width\"},\"id\":\"3981\",\"type\":\"Spacer\"},{\"attributes\":{\"align\":null,\"below\":[{\"id\":\"3994\"}],\"center\":[{\"id\":\"3997\"},{\"id\":\"4000\"},{\"id\":\"4031\"}],\"left\":[{\"id\":\"3998\"}],\"margin\":null,\"min_border_bottom\":10,\"min_border_left\":10,\"min_border_right\":10,\"min_border_top\":10,\"plot_height\":400,\"plot_width\":700,\"renderers\":[{\"id\":\"4021\"}],\"sizing_mode\":\"fixed\",\"title\":{\"id\":\"3986\"},\"toolbar\":{\"id\":\"4007\"},\"x_range\":{\"id\":\"3982\"},\"x_scale\":{\"id\":\"3990\"},\"y_range\":{\"id\":\"3983\"},\"y_scale\":{\"id\":\"3992\"}},\"id\":\"3985\",\"subtype\":\"Figure\",\"type\":\"Plot\"},{\"attributes\":{\"end\":18078.4,\"reset_end\":18078.4,\"reset_start\":0.0,\"tags\":[[[\"count\",\"count\",null]]]},\"id\":\"3982\",\"type\":\"Range1d\"},{\"attributes\":{},\"id\":\"4001\",\"type\":\"SaveTool\"},{\"attributes\":{},\"id\":\"3995\",\"type\":\"BasicTicker\"},{\"attributes\":{\"text\":\"decisions per user\",\"text_color\":{\"value\":\"black\"},\"text_font_size\":{\"value\":\"12pt\"}},\"id\":\"3986\",\"type\":\"Title\"},{\"attributes\":{\"callback\":null,\"renderers\":[{\"id\":\"4021\"}],\"tags\":[\"hv_created\"],\"tooltips\":[[\"user\",\"@{user}\"],[\"result\",\"@{result}\"],[\"count\",\"@{count}\"]]},\"id\":\"3984\",\"type\":\"HoverTool\"},{\"attributes\":{\"margin\":[5,5,5,5],\"name\":\"HSpacer09338\",\"sizing_mode\":\"stretch_width\"},\"id\":\"4053\",\"type\":\"Spacer\"},{\"attributes\":{\"data\":{\"bottom\":{\"__ndarray__\":\"AAAAAAAAAAAAAAAAAAAAAAAAAAAAAAAAAAAAAAAAAAAAAAAAAAAAAAAAAAAAAAAAAAAAAAAAAAAAAAAAAAAAAAAAAAAAAAAAAAAAAAAAAAAAAAAAAAAAAAAAAAAAAAAAAAAAAAAAAAAAAAAAAAAAAAAAAAAAAAAAAAAAAAAAAAAAAAAAAAAAAAAAAAAAAAAAAAAAAAAAAAAAAAAAAAAAAAAAAAAAAAAAAAAAAAAAAAAAAAAAAAAAAAAAAAAAAAAAAAAAAAAAAAAAAAAAAAAAAAAAAAAAAAAAAAAAAAAAAAAAAAAAAAAAAAAAAAAAAAAAAAAAAAAAAAAAAAAAANu3QAAAAACAZsNAAAAAAAC4s0AAAAAAAPG0QAAAAAAAZbZAAAAAAACatEAAAAAAAJW0QAAAAAAA1rZAAAAAAAAGukAAAAAAAH64QAAAAAAAybZAAAAAAABFukAAAAAAAAm/QAAAAAAAjK5AAAAAAADkwkAAAAAAAMKjQAAAAAAANqJAAAAAAAA0mEAAAAAAAKKlQAAAAAAAWqlAAAAAAAAwn0AAAAAAAKqqQAAAAAAA1JNAAAAAAAAAq0AAAAAAADyjQAAAAAAAEJBAAAAAAADcr0AAAAAAAABnQAAAAAAAzqxAAAAAAAC1sEAAAAAAAMyYQAAAAAAALcRAAAAAAACAo0AAAAAAAGHEQAAAAAAAE89AAAAAAIBwxEAAAAAAAM6lQAAAAAAAkKpAAAAAAIDSx0AAAAAAAFKhQAAAAAAA4rlAAAAAAABbwkAAAAAAAO22QAAAAAAAt7xAAAAAAACNvkAAAAAAADW2QAAAAAAA2rVAAAAAAABSv0AAAAAAAPC/QAAAAAAAsbNAAAAAAACWs0AAAAAAAEnAQAAAAAAAPLJAAAAAAAA9wUAAAAAAgOzBQAAAAAAADNBAAAAAAAAnsEAAAAAAAESuQAAAAAAADblA\",\"dtype\":\"float64\",\"order\":\"little\",\"shape\":[90]},\"count\":[1,3910,2529,6662,2769,5269,3245,5733,3413,5274,3456,5361,4078,5048,3687,4277,2462,6107,5833,9672,184,6725,1549,6270,1996,9933,1028,5846,2331,1269,7945,3291,5977,2303,2460,2443,2744,3069,4588,2164,4195,3344,3605,4252,2716,6760,1606,1069,1242,1899,1769,500,1628,948,2138,1412,559,1607,96,2182,2136,12,44,1,102,18,4,9,4,83,21,1,33,103,3,9,9,7,16,1,141,1,2,14,3,15,3,104,2,11],\"result\":[\"merge\",\"merge\",\"merge\",\"merge\",\"merge\",\"merge\",\"merge\",\"merge\",\"merge\",\"merge\",\"merge\",\"merge\",\"merge\",\"merge\",\"merge\",\"merge\",\"merge\",\"merge\",\"merge\",\"merge\",\"merge\",\"merge\",\"merge\",\"merge\",\"merge\",\"merge\",\"merge\",\"merge\",\"merge\",\"merge\",\"merge\",\"dontMerge\",\"dontMerge\",\"dontMerge\",\"dontMerge\",\"dontMerge\",\"dontMerge\",\"dontMerge\",\"dontMerge\",\"dontMerge\",\"dontMerge\",\"dontMerge\",\"dontMerge\",\"dontMerge\",\"dontMerge\",\"dontMerge\",\"dontMerge\",\"dontMerge\",\"dontMerge\",\"dontMerge\",\"dontMerge\",\"dontMerge\",\"dontMerge\",\"dontMerge\",\"dontMerge\",\"dontMerge\",\"dontMerge\",\"dontMerge\",\"dontMerge\",\"dontMerge\",\"dontMerge\",\"dontKnow\",\"dontKnow\",\"dontKnow\",\"dontKnow\",\"dontKnow\",\"dontKnow\",\"dontKnow\",\"dontKnow\",\"dontKnow\",\"dontKnow\",\"dontKnow\",\"dontKnow\",\"dontKnow\",\"dontKnow\",\"dontKnow\",\"dontKnow\",\"dontKnow\",\"dontKnow\",\"dontKnow\",\"dontKnow\",\"dontKnow\",\"dontKnow\",\"dontKnow\",\"dontKnow\",\"dontKnow\",\"dontKnow\",\"dontKnow\",\"dontKnow\",\"dontKnow\"],\"top\":{\"__ndarray__\":\"AAAAAAAA8D8AAAAAAIyuQAAAAAAAwqNAAAAAAAAGukAAAAAAAKKlQAAAAAAAlbRAAAAAAABaqUAAAAAAAGW2QAAAAAAAqqpAAAAAAACatEAAAAAAAACrQAAAAAAA8bRAAAAAAADcr0AAAAAAALizQAAAAAAAzqxAAAAAAAC1sEAAAAAAADyjQAAAAAAA27dAAAAAAADJtkAAAAAAAOTCQAAAAAAAAGdAAAAAAABFukAAAAAAADSYQAAAAAAAfrhAAAAAAAAwn0AAAAAAgGbDQAAAAAAAEJBAAAAAAADWtkAAAAAAADaiQAAAAAAA1JNAAAAAAAAJv0AAAAAAAFvCQAAAAAAAE89AAAAAAAC3vEAAAAAAAI2+QAAAAAAA8L9AAAAAAABSv0AAAAAAAEnAQAAAAAAAYcRAAAAAAAA9wUAAAAAAgHDEQAAAAACA7MFAAAAAAAAtxEAAAAAAgNLHQAAAAAAA4rlAAAAAAAAM0EAAAAAAACewQAAAAAAAkKpAAAAAAADOpUAAAAAAADyyQAAAAAAAlrNAAAAAAACAo0AAAAAAALGzQAAAAAAAUqFAAAAAAADatUAAAAAAAESuQAAAAAAAzJhAAAAAAAA1tkAAAAAAAIBxQAAAAAAA7bZAAAAAAAANuUAAAAAAAPyYQAAAAAAAQ8RAAAAAAACCo0AAAAAAAJTEQAAAAAAAHM9AAAAAAIByxEAAAAAAAOClQAAAAAAAmKpAAAAAAAD8x0AAAAAAAHyhQAAAAAAA47lAAAAAAIBrwkAAAAAAAFS3QAAAAAAAurxAAAAAAACWvkAAAAAAAD62QAAAAAAA4bVAAAAAAABiv0AAAAAAAPG/QAAAAAAAPrRAAAAAAACXs0AAAAAAAErAQAAAAAAASrJAAAAAAIA+wUAAAAAAAPTBQAAAAADADNBAAAAAAACPsEAAAAAAAEiuQAAAAAAAGLlA\",\"dtype\":\"float64\",\"order\":\"little\",\"shape\":[90]},\"user\":[\"cjk7067@gmail.com\",\"mr.walsh.jr@gmail.com\",\"csmith792@gmail.com\",\"brandoncanino808@gmail.com\",\"phillips.m.emily@gmail.com\",\"dennis.aa.bailey@gmail.com\",\"kelli.fairbanks@gmail.com\",\"scott.ashleylauren@gmail.com\",\"gary.patrick.hopkins@gmail.com\",\"anniekayscott@gmail.com\",\"quatretribunal@gmail.com\",\"ribeirocaitlin@gmail.com\",\"charli.tiscareno@gmail.com\",\"nneoma.okeoma@gmail.com\",\"slauchie@gmail.com\",\"iris.talebi@gmail.com\",\"satn2030@gmail.com\",\"octave2014@gmail.com\",\"sm.ryan1412@gmail.com\",\"natalielynnsmith@gmail.com\",\"unknown\",\"thomsonrymer@gmail.com\",\"alfrancis1996@gmail.com\",\"emanley8794@gmail.com\",\"paterson1391@gmail.com\",\"tieka14@gmail.com\",\"aliansuleiman95@gmail.com\",\"alanna.lohff@gmail.com\",\"cookmichaeledward@gmail.com\",\"sammie42finley@gmail.com\",\"elliott.phillips9@gmail.com\",\"octave2014@gmail.com\",\"tieka14@gmail.com\",\"nneoma.okeoma@gmail.com\",\"ribeirocaitlin@gmail.com\",\"scott.ashleylauren@gmail.com\",\"anniekayscott@gmail.com\",\"dennis.aa.bailey@gmail.com\",\"alanna.lohff@gmail.com\",\"brandoncanino808@gmail.com\",\"emanley8794@gmail.com\",\"sm.ryan1412@gmail.com\",\"thomsonrymer@gmail.com\",\"elliott.phillips9@gmail.com\",\"mr.walsh.jr@gmail.com\",\"natalielynnsmith@gmail.com\",\"csmith792@gmail.com\",\"cookmichaeledward@gmail.com\",\"alfrancis1996@gmail.com\",\"phillips.m.emily@gmail.com\",\"kelli.fairbanks@gmail.com\",\"paterson1391@gmail.com\",\"gary.patrick.hopkins@gmail.com\",\"sammie42finley@gmail.com\",\"quatretribunal@gmail.com\",\"satn2030@gmail.com\",\"aliansuleiman95@gmail.com\",\"charli.tiscareno@gmail.com\",\"unknown\",\"slauchie@gmail.com\",\"iris.talebi@gmail.com\",\"aliansuleiman95@gmail.com\",\"thomsonrymer@gmail.com\",\"paterson1391@gmail.com\",\"alanna.lohff@gmail.com\",\"tieka14@gmail.com\",\"emanley8794@gmail.com\",\"alfrancis1996@gmail.com\",\"cookmichaeledward@gmail.com\",\"elliott.phillips9@gmail.com\",\"sammie42finley@gmail.com\",\"mr.walsh.jr@gmail.com\",\"octave2014@gmail.com\",\"slauchie@gmail.com\",\"nneoma.okeoma@gmail.com\",\"ribeirocaitlin@gmail.com\",\"charli.tiscareno@gmail.com\",\"quatretribunal@gmail.com\",\"anniekayscott@gmail.com\",\"scott.ashleylauren@gmail.com\",\"gary.patrick.hopkins@gmail.com\",\"kelli.fairbanks@gmail.com\",\"dennis.aa.bailey@gmail.com\",\"phillips.m.emily@gmail.com\",\"brandoncanino808@gmail.com\",\"sm.ryan1412@gmail.com\",\"natalielynnsmith@gmail.com\",\"csmith792@gmail.com\",\"satn2030@gmail.com\",\"iris.talebi@gmail.com\"]},\"selected\":{\"id\":\"4016\"},\"selection_policy\":{\"id\":\"4030\"}},\"id\":\"4015\",\"type\":\"ColumnDataSource\"},{\"attributes\":{},\"id\":\"4016\",\"type\":\"Selection\"},{\"attributes\":{\"fill_alpha\":{\"value\":0.1},\"fill_color\":{\"field\":\"result\",\"transform\":{\"id\":\"4014\"}},\"height\":{\"value\":0.8},\"left\":{\"field\":\"bottom\"},\"line_alpha\":{\"value\":0.1},\"right\":{\"field\":\"top\"},\"y\":{\"field\":\"user\"}},\"id\":\"4019\",\"type\":\"HBar\"},{\"attributes\":{},\"id\":\"3999\",\"type\":\"CategoricalTicker\"},{\"attributes\":{\"data_source\":{\"id\":\"4015\"},\"glyph\":{\"id\":\"4018\"},\"hover_glyph\":null,\"muted_glyph\":{\"id\":\"4020\"},\"nonselection_glyph\":{\"id\":\"4019\"},\"selection_glyph\":null,\"view\":{\"id\":\"4022\"}},\"id\":\"4021\",\"type\":\"GlyphRenderer\"},{\"attributes\":{\"items\":[{\"id\":\"4032\"}],\"location\":\"bottom_right\"},\"id\":\"4031\",\"type\":\"Legend\"},{\"attributes\":{},\"id\":\"3992\",\"type\":\"CategoricalScale\"},{\"attributes\":{\"axis_label\":\"\",\"bounds\":\"auto\",\"formatter\":{\"id\":\"4026\"},\"major_label_orientation\":\"horizontal\",\"ticker\":{\"id\":\"3999\"}},\"id\":\"3998\",\"type\":\"CategoricalAxis\"},{\"attributes\":{\"bottom_units\":\"screen\",\"fill_alpha\":0.5,\"fill_color\":\"lightgrey\",\"left_units\":\"screen\",\"level\":\"overlay\",\"line_alpha\":1.0,\"line_color\":\"black\",\"line_dash\":[4,4],\"line_width\":2,\"right_units\":\"screen\",\"top_units\":\"screen\"},\"id\":\"4006\",\"type\":\"BoxAnnotation\"},{\"attributes\":{\"axis\":{\"id\":\"3994\"},\"grid_line_color\":null,\"ticker\":null},\"id\":\"3997\",\"type\":\"Grid\"},{\"attributes\":{\"source\":{\"id\":\"4015\"}},\"id\":\"4022\",\"type\":\"CDSView\"},{\"attributes\":{\"active_drag\":\"auto\",\"active_inspect\":\"auto\",\"active_multi\":null,\"active_scroll\":\"auto\",\"active_tap\":\"auto\",\"tools\":[{\"id\":\"3984\"},{\"id\":\"4001\"},{\"id\":\"4002\"},{\"id\":\"4003\"},{\"id\":\"4004\"},{\"id\":\"4005\"}]},\"id\":\"4007\",\"type\":\"Toolbar\"},{\"attributes\":{\"factors\":[\"merge\",\"dontMerge\",\"dontKnow\"],\"palette\":[\"#1f77b3\",\"#ff7e0e\",\"#2ba02b\"]},\"id\":\"4014\",\"type\":\"CategoricalColorMapper\"},{\"attributes\":{\"label\":{\"field\":\"result\"},\"renderers\":[{\"id\":\"4021\"}]},\"id\":\"4032\",\"type\":\"LegendItem\"},{\"attributes\":{},\"id\":\"3990\",\"type\":\"LinearScale\"},{\"attributes\":{},\"id\":\"4002\",\"type\":\"PanTool\"},{\"attributes\":{\"axis\":{\"id\":\"3998\"},\"dimension\":1,\"grid_line_color\":null,\"ticker\":null},\"id\":\"4000\",\"type\":\"Grid\"},{\"attributes\":{},\"id\":\"4003\",\"type\":\"WheelZoomTool\"},{\"attributes\":{},\"id\":\"4026\",\"type\":\"CategoricalTickFormatter\"},{\"attributes\":{\"axis_label\":\"count\",\"bounds\":\"auto\",\"formatter\":{\"id\":\"4024\"},\"major_label_orientation\":\"horizontal\",\"ticker\":{\"id\":\"3995\"}},\"id\":\"3994\",\"type\":\"LinearAxis\"},{\"attributes\":{\"overlay\":{\"id\":\"4006\"}},\"id\":\"4004\",\"type\":\"BoxZoomTool\"},{\"attributes\":{\"fill_alpha\":{\"value\":0.2},\"fill_color\":{\"field\":\"result\",\"transform\":{\"id\":\"4014\"}},\"height\":{\"value\":0.8},\"left\":{\"field\":\"bottom\"},\"line_alpha\":{\"value\":0.2},\"right\":{\"field\":\"top\"},\"y\":{\"field\":\"user\"}},\"id\":\"4020\",\"type\":\"HBar\"},{\"attributes\":{},\"id\":\"4030\",\"type\":\"UnionRenderers\"},{\"attributes\":{},\"id\":\"4024\",\"type\":\"BasicTickFormatter\"},{\"attributes\":{\"fill_color\":{\"field\":\"result\",\"transform\":{\"id\":\"4014\"}},\"height\":{\"value\":0.8},\"left\":{\"field\":\"bottom\"},\"right\":{\"field\":\"top\"},\"y\":{\"field\":\"user\"}},\"id\":\"4018\",\"type\":\"HBar\"},{\"attributes\":{\"factors\":[\"cjk7067@gmail.com\",\"unknown\",\"aliansuleiman95@gmail.com\",\"sammie42finley@gmail.com\",\"paterson1391@gmail.com\",\"alfrancis1996@gmail.com\",\"cookmichaeledward@gmail.com\",\"satn2030@gmail.com\",\"csmith792@gmail.com\",\"phillips.m.emily@gmail.com\",\"kelli.fairbanks@gmail.com\",\"gary.patrick.hopkins@gmail.com\",\"quatretribunal@gmail.com\",\"charli.tiscareno@gmail.com\",\"slauchie@gmail.com\",\"iris.talebi@gmail.com\",\"mr.walsh.jr@gmail.com\",\"nneoma.okeoma@gmail.com\",\"ribeirocaitlin@gmail.com\",\"anniekayscott@gmail.com\",\"scott.ashleylauren@gmail.com\",\"dennis.aa.bailey@gmail.com\",\"brandoncanino808@gmail.com\",\"sm.ryan1412@gmail.com\",\"octave2014@gmail.com\",\"thomsonrymer@gmail.com\",\"emanley8794@gmail.com\",\"alanna.lohff@gmail.com\",\"elliott.phillips9@gmail.com\",\"tieka14@gmail.com\",\"natalielynnsmith@gmail.com\"],\"tags\":[[[\"user\",\"user\",null]]]},\"id\":\"3983\",\"type\":\"FactorRange\"}],\"root_ids\":[\"3980\"]},\"title\":\"Bokeh Application\",\"version\":\"2.2.1\"}};\n",
       "  var render_items = [{\"docid\":\"a543949f-2d56-4329-9e44-6c3c91d85ec7\",\"root_ids\":[\"3980\"],\"roots\":{\"3980\":\"0c6d5b55-e2f3-46d2-a2e4-fc9d49e15224\"}}];\n",
       "  root.Bokeh.embed.embed_items_notebook(docs_json, render_items);\n",
       "  }\n",
       "if (root.Bokeh !== undefined) {\n",
       "    embed_document(root);\n",
       "  } else {\n",
       "    var attempts = 0;\n",
       "    var timer = setInterval(function(root) {\n",
       "      if (root.Bokeh !== undefined) {\n",
       "        clearInterval(timer);\n",
       "        embed_document(root);\n",
       "      } else if (document.readyState == \"complete\") {\n",
       "        attempts++;\n",
       "        if (attempts > 100) {\n",
       "          clearInterval(timer);\n",
       "          console.log(\"Bokeh: ERROR: Unable to run BokehJS code because BokehJS library is missing\");\n",
       "        }\n",
       "      }\n",
       "    }, 10, root)\n",
       "  }\n",
       "})(window);</script>"
      ],
      "text/plain": [
       ":Bars   [user,result]   (count)"
      ]
     },
     "execution_count": 97,
     "metadata": {
      "application/vnd.holoviews_exec.v0+json": {
       "id": "3980"
      }
     },
     "output_type": "execute_result"
    }
   ],
   "source": [
    "user_merge_rates.set_index(['user', 'result'])['count'].hvplot.barh(stacked=True, height=400, legend='bottom_right', title='decisions per user')"
   ]
  },
  {
   "cell_type": "code",
   "execution_count": 95,
   "metadata": {},
   "outputs": [
    {
     "data": {},
     "metadata": {},
     "output_type": "display_data"
    },
    {
     "data": {
      "application/vnd.holoviews_exec.v0+json": "",
      "text/html": [
       "<div id='3865'>\n",
       "\n",
       "\n",
       "\n",
       "\n",
       "\n",
       "  <div class=\"bk-root\" id=\"d4909a35-0e57-40a9-9624-6e6711e12aae\" data-root-id=\"3865\"></div>\n",
       "</div>\n",
       "<script type=\"application/javascript\">(function(root) {\n",
       "  function embed_document(root) {\n",
       "  var docs_json = {\"61bcb879-87ea-4df9-ac67-d7ffa3e28aff\":{\"roots\":{\"references\":[{\"attributes\":{\"margin\":[5,5,5,5],\"name\":\"HSpacer09034\",\"sizing_mode\":\"stretch_width\"},\"id\":\"3866\",\"type\":\"Spacer\"},{\"attributes\":{\"callback\":null,\"renderers\":[{\"id\":\"3906\"}],\"tags\":[\"hv_created\"],\"tooltips\":[[\"user\",\"@{user}\"],[\"result\",\"@{result}\"],[\"rate\",\"@{rate}\"]]},\"id\":\"3869\",\"type\":\"HoverTool\"},{\"attributes\":{\"align\":null,\"below\":[{\"id\":\"3879\"}],\"center\":[{\"id\":\"3882\"},{\"id\":\"3885\"},{\"id\":\"3916\"}],\"left\":[{\"id\":\"3883\"}],\"margin\":null,\"min_border_bottom\":10,\"min_border_left\":10,\"min_border_right\":10,\"min_border_top\":10,\"plot_height\":400,\"plot_width\":700,\"renderers\":[{\"id\":\"3906\"}],\"sizing_mode\":\"fixed\",\"title\":{\"id\":\"3871\"},\"toolbar\":{\"id\":\"3892\"},\"x_range\":{\"id\":\"3867\"},\"x_scale\":{\"id\":\"3875\"},\"y_range\":{\"id\":\"3868\"},\"y_scale\":{\"id\":\"3877\"}},\"id\":\"3870\",\"subtype\":\"Figure\",\"type\":\"Plot\"},{\"attributes\":{\"items\":[{\"id\":\"3917\"}],\"location\":\"bottom_left\"},\"id\":\"3916\",\"type\":\"Legend\"},{\"attributes\":{\"reset_end\":1.0,\"reset_start\":0.0,\"tags\":[[[\"rate\",\"rate\",null]]]},\"id\":\"3867\",\"type\":\"Range1d\"},{\"attributes\":{\"axis_label\":\"rate\",\"bounds\":\"auto\",\"formatter\":{\"id\":\"3909\"},\"major_label_orientation\":\"horizontal\",\"ticker\":{\"id\":\"3880\"}},\"id\":\"3879\",\"type\":\"LinearAxis\"},{\"attributes\":{\"label\":{\"field\":\"result\"},\"renderers\":[{\"id\":\"3906\"}]},\"id\":\"3917\",\"type\":\"LegendItem\"},{\"attributes\":{\"fill_alpha\":{\"value\":0.2},\"fill_color\":{\"field\":\"result\",\"transform\":{\"id\":\"3899\"}},\"height\":{\"value\":0.8},\"left\":{\"field\":\"bottom\"},\"line_alpha\":{\"value\":0.2},\"right\":{\"field\":\"top\"},\"y\":{\"field\":\"user\"}},\"id\":\"3905\",\"type\":\"HBar\"},{\"attributes\":{},\"id\":\"3880\",\"type\":\"BasicTicker\"},{\"attributes\":{},\"id\":\"3877\",\"type\":\"CategoricalScale\"},{\"attributes\":{\"axis_label\":\"\",\"bounds\":\"auto\",\"formatter\":{\"id\":\"3911\"},\"major_label_orientation\":\"horizontal\",\"ticker\":{\"id\":\"3884\"}},\"id\":\"3883\",\"type\":\"CategoricalAxis\"},{\"attributes\":{\"text\":\"decision rates per user\",\"text_color\":{\"value\":\"black\"},\"text_font_size\":{\"value\":\"12pt\"}},\"id\":\"3871\",\"type\":\"Title\"},{\"attributes\":{},\"id\":\"3911\",\"type\":\"CategoricalTickFormatter\"},{\"attributes\":{\"margin\":[5,5,5,5],\"name\":\"HSpacer09035\",\"sizing_mode\":\"stretch_width\"},\"id\":\"3938\",\"type\":\"Spacer\"},{\"attributes\":{},\"id\":\"3890\",\"type\":\"ResetTool\"},{\"attributes\":{\"fill_color\":{\"field\":\"result\",\"transform\":{\"id\":\"3899\"}},\"height\":{\"value\":0.8},\"left\":{\"field\":\"bottom\"},\"right\":{\"field\":\"top\"},\"y\":{\"field\":\"user\"}},\"id\":\"3903\",\"type\":\"HBar\"},{\"attributes\":{},\"id\":\"3886\",\"type\":\"SaveTool\"},{\"attributes\":{\"axis\":{\"id\":\"3883\"},\"dimension\":1,\"grid_line_color\":null,\"ticker\":null},\"id\":\"3885\",\"type\":\"Grid\"},{\"attributes\":{},\"id\":\"3884\",\"type\":\"CategoricalTicker\"},{\"attributes\":{\"factors\":[\"merge\",\"dontMerge\",\"dontKnow\"],\"palette\":[\"#1f77b3\",\"#ff7e0e\",\"#2ba02b\"]},\"id\":\"3899\",\"type\":\"CategoricalColorMapper\"},{\"attributes\":{},\"id\":\"3909\",\"type\":\"BasicTickFormatter\"},{\"attributes\":{\"axis\":{\"id\":\"3879\"},\"grid_line_color\":null,\"ticker\":null},\"id\":\"3882\",\"type\":\"Grid\"},{\"attributes\":{},\"id\":\"3887\",\"type\":\"PanTool\"},{\"attributes\":{\"fill_alpha\":{\"value\":0.1},\"fill_color\":{\"field\":\"result\",\"transform\":{\"id\":\"3899\"}},\"height\":{\"value\":0.8},\"left\":{\"field\":\"bottom\"},\"line_alpha\":{\"value\":0.1},\"right\":{\"field\":\"top\"},\"y\":{\"field\":\"user\"}},\"id\":\"3904\",\"type\":\"HBar\"},{\"attributes\":{},\"id\":\"3901\",\"type\":\"Selection\"},{\"attributes\":{\"overlay\":{\"id\":\"3891\"}},\"id\":\"3889\",\"type\":\"BoxZoomTool\"},{\"attributes\":{\"active_drag\":\"auto\",\"active_inspect\":\"auto\",\"active_multi\":null,\"active_scroll\":\"auto\",\"active_tap\":\"auto\",\"tools\":[{\"id\":\"3869\"},{\"id\":\"3886\"},{\"id\":\"3887\"},{\"id\":\"3888\"},{\"id\":\"3889\"},{\"id\":\"3890\"}]},\"id\":\"3892\",\"type\":\"Toolbar\"},{\"attributes\":{\"data_source\":{\"id\":\"3900\"},\"glyph\":{\"id\":\"3903\"},\"hover_glyph\":null,\"muted_glyph\":{\"id\":\"3905\"},\"nonselection_glyph\":{\"id\":\"3904\"},\"selection_glyph\":null,\"view\":{\"id\":\"3907\"}},\"id\":\"3906\",\"type\":\"GlyphRenderer\"},{\"attributes\":{},\"id\":\"3888\",\"type\":\"WheelZoomTool\"},{\"attributes\":{\"bottom_units\":\"screen\",\"fill_alpha\":0.5,\"fill_color\":\"lightgrey\",\"left_units\":\"screen\",\"level\":\"overlay\",\"line_alpha\":1.0,\"line_color\":\"black\",\"line_dash\":[4,4],\"line_width\":2,\"right_units\":\"screen\",\"top_units\":\"screen\"},\"id\":\"3891\",\"type\":\"BoxAnnotation\"},{\"attributes\":{},\"id\":\"3875\",\"type\":\"LinearScale\"},{\"attributes\":{\"source\":{\"id\":\"3900\"}},\"id\":\"3907\",\"type\":\"CDSView\"},{\"attributes\":{},\"id\":\"3915\",\"type\":\"UnionRenderers\"},{\"attributes\":{\"children\":[{\"id\":\"3866\"},{\"id\":\"3870\"},{\"id\":\"3938\"}],\"margin\":[0,0,0,0],\"name\":\"Row09030\",\"tags\":[\"embedded\"]},\"id\":\"3865\",\"type\":\"Row\"},{\"attributes\":{\"factors\":[\"cjk7067@gmail.com\",\"unknown\",\"aliansuleiman95@gmail.com\",\"sammie42finley@gmail.com\",\"paterson1391@gmail.com\",\"alfrancis1996@gmail.com\",\"cookmichaeledward@gmail.com\",\"satn2030@gmail.com\",\"csmith792@gmail.com\",\"phillips.m.emily@gmail.com\",\"kelli.fairbanks@gmail.com\",\"gary.patrick.hopkins@gmail.com\",\"quatretribunal@gmail.com\",\"charli.tiscareno@gmail.com\",\"slauchie@gmail.com\",\"iris.talebi@gmail.com\",\"mr.walsh.jr@gmail.com\",\"nneoma.okeoma@gmail.com\",\"ribeirocaitlin@gmail.com\",\"anniekayscott@gmail.com\",\"scott.ashleylauren@gmail.com\",\"dennis.aa.bailey@gmail.com\",\"brandoncanino808@gmail.com\",\"sm.ryan1412@gmail.com\",\"octave2014@gmail.com\",\"thomsonrymer@gmail.com\",\"emanley8794@gmail.com\",\"alanna.lohff@gmail.com\",\"elliott.phillips9@gmail.com\",\"tieka14@gmail.com\",\"natalielynnsmith@gmail.com\"],\"tags\":[[[\"user\",\"user\",null]]]},\"id\":\"3868\",\"type\":\"FactorRange\"},{\"attributes\":{\"data\":{\"bottom\":{\"__ndarray__\":\"AAAAAAAAAAAAAAAAAAAAAAAAAAAAAAAAAAAAAAAAAAAAAAAAAAAAAAAAAAAAAAAAAAAAAAAAAAAAAAAAAAAAAAAAAAAAAAAAAAAAAAAAAAAAAAAAAAAAAAAAAAAAAAAAAAAAAAAAAAAAAAAAAAAAAAAAAAAAAAAAAAAAAAAAAAAAAAAAAAAAAAAAAAAAAAAAAAAAAAAAAAAAAAAAAAAAAAAAAAAAAAAAAAAAAAAAAAAAAAAAAAAAAAAAAAAAAAAAAAAAAAAAAAAAAAAAAAAAAAAAAAAAAAAAAAAAAAAAAAAAAAAAAAAAAAAAAAAAAAAAAAAAAAAAAABwhHf7sLjkP0dWl2Gv9OM/MSoKRjr35T/44rMj2ujlP2LQAEaEb+Y/3c7yfrgB5T8Pjh9TfzfkP77DfcVoweE/AC2wlFgl6D9e2saMRyrjP4VyVixtTuQ/6EsqzYG+5D951QAFHrTkP7Ni99Rd4eI/7rZgRf7U4j/j0uQdXxfjP9/0pje96eU/2VQacu6z4T9BPKXl3OziP7W0tLS0tOQ/HHJnz1mU6T+X+FTcdhPlP34FGMkPJeI/ggG/Tbu+4z+/zLHne1PkP7oKA9OmkuQ/sW6vfwzr5j91UAd1UAflP4/GkgiWweM/KKzMahtO5T/q9QCGhcLvP9T9YzJB3e8/UqegIbj87z8MdI9GsbDvPyN1Bwq+9u8/2dchuN787z/CRH8nq+XvP0X0XKlf9u8/kF89cKHI7z/gb0mhIbPvPwJ+VovD/u8/nj2u21Xj7z+svggZtnLvP1yiNHyo/O8/WGn/epX27z8x/9Y3DfPvP0IFLQfD9e8/sDBEcq/v7z+WpceH//7vP7qze2QZIe8/DAf60l3+7z8fWvoVCf7vP6U48iWB5+8/0//9aDf97z9McivBofLvP7bpDDGB/u8/TIGtSQQ37z8WWtPgxfvvPyA/fvz48e8/\",\"dtype\":\"float64\",\"order\":\"little\",\"shape\":[90]},\"rate\":{\"__ndarray__\":\"AAAAAAAA8D+zYvfUXeHiP+PS5B1fF+M/AC2wlFgl6D9BPKXl3OziPw+OH1N/N+Q/tbS0tLS05D9i0ABGhG/mP5f4VNx2E+U/3c7yfrgB5T+CAb9Nu77jP/jisyPa6OU/sW6vfwzr5j8xKgpGOvflP4/GkgiWweM/KKzMahtO5T+/zLHne1PkP3CEd/uwuOQ/hXJWLG1O5D/utmBF/tTiP3VQB3VQB+U/6EsqzYG+5D/ZVBpy7rPhP17axoxHKuM/HHJnz1mU6T9HVpdhr/TjP7oKA9OmkuQ/vsN9xWjB4T/f9KY3venlP34FGMkPJeI/edUABR605D9ccm3ASVXWP7g94FAdBNg/VvBUbNwK1D/ADJeudhvUP2iqjYP2HtM/psOi5u3b1T8gmLWFE43XP5xgIwKR3ts/TUs3UXtfzz/2+rVWLqXZP47/qSlpSNc/2GNzyn491j8uFHnWBinWP582vmzLOto/j2VY1wVT2j/SXJFXSj/YP8z+a+NEGdQ/0d/Janlj3D/I+JmASPXZP62kijxSk9Y/1tTkSHmhyT9Fdk0QRRvUP8PUYrAjHNs/fwfccg9u2D+vGkPyk1DXP2DW+2W9X9Y/ACFPcAEQ0j8WX/EVX/HVPzrw6yBAYtc/8CVjI7tH1T8MC4X/PL1+P/YVAc5mX3E/mHXF+vI+Oj8W/SJcrtODP9O6FfHrg1I/bzdB8T4KOT/nPruA2FRqP9N2F0atQFM/CThQ4Uevez88CKStlzeDP7zUH5hKxyM/xmHCUSSqbD+GKujePKmRP+gh7VoevDo/oFAtAQrVUj9ZngFSkOVZP9N89aXxeVQ/mU/Pu41QYD8epqaFgwcgP9iIiXDT3Js/3UmPX9AiKj8EDV5aoG4vP6haxw3afmg/TGQBELhENj+aZxupfbxaP82jZDHv7Cc/c9ZPynYfmT8epZeyfOhAP+DAgQMHDlw/\",\"dtype\":\"float64\",\"order\":\"little\",\"shape\":[90]},\"result\":[\"merge\",\"merge\",\"merge\",\"merge\",\"merge\",\"merge\",\"merge\",\"merge\",\"merge\",\"merge\",\"merge\",\"merge\",\"merge\",\"merge\",\"merge\",\"merge\",\"merge\",\"merge\",\"merge\",\"merge\",\"merge\",\"merge\",\"merge\",\"merge\",\"merge\",\"merge\",\"merge\",\"merge\",\"merge\",\"merge\",\"merge\",\"dontMerge\",\"dontMerge\",\"dontMerge\",\"dontMerge\",\"dontMerge\",\"dontMerge\",\"dontMerge\",\"dontMerge\",\"dontMerge\",\"dontMerge\",\"dontMerge\",\"dontMerge\",\"dontMerge\",\"dontMerge\",\"dontMerge\",\"dontMerge\",\"dontMerge\",\"dontMerge\",\"dontMerge\",\"dontMerge\",\"dontMerge\",\"dontMerge\",\"dontMerge\",\"dontMerge\",\"dontMerge\",\"dontMerge\",\"dontMerge\",\"dontMerge\",\"dontMerge\",\"dontMerge\",\"dontKnow\",\"dontKnow\",\"dontKnow\",\"dontKnow\",\"dontKnow\",\"dontKnow\",\"dontKnow\",\"dontKnow\",\"dontKnow\",\"dontKnow\",\"dontKnow\",\"dontKnow\",\"dontKnow\",\"dontKnow\",\"dontKnow\",\"dontKnow\",\"dontKnow\",\"dontKnow\",\"dontKnow\",\"dontKnow\",\"dontKnow\",\"dontKnow\",\"dontKnow\",\"dontKnow\",\"dontKnow\",\"dontKnow\",\"dontKnow\",\"dontKnow\",\"dontKnow\"],\"top\":{\"__ndarray__\":\"AAAAAAAA8D+zYvfUXeHiP+PS5B1fF+M/AC2wlFgl6D9BPKXl3OziPw+OH1N/N+Q/tbS0tLS05D9i0ABGhG/mP5f4VNx2E+U/3c7yfrgB5T+CAb9Nu77jP/jisyPa6OU/sW6vfwzr5j8xKgpGOvflP4/GkgiWweM/KKzMahtO5T+/zLHne1PkP3CEd/uwuOQ/hXJWLG1O5D/utmBF/tTiP3VQB3VQB+U/6EsqzYG+5D/ZVBpy7rPhP17axoxHKuM/HHJnz1mU6T9HVpdhr/TjP7oKA9OmkuQ/vsN9xWjB4T/f9KY3venlP34FGMkPJeI/edUABR605D+ePa7bVePvPyN1Bwq+9u8/XKI0fKj87z9Yaf96lfbvP5alx4f//u8/sDBEcq/v7z8fWvoVCf7vPwx0j0axsO8/0//9aDf97z/Z1yG43vzvP0xyK8Gh8u8/1P1jMkHd7z+QXz1wocjvPwJ+VovD/u8/tukMMYH+7z9Mga1JBDfvP0X0XKlf9u8/wkR/J6vl7z+lOPIlgefvPwwH+tJd/u8/UqegIbj87z+6s3tkGSHvP+BvSaEhs+8/QgUtB8P17z8WWtPgxfvvP+r1AIaFwu8/Mf/WNw3z7z8AAAAAAADwP6y+CBm2cu8/ID9+/Pjx7z8AAAAAAADwPwAAAAAAAPA/AAAAAAAA8D8AAAAAAADwPwAAAAAAAPA/AAAAAAAA8D8AAAAAAADwPwAAAAAAAPA/AAAAAAAA8D8AAAAAAADwP////////+8/AAAAAAAA8D8AAAAAAADwPwAAAAAAAPA/AAAAAAAA8D8AAAAAAADwPwAAAAAAAPA/AAAAAAAA8D8AAAAAAADwPwAAAAAAAPA/AAAAAAAA8D8AAAAAAADwPwAAAAAAAPA/AAAAAAAA8D8AAAAAAADwPwAAAAAAAPA/AAAAAAAA8D/////////vPwAAAAAAAPA/\",\"dtype\":\"float64\",\"order\":\"little\",\"shape\":[90]},\"user\":[\"cjk7067@gmail.com\",\"mr.walsh.jr@gmail.com\",\"csmith792@gmail.com\",\"brandoncanino808@gmail.com\",\"phillips.m.emily@gmail.com\",\"dennis.aa.bailey@gmail.com\",\"kelli.fairbanks@gmail.com\",\"scott.ashleylauren@gmail.com\",\"gary.patrick.hopkins@gmail.com\",\"anniekayscott@gmail.com\",\"quatretribunal@gmail.com\",\"ribeirocaitlin@gmail.com\",\"charli.tiscareno@gmail.com\",\"nneoma.okeoma@gmail.com\",\"slauchie@gmail.com\",\"iris.talebi@gmail.com\",\"satn2030@gmail.com\",\"octave2014@gmail.com\",\"sm.ryan1412@gmail.com\",\"natalielynnsmith@gmail.com\",\"unknown\",\"thomsonrymer@gmail.com\",\"alfrancis1996@gmail.com\",\"emanley8794@gmail.com\",\"paterson1391@gmail.com\",\"tieka14@gmail.com\",\"aliansuleiman95@gmail.com\",\"alanna.lohff@gmail.com\",\"cookmichaeledward@gmail.com\",\"sammie42finley@gmail.com\",\"elliott.phillips9@gmail.com\",\"octave2014@gmail.com\",\"tieka14@gmail.com\",\"nneoma.okeoma@gmail.com\",\"ribeirocaitlin@gmail.com\",\"scott.ashleylauren@gmail.com\",\"anniekayscott@gmail.com\",\"dennis.aa.bailey@gmail.com\",\"alanna.lohff@gmail.com\",\"brandoncanino808@gmail.com\",\"emanley8794@gmail.com\",\"sm.ryan1412@gmail.com\",\"thomsonrymer@gmail.com\",\"elliott.phillips9@gmail.com\",\"mr.walsh.jr@gmail.com\",\"natalielynnsmith@gmail.com\",\"csmith792@gmail.com\",\"cookmichaeledward@gmail.com\",\"alfrancis1996@gmail.com\",\"phillips.m.emily@gmail.com\",\"kelli.fairbanks@gmail.com\",\"paterson1391@gmail.com\",\"gary.patrick.hopkins@gmail.com\",\"sammie42finley@gmail.com\",\"quatretribunal@gmail.com\",\"satn2030@gmail.com\",\"aliansuleiman95@gmail.com\",\"charli.tiscareno@gmail.com\",\"unknown\",\"slauchie@gmail.com\",\"iris.talebi@gmail.com\",\"aliansuleiman95@gmail.com\",\"thomsonrymer@gmail.com\",\"paterson1391@gmail.com\",\"alanna.lohff@gmail.com\",\"tieka14@gmail.com\",\"emanley8794@gmail.com\",\"alfrancis1996@gmail.com\",\"cookmichaeledward@gmail.com\",\"elliott.phillips9@gmail.com\",\"sammie42finley@gmail.com\",\"mr.walsh.jr@gmail.com\",\"octave2014@gmail.com\",\"slauchie@gmail.com\",\"nneoma.okeoma@gmail.com\",\"ribeirocaitlin@gmail.com\",\"charli.tiscareno@gmail.com\",\"quatretribunal@gmail.com\",\"anniekayscott@gmail.com\",\"scott.ashleylauren@gmail.com\",\"gary.patrick.hopkins@gmail.com\",\"kelli.fairbanks@gmail.com\",\"dennis.aa.bailey@gmail.com\",\"phillips.m.emily@gmail.com\",\"brandoncanino808@gmail.com\",\"sm.ryan1412@gmail.com\",\"natalielynnsmith@gmail.com\",\"csmith792@gmail.com\",\"satn2030@gmail.com\",\"iris.talebi@gmail.com\"]},\"selected\":{\"id\":\"3901\"},\"selection_policy\":{\"id\":\"3915\"}},\"id\":\"3900\",\"type\":\"ColumnDataSource\"}],\"root_ids\":[\"3865\"]},\"title\":\"Bokeh Application\",\"version\":\"2.2.1\"}};\n",
       "  var render_items = [{\"docid\":\"61bcb879-87ea-4df9-ac67-d7ffa3e28aff\",\"root_ids\":[\"3865\"],\"roots\":{\"3865\":\"d4909a35-0e57-40a9-9624-6e6711e12aae\"}}];\n",
       "  root.Bokeh.embed.embed_items_notebook(docs_json, render_items);\n",
       "  }\n",
       "if (root.Bokeh !== undefined) {\n",
       "    embed_document(root);\n",
       "  } else {\n",
       "    var attempts = 0;\n",
       "    var timer = setInterval(function(root) {\n",
       "      if (root.Bokeh !== undefined) {\n",
       "        clearInterval(timer);\n",
       "        embed_document(root);\n",
       "      } else if (document.readyState == \"complete\") {\n",
       "        attempts++;\n",
       "        if (attempts > 100) {\n",
       "          clearInterval(timer);\n",
       "          console.log(\"Bokeh: ERROR: Unable to run BokehJS code because BokehJS library is missing\");\n",
       "        }\n",
       "      }\n",
       "    }, 10, root)\n",
       "  }\n",
       "})(window);</script>"
      ],
      "text/plain": [
       ":Bars   [user,result]   (rate)"
      ]
     },
     "execution_count": 95,
     "metadata": {
      "application/vnd.holoviews_exec.v0+json": {
       "id": "3865"
      }
     },
     "output_type": "execute_result"
    }
   ],
   "source": [
    "user_merge_rates.set_index(['user', 'result'])['rate'].hvplot.barh(stacked=True, height=400, legend='bottom_left', title='decision rates per user')"
   ]
  },
  {
   "cell_type": "markdown",
   "metadata": {},
   "source": [
    "### Show a selection of decisions"
   ]
  },
  {
   "cell_type": "code",
   "execution_count": 100,
   "metadata": {},
   "outputs": [
    {
     "data": {
      "text/html": [
       "<div>\n",
       "<style scoped>\n",
       "    .dataframe tbody tr th:only-of-type {\n",
       "        vertical-align: middle;\n",
       "    }\n",
       "\n",
       "    .dataframe tbody tr th {\n",
       "        vertical-align: top;\n",
       "    }\n",
       "\n",
       "    .dataframe thead th {\n",
       "        text-align: right;\n",
       "    }\n",
       "</style>\n",
       "<table border=\"1\" class=\"dataframe\">\n",
       "  <thead>\n",
       "    <tr style=\"text-align: right;\">\n",
       "      <th></th>\n",
       "      <th>sv_a</th>\n",
       "      <th>sv_b</th>\n",
       "      <th>body_a</th>\n",
       "      <th>body_b</th>\n",
       "      <th>xa</th>\n",
       "      <th>ya</th>\n",
       "      <th>za</th>\n",
       "      <th>xb</th>\n",
       "      <th>yb</th>\n",
       "      <th>zb</th>\n",
       "      <th>score</th>\n",
       "      <th>synth_score</th>\n",
       "      <th>user</th>\n",
       "    </tr>\n",
       "  </thead>\n",
       "  <tbody>\n",
       "    <tr>\n",
       "      <th>208151</th>\n",
       "      <td>25262564872</td>\n",
       "      <td>26079734562</td>\n",
       "      <td>25262564872</td>\n",
       "      <td>26079734562</td>\n",
       "      <td>13028</td>\n",
       "      <td>33508</td>\n",
       "      <td>32864</td>\n",
       "      <td>13038</td>\n",
       "      <td>33468</td>\n",
       "      <td>32878</td>\n",
       "      <td>NaN</td>\n",
       "      <td>5.0</td>\n",
       "      <td>emanley8794@gmail.com</td>\n",
       "    </tr>\n",
       "    <tr>\n",
       "      <th>208779</th>\n",
       "      <td>6712652361</td>\n",
       "      <td>9174741806</td>\n",
       "      <td>6712652361</td>\n",
       "      <td>9174741806</td>\n",
       "      <td>25320</td>\n",
       "      <td>21378</td>\n",
       "      <td>11618</td>\n",
       "      <td>25320</td>\n",
       "      <td>21378</td>\n",
       "      <td>11619</td>\n",
       "      <td>NaN</td>\n",
       "      <td>5.0</td>\n",
       "      <td>thomsonrymer@gmail.com</td>\n",
       "    </tr>\n",
       "    <tr>\n",
       "      <th>208059</th>\n",
       "      <td>21148334755</td>\n",
       "      <td>26865102168</td>\n",
       "      <td>21148334755</td>\n",
       "      <td>26865102168</td>\n",
       "      <td>13826</td>\n",
       "      <td>28331</td>\n",
       "      <td>33284</td>\n",
       "      <td>13914</td>\n",
       "      <td>28228</td>\n",
       "      <td>33431</td>\n",
       "      <td>NaN</td>\n",
       "      <td>5.0</td>\n",
       "      <td>natalielynnsmith@gmail.com</td>\n",
       "    </tr>\n",
       "    <tr>\n",
       "      <th>208073</th>\n",
       "      <td>29678592866</td>\n",
       "      <td>30499219025</td>\n",
       "      <td>29678592866</td>\n",
       "      <td>30499219025</td>\n",
       "      <td>27744</td>\n",
       "      <td>19468</td>\n",
       "      <td>38216</td>\n",
       "      <td>27724</td>\n",
       "      <td>19468</td>\n",
       "      <td>38215</td>\n",
       "      <td>NaN</td>\n",
       "      <td>5.0</td>\n",
       "      <td>alanna.lohff@gmail.com</td>\n",
       "    </tr>\n",
       "    <tr>\n",
       "      <th>208087</th>\n",
       "      <td>39264418528</td>\n",
       "      <td>48224970953</td>\n",
       "      <td>39264418528</td>\n",
       "      <td>48224970953</td>\n",
       "      <td>16414</td>\n",
       "      <td>31715</td>\n",
       "      <td>60774</td>\n",
       "      <td>16416</td>\n",
       "      <td>31620</td>\n",
       "      <td>60736</td>\n",
       "      <td>NaN</td>\n",
       "      <td>5.0</td>\n",
       "      <td>alanna.lohff@gmail.com</td>\n",
       "    </tr>\n",
       "    <tr>\n",
       "      <th>209008</th>\n",
       "      <td>15734046642</td>\n",
       "      <td>17778504619</td>\n",
       "      <td>15734046642</td>\n",
       "      <td>17778504619</td>\n",
       "      <td>32896</td>\n",
       "      <td>19563</td>\n",
       "      <td>22413</td>\n",
       "      <td>32896</td>\n",
       "      <td>19562</td>\n",
       "      <td>22413</td>\n",
       "      <td>NaN</td>\n",
       "      <td>5.0</td>\n",
       "      <td>anniekayscott@gmail.com</td>\n",
       "    </tr>\n",
       "    <tr>\n",
       "      <th>208098</th>\n",
       "      <td>30933551823</td>\n",
       "      <td>30933552322</td>\n",
       "      <td>30933551823</td>\n",
       "      <td>30933552322</td>\n",
       "      <td>17365</td>\n",
       "      <td>23079</td>\n",
       "      <td>38912</td>\n",
       "      <td>17308</td>\n",
       "      <td>23056</td>\n",
       "      <td>38936</td>\n",
       "      <td>NaN</td>\n",
       "      <td>5.0</td>\n",
       "      <td>emanley8794@gmail.com</td>\n",
       "    </tr>\n",
       "    <tr>\n",
       "      <th>209010</th>\n",
       "      <td>29709835756</td>\n",
       "      <td>29709836687</td>\n",
       "      <td>29709835756</td>\n",
       "      <td>29709836687</td>\n",
       "      <td>21090</td>\n",
       "      <td>23961</td>\n",
       "      <td>37126</td>\n",
       "      <td>21090</td>\n",
       "      <td>23961</td>\n",
       "      <td>37127</td>\n",
       "      <td>NaN</td>\n",
       "      <td>5.0</td>\n",
       "      <td>natalielynnsmith@gmail.com</td>\n",
       "    </tr>\n",
       "    <tr>\n",
       "      <th>207714</th>\n",
       "      <td>42426982404</td>\n",
       "      <td>43696682738</td>\n",
       "      <td>42426982404</td>\n",
       "      <td>43696682738</td>\n",
       "      <td>13074</td>\n",
       "      <td>29807</td>\n",
       "      <td>54336</td>\n",
       "      <td>13056</td>\n",
       "      <td>29700</td>\n",
       "      <td>54394</td>\n",
       "      <td>NaN</td>\n",
       "      <td>5.0</td>\n",
       "      <td>alanna.lohff@gmail.com</td>\n",
       "    </tr>\n",
       "    <tr>\n",
       "      <th>208725</th>\n",
       "      <td>25175222375</td>\n",
       "      <td>25585574020</td>\n",
       "      <td>25175222375</td>\n",
       "      <td>25585574020</td>\n",
       "      <td>27308</td>\n",
       "      <td>20960</td>\n",
       "      <td>31760</td>\n",
       "      <td>27350</td>\n",
       "      <td>20832</td>\n",
       "      <td>31891</td>\n",
       "      <td>NaN</td>\n",
       "      <td>5.0</td>\n",
       "      <td>slauchie@gmail.com</td>\n",
       "    </tr>\n",
       "  </tbody>\n",
       "</table>\n",
       "</div>"
      ],
      "text/plain": [
       "               sv_a         sv_b       body_a       body_b     xa     ya  \\\n",
       "208151  25262564872  26079734562  25262564872  26079734562  13028  33508   \n",
       "208779   6712652361   9174741806   6712652361   9174741806  25320  21378   \n",
       "208059  21148334755  26865102168  21148334755  26865102168  13826  28331   \n",
       "208073  29678592866  30499219025  29678592866  30499219025  27744  19468   \n",
       "208087  39264418528  48224970953  39264418528  48224970953  16414  31715   \n",
       "209008  15734046642  17778504619  15734046642  17778504619  32896  19563   \n",
       "208098  30933551823  30933552322  30933551823  30933552322  17365  23079   \n",
       "209010  29709835756  29709836687  29709835756  29709836687  21090  23961   \n",
       "207714  42426982404  43696682738  42426982404  43696682738  13074  29807   \n",
       "208725  25175222375  25585574020  25175222375  25585574020  27308  20960   \n",
       "\n",
       "           za     xb     yb     zb  score  synth_score  \\\n",
       "208151  32864  13038  33468  32878    NaN          5.0   \n",
       "208779  11618  25320  21378  11619    NaN          5.0   \n",
       "208059  33284  13914  28228  33431    NaN          5.0   \n",
       "208073  38216  27724  19468  38215    NaN          5.0   \n",
       "208087  60774  16416  31620  60736    NaN          5.0   \n",
       "209008  22413  32896  19562  22413    NaN          5.0   \n",
       "208098  38912  17308  23056  38936    NaN          5.0   \n",
       "209010  37126  21090  23961  37127    NaN          5.0   \n",
       "207714  54336  13056  29700  54394    NaN          5.0   \n",
       "208725  31760  27350  20832  31891    NaN          5.0   \n",
       "\n",
       "                              user  \n",
       "208151       emanley8794@gmail.com  \n",
       "208779      thomsonrymer@gmail.com  \n",
       "208059  natalielynnsmith@gmail.com  \n",
       "208073      alanna.lohff@gmail.com  \n",
       "208087      alanna.lohff@gmail.com  \n",
       "209008     anniekayscott@gmail.com  \n",
       "208098       emanley8794@gmail.com  \n",
       "209010  natalielynnsmith@gmail.com  \n",
       "207714      alanna.lohff@gmail.com  \n",
       "208725          slauchie@gmail.com  "
      ]
     },
     "execution_count": 100,
     "metadata": {},
     "output_type": "execute_result"
    }
   ],
   "source": [
    "cols = ['sv_a', 'sv_b', 'body_a', 'body_b', 'xa', 'ya', 'za', 'xb', 'yb', 'zb', 'score', 'synth_score', 'user']\n",
    "\n",
    "# Example query\n",
    "q = \"date_eastern == @today and result == 'merge'\"\n",
    "\n",
    "selections = decisions.query(q).sort_values('synth_score')\n",
    "selections[cols].head(10)"
   ]
  },
  {
   "cell_type": "markdown",
   "metadata": {},
   "source": [
    "### Neuroglancer link for a particular task"
   ]
  },
  {
   "cell_type": "code",
   "execution_count": 46,
   "metadata": {
    "jupyter": {
     "source_hidden": true
    }
   },
   "outputs": [],
   "source": [
    "DEFAULT_NG_SETTINGS = {\n",
    "  \"dimensions\": {\n",
    "    \"x\": [\n",
    "      8e-9,\n",
    "      \"m\"\n",
    "    ],\n",
    "    \"y\": [\n",
    "      8e-9,\n",
    "      \"m\"\n",
    "    ],\n",
    "    \"z\": [\n",
    "      8e-9,\n",
    "      \"m\"\n",
    "    ]\n",
    "  },\n",
    "  \"position\": [\n",
    "    22491.5,\n",
    "    26671.6328125,\n",
    "    31805.267578125\n",
    "  ],\n",
    "  \"crossSectionScale\": 1.1903340818685682,\n",
    "  \"projectionScale\": 16050.60896397486,\n",
    "  \"layers\": [\n",
    "    {\n",
    "      \"type\": \"image\",\n",
    "      \"source\": {\n",
    "        \"url\": \"precomputed://gs://flyem-vnc-2-26-213dba213ef26e094c16c860ae7f4be0/v3_emdata_clahe_xy/jpeg\",\n",
    "        \"subsources\": {\n",
    "          \"default\": True,\n",
    "          \"bounds\": True\n",
    "        },\n",
    "        \"enableDefaultSubsources\": False\n",
    "      },\n",
    "      \"tab\": \"source\",\n",
    "      \"name\": \"v3_emdata_clahe_xy/jpeg\"\n",
    "    },\n",
    "    {\n",
    "      \"type\": \"segmentation\",\n",
    "      \"source\": \"precomputed://gs://vnc-v3-seg-3d2f1c08fd4720848061f77362dc6c17/rc4_wsexp\",\n",
    "      \"tab\": \"source\",\n",
    "      \"segments\": [],\n",
    "      \"name\": \"supervoxels\"\n",
    "    },\n",
    "    {\n",
    "      \"type\": \"segmentation\",\n",
    "      \"source\": \"precomputed://gs://vnc-v3-seg-3d2f1c08fd4720848061f77362dc6c17/rc4_wsexp_rsg32_16_sep_8_sep1e6\",\n",
    "      \"tab\": \"segments\",\n",
    "      \"name\": \"agglo-8nm-except-1M-1M-merges\",\n",
    "      \"visible\": False\n",
    "    }\n",
    "  ],\n",
    "  \"showSlices\": False,\n",
    "  \"prefetch\": False,\n",
    "  \"selectedLayer\": {\n",
    "    \"layer\": \"supervoxels\",\n",
    "    \"visible\": True\n",
    "  },\n",
    "  \"layout\": \"4panel\",\n",
    "  \"partialViewport\": [\n",
    "    0,\n",
    "    0,\n",
    "    1,\n",
    "    1\n",
    "  ]\n",
    "}"
   ]
  },
  {
   "cell_type": "code",
   "execution_count": 47,
   "metadata": {
    "jupyter": {
     "source_hidden": true
    }
   },
   "outputs": [],
   "source": [
    "def ng_link_for_row(tasks, index):\n",
    "    ng_settings = copy.deepcopy(DEFAULT_NG_SETTINGS)\n",
    "\n",
    "    sv_settings = [l for l in ng_settings[\"layers\"] if l[\"name\"] == \"supervoxels\" ][0]\n",
    "    agglo_settings = [l for l in ng_settings[\"layers\"] if l[\"name\"].startswith(\"agglo\")][0]\n",
    "\n",
    "    sv_settings[\"segments\"] = tasks.loc[index, ['sv_a', 'sv_b']].values.astype(str).tolist()\n",
    "    agglo_settings[\"segments\"] = tasks.loc[index, ['body_a', 'body_b']].values.astype(str).tolist()\n",
    "    \n",
    "    point_a = tasks.loc[index, ['xa', 'ya', 'za']].values\n",
    "    point_b = tasks.loc[index, ['xb', 'yb', 'zb']].values\n",
    "    midpoint = (point_a + point_b) / 2\n",
    "    ng_settings[\"position\"] = midpoint.tolist()\n",
    "    \n",
    "    url = \"https://neuroglancer-demo.appspot.com/#!\" + urllib.parse.quote(json.dumps(ng_settings))\n",
    "    return url"
   ]
  },
  {
   "cell_type": "code",
   "execution_count": 55,
   "metadata": {},
   "outputs": [
    {
     "data": {
      "text/plain": [
       "'https://neuroglancer-demo.appspot.com/#!%7B%22dimensions%22%3A%20%7B%22x%22%3A%20%5B8e-09%2C%20%22m%22%5D%2C%20%22y%22%3A%20%5B8e-09%2C%20%22m%22%5D%2C%20%22z%22%3A%20%5B8e-09%2C%20%22m%22%5D%7D%2C%20%22position%22%3A%20%5B13033.0%2C%2033488.0%2C%2032871.0%5D%2C%20%22crossSectionScale%22%3A%201.1903340818685682%2C%20%22projectionScale%22%3A%2016050.60896397486%2C%20%22layers%22%3A%20%5B%7B%22type%22%3A%20%22image%22%2C%20%22source%22%3A%20%7B%22url%22%3A%20%22precomputed%3A//gs%3A//flyem-vnc-2-26-213dba213ef26e094c16c860ae7f4be0/v3_emdata_clahe_xy/jpeg%22%2C%20%22subsources%22%3A%20%7B%22default%22%3A%20true%2C%20%22bounds%22%3A%20true%7D%2C%20%22enableDefaultSubsources%22%3A%20false%7D%2C%20%22tab%22%3A%20%22source%22%2C%20%22name%22%3A%20%22v3_emdata_clahe_xy/jpeg%22%7D%2C%20%7B%22type%22%3A%20%22segmentation%22%2C%20%22source%22%3A%20%22precomputed%3A//gs%3A//vnc-v3-seg-3d2f1c08fd4720848061f77362dc6c17/rc4_wsexp%22%2C%20%22tab%22%3A%20%22source%22%2C%20%22segments%22%3A%20%5B%2225262564872%22%2C%20%2226079734562%22%5D%2C%20%22name%22%3A%20%22supervoxels%22%7D%2C%20%7B%22type%22%3A%20%22segmentation%22%2C%20%22source%22%3A%20%22precomputed%3A//gs%3A//vnc-v3-seg-3d2f1c08fd4720848061f77362dc6c17/rc4_wsexp_rsg32_16_sep_8_sep1e6%22%2C%20%22tab%22%3A%20%22segments%22%2C%20%22name%22%3A%20%22agglo-8nm-except-1M-1M-merges%22%2C%20%22visible%22%3A%20false%2C%20%22segments%22%3A%20%5B%2225262564872%22%2C%20%2226079734562%22%5D%7D%5D%2C%20%22showSlices%22%3A%20false%2C%20%22prefetch%22%3A%20false%2C%20%22selectedLayer%22%3A%20%7B%22layer%22%3A%20%22supervoxels%22%2C%20%22visible%22%3A%20true%7D%2C%20%22layout%22%3A%20%224panel%22%2C%20%22partialViewport%22%3A%20%5B0%2C%200%2C%201%2C%201%5D%7D'"
      ]
     },
     "execution_count": 55,
     "metadata": {},
     "output_type": "execute_result"
    }
   ],
   "source": [
    "ng_link_for_row(decisions, 208151)"
   ]
  },
  {
   "cell_type": "code",
   "execution_count": 10,
   "metadata": {},
   "outputs": [],
   "source": []
  }
 ],
 "metadata": {
  "kernelspec": {
   "display_name": "Python 3",
   "language": "python",
   "name": "python3"
  },
  "language_info": {
   "codemirror_mode": {
    "name": "ipython",
    "version": 3
   },
   "file_extension": ".py",
   "mimetype": "text/x-python",
   "name": "python",
   "nbconvert_exporter": "python",
   "pygments_lexer": "ipython3",
   "version": "3.7.8"
  }
 },
 "nbformat": 4,
 "nbformat_minor": 4
}
