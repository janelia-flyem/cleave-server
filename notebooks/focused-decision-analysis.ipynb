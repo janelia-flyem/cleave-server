{
 "cells": [
  {
   "cell_type": "code",
   "execution_count": 1,
   "metadata": {},
   "outputs": [],
   "source": [
    "%load_ext autoreload\n",
    "%autoreload 2"
   ]
  },
  {
   "cell_type": "code",
   "execution_count": 42,
   "metadata": {},
   "outputs": [],
   "source": [
    "import urllib\n",
    "from datetime import datetime\n",
    "\n",
    "import numpy as np\n",
    "import pandas as pd\n",
    "\n",
    "import hvplot.pandas\n",
    "\n",
    "from neuclease.dvid import *\n",
    "from neuclease.util import *\n",
    "from neuclease.focused.ingest import fetch_focused_decisions, reexport_tasks_to_assignment\n",
    "\n",
    "from neuclease import configure_default_logging\n",
    "configure_default_logging()"
   ]
  },
  {
   "cell_type": "markdown",
   "metadata": {},
   "source": [
    "### Proofreader Decisions"
   ]
  },
  {
   "cell_type": "code",
   "execution_count": 64,
   "metadata": {},
   "outputs": [
    {
     "name": "stdout",
     "output_type": "stream",
     "text": [
      "[2020-10-15 12:28:55,645] INFO Fetching keys from 'segmentation_focused'...\n",
      "[2020-10-15 12:28:57,298] INFO Fetching keys from 'segmentation_focused' took 0:00:01.651845\n",
      "[2020-10-15 12:28:57,299] INFO Fetching values from 'segmentation_focused'...\n"
     ]
    },
    {
     "data": {
      "application/vnd.jupyter.widget-view+json": {
       "model_id": "",
       "version_major": 2,
       "version_minor": 0
      },
      "text/plain": [
       "HBox(children=(FloatProgress(value=0.0, max=2.0), HTML(value='')))"
      ]
     },
     "metadata": {},
     "output_type": "display_data"
    },
    {
     "name": "stdout",
     "output_type": "stream",
     "text": [
      "[2020-10-15 12:29:28,480] INFO Fetching values from 'segmentation_focused' took 0:00:31.180472\n"
     ]
    },
    {
     "data": {
      "application/vnd.jupyter.widget-view+json": {
       "model_id": "7a207b8303c2457d9f51ea143d10e48d",
       "version_major": 2,
       "version_minor": 0
      },
      "text/plain": [
       "HBox(children=(FloatProgress(value=0.0, max=221356.0), HTML(value='')))"
      ]
     },
     "metadata": {},
     "output_type": "display_data"
    },
    {
     "name": "stdout",
     "output_type": "stream",
     "text": [
      "\n"
     ]
    },
    {
     "data": {
      "application/vnd.jupyter.widget-view+json": {
       "model_id": "88f287d77e2b4493868f0fb4294d4859",
       "version_major": 2,
       "version_minor": 0
      },
      "text/plain": [
       "HBox(children=(FloatProgress(value=0.0, max=221356.0), HTML(value='')))"
      ]
     },
     "metadata": {},
     "output_type": "display_data"
    },
    {
     "name": "stdout",
     "output_type": "stream",
     "text": [
      "\n",
      "Fetched 221356 decisions\n"
     ]
    }
   ],
   "source": [
    "vnc_focused = ('https://hemibrain-dvid2.janelia.org', '36e0b', 'segmentation_focused')\n",
    "decisions = fetch_focused_decisions(*vnc_focused, normalize_pairs='sv', update_with_instance=None, is_hemibrain=False)\n",
    "\n",
    "# Use separate score columns depending on which process was used to generate the tasks\n",
    "decisions['score'] = [info['score'] if 'score' in info else np.nan for info in tqdm_proxy(decisions['edge_info'])]\n",
    "decisions['synth_score'] = [info['synth_score'] if 'synth_score' in info else np.nan for info in tqdm_proxy(decisions['edge_info'])]\n",
    "print(f\"Fetched {len(decisions)} decisions\")"
   ]
  },
  {
   "cell_type": "code",
   "execution_count": 65,
   "metadata": {},
   "outputs": [
    {
     "data": {},
     "metadata": {},
     "output_type": "display_data"
    },
    {
     "data": {
      "application/vnd.holoviews_exec.v0+json": "",
      "text/html": [
       "<div id='3520'>\n",
       "\n",
       "\n",
       "\n",
       "\n",
       "\n",
       "  <div class=\"bk-root\" id=\"e921ecb4-7d9c-4dd9-98c2-7410a1dca1b7\" data-root-id=\"3520\"></div>\n",
       "</div>\n",
       "<script type=\"application/javascript\">(function(root) {\n",
       "  function embed_document(root) {\n",
       "  var docs_json = {\"b303e2c5-6fa2-4fb9-9477-b62c885dcc85\":{\"roots\":{\"references\":[{\"attributes\":{\"text\":\"total tasks per day\",\"text_color\":{\"value\":\"black\"},\"text_font_size\":{\"value\":\"12pt\"}},\"id\":\"3526\",\"type\":\"Title\"},{\"attributes\":{},\"id\":\"3541\",\"type\":\"SaveTool\"},{\"attributes\":{\"active_drag\":\"auto\",\"active_inspect\":\"auto\",\"active_multi\":null,\"active_scroll\":\"auto\",\"active_tap\":\"auto\",\"tools\":[{\"id\":\"3524\"},{\"id\":\"3541\"},{\"id\":\"3542\"},{\"id\":\"3543\"},{\"id\":\"3544\"},{\"id\":\"3545\"}]},\"id\":\"3547\",\"type\":\"Toolbar\"},{\"attributes\":{},\"id\":\"3565\",\"type\":\"CategoricalTickFormatter\"},{\"attributes\":{\"bottom_units\":\"screen\",\"fill_alpha\":0.5,\"fill_color\":\"lightgrey\",\"left_units\":\"screen\",\"level\":\"overlay\",\"line_alpha\":1.0,\"line_color\":\"black\",\"line_dash\":[4,4],\"line_width\":2,\"right_units\":\"screen\",\"top_units\":\"screen\"},\"id\":\"3546\",\"type\":\"BoxAnnotation\"},{\"attributes\":{\"fill_alpha\":{\"value\":0.1},\"fill_color\":{\"value\":\"#1f77b3\"},\"height\":{\"value\":0.8},\"line_alpha\":{\"value\":0.1},\"right\":{\"field\":\"total_tasks_per_day\"},\"y\":{\"field\":\"index\"}},\"id\":\"3558\",\"type\":\"HBar\"},{\"attributes\":{\"axis_label\":\"\",\"bounds\":\"auto\",\"formatter\":{\"id\":\"3565\"},\"major_label_orientation\":\"horizontal\",\"ticker\":{\"id\":\"3539\"}},\"id\":\"3538\",\"type\":\"CategoricalAxis\"},{\"attributes\":{\"data_source\":{\"id\":\"3554\"},\"glyph\":{\"id\":\"3557\"},\"hover_glyph\":null,\"muted_glyph\":{\"id\":\"3559\"},\"nonselection_glyph\":{\"id\":\"3558\"},\"selection_glyph\":null,\"view\":{\"id\":\"3561\"}},\"id\":\"3560\",\"type\":\"GlyphRenderer\"},{\"attributes\":{\"margin\":[5,5,5,5],\"name\":\"HSpacer08125\",\"sizing_mode\":\"stretch_width\"},\"id\":\"3582\",\"type\":\"Spacer\"},{\"attributes\":{},\"id\":\"3539\",\"type\":\"CategoricalTicker\"},{\"attributes\":{\"fill_alpha\":{\"value\":0.2},\"fill_color\":{\"value\":\"#1f77b3\"},\"height\":{\"value\":0.8},\"line_alpha\":{\"value\":0.2},\"right\":{\"field\":\"total_tasks_per_day\"},\"y\":{\"field\":\"index\"}},\"id\":\"3559\",\"type\":\"HBar\"},{\"attributes\":{\"data\":{\"index\":[\"2020-10-15\",\"2020-10-14\",\"2020-10-13\",\"2020-10-12\",\"2020-10-09\",\"2020-10-08\",\"2020-10-07\",\"2020-10-06\",\"2020-10-05\",\"2020-10-03\",\"2020-10-02\",\"2020-10-01\",\"2020-09-30\",\"2020-09-29\",\"2020-09-28\",\"2020-09-25\",\"2020-09-24\",\"2020-09-23\",\"2020-09-22\",\"2020-09-21\",\"2020-09-18\",\"2020-09-17\",\"2020-09-16\",\"2020-09-15\"],\"total_tasks_per_day\":[4805,8990,8841,8038,6304,8660,10849,10147,11519,1,12153,11141,10900,10293,9762,12199,9101,11402,11468,9768,11961,9771,8645,4638]},\"selected\":{\"id\":\"3555\"},\"selection_policy\":{\"id\":\"3572\"}},\"id\":\"3554\",\"type\":\"ColumnDataSource\"},{\"attributes\":{\"axis\":{\"id\":\"3534\"},\"grid_line_color\":null,\"ticker\":null},\"id\":\"3537\",\"type\":\"Grid\"},{\"attributes\":{\"margin\":[5,5,5,5],\"name\":\"HSpacer08124\",\"sizing_mode\":\"stretch_width\"},\"id\":\"3521\",\"type\":\"Spacer\"},{\"attributes\":{},\"id\":\"3535\",\"type\":\"BasicTicker\"},{\"attributes\":{},\"id\":\"3572\",\"type\":\"UnionRenderers\"},{\"attributes\":{\"children\":[{\"id\":\"3521\"},{\"id\":\"3525\"},{\"id\":\"3582\"}],\"margin\":[0,0,0,0],\"name\":\"Row08120\",\"tags\":[\"embedded\"]},\"id\":\"3520\",\"type\":\"Row\"},{\"attributes\":{\"align\":null,\"below\":[{\"id\":\"3534\"}],\"center\":[{\"id\":\"3537\"},{\"id\":\"3540\"}],\"left\":[{\"id\":\"3538\"}],\"margin\":null,\"min_border_bottom\":10,\"min_border_left\":10,\"min_border_right\":10,\"min_border_top\":10,\"plot_height\":300,\"plot_width\":700,\"renderers\":[{\"id\":\"3560\"}],\"sizing_mode\":\"fixed\",\"title\":{\"id\":\"3526\"},\"toolbar\":{\"id\":\"3547\"},\"x_range\":{\"id\":\"3522\"},\"x_scale\":{\"id\":\"3530\"},\"y_range\":{\"id\":\"3523\"},\"y_scale\":{\"id\":\"3532\"}},\"id\":\"3525\",\"subtype\":\"Figure\",\"type\":\"Plot\"},{\"attributes\":{\"axis_label\":\"\",\"bounds\":\"auto\",\"formatter\":{\"id\":\"3563\"},\"major_label_orientation\":\"horizontal\",\"ticker\":{\"id\":\"3535\"}},\"id\":\"3534\",\"type\":\"LinearAxis\"},{\"attributes\":{\"end\":13418.8,\"reset_end\":13418.8,\"reset_start\":0.0,\"tags\":[[[\"total tasks per day\",\"total tasks per day\",null]]]},\"id\":\"3522\",\"type\":\"Range1d\"},{\"attributes\":{},\"id\":\"3532\",\"type\":\"CategoricalScale\"},{\"attributes\":{},\"id\":\"3555\",\"type\":\"Selection\"},{\"attributes\":{\"fill_color\":{\"value\":\"#1f77b3\"},\"height\":{\"value\":0.8},\"right\":{\"field\":\"total_tasks_per_day\"},\"y\":{\"field\":\"index\"}},\"id\":\"3557\",\"type\":\"HBar\"},{\"attributes\":{},\"id\":\"3545\",\"type\":\"ResetTool\"},{\"attributes\":{\"axis\":{\"id\":\"3538\"},\"dimension\":1,\"grid_line_color\":null,\"ticker\":null},\"id\":\"3540\",\"type\":\"Grid\"},{\"attributes\":{\"callback\":null,\"renderers\":[{\"id\":\"3560\"}],\"tags\":[\"hv_created\"],\"tooltips\":[[\"index\",\"@{index}\"],[\"total tasks per day\",\"@{total_tasks_per_day}\"]]},\"id\":\"3524\",\"type\":\"HoverTool\"},{\"attributes\":{},\"id\":\"3530\",\"type\":\"LinearScale\"},{\"attributes\":{\"overlay\":{\"id\":\"3546\"}},\"id\":\"3544\",\"type\":\"BoxZoomTool\"},{\"attributes\":{\"factors\":[\"2020-10-15\",\"2020-10-14\",\"2020-10-13\",\"2020-10-12\",\"2020-10-09\",\"2020-10-08\",\"2020-10-07\",\"2020-10-06\",\"2020-10-05\",\"2020-10-03\",\"2020-10-02\",\"2020-10-01\",\"2020-09-30\",\"2020-09-29\",\"2020-09-28\",\"2020-09-25\",\"2020-09-24\",\"2020-09-23\",\"2020-09-22\",\"2020-09-21\",\"2020-09-18\",\"2020-09-17\",\"2020-09-16\",\"2020-09-15\"],\"tags\":[[[\"index\",\"index\",null]]]},\"id\":\"3523\",\"type\":\"FactorRange\"},{\"attributes\":{\"source\":{\"id\":\"3554\"}},\"id\":\"3561\",\"type\":\"CDSView\"},{\"attributes\":{},\"id\":\"3543\",\"type\":\"WheelZoomTool\"},{\"attributes\":{},\"id\":\"3563\",\"type\":\"BasicTickFormatter\"},{\"attributes\":{},\"id\":\"3542\",\"type\":\"PanTool\"}],\"root_ids\":[\"3520\"]},\"title\":\"Bokeh Application\",\"version\":\"2.2.1\"}};\n",
       "  var render_items = [{\"docid\":\"b303e2c5-6fa2-4fb9-9477-b62c885dcc85\",\"root_ids\":[\"3520\"],\"roots\":{\"3520\":\"e921ecb4-7d9c-4dd9-98c2-7410a1dca1b7\"}}];\n",
       "  root.Bokeh.embed.embed_items_notebook(docs_json, render_items);\n",
       "  }\n",
       "if (root.Bokeh !== undefined) {\n",
       "    embed_document(root);\n",
       "  } else {\n",
       "    var attempts = 0;\n",
       "    var timer = setInterval(function(root) {\n",
       "      if (root.Bokeh !== undefined) {\n",
       "        clearInterval(timer);\n",
       "        embed_document(root);\n",
       "      } else if (document.readyState == \"complete\") {\n",
       "        attempts++;\n",
       "        if (attempts > 100) {\n",
       "          clearInterval(timer);\n",
       "          console.log(\"Bokeh: ERROR: Unable to run BokehJS code because BokehJS library is missing\");\n",
       "        }\n",
       "      }\n",
       "    }, 10, root)\n",
       "  }\n",
       "})(window);</script>"
      ],
      "text/plain": [
       ":Bars   [index]   (total tasks per day)"
      ]
     },
     "execution_count": 65,
     "metadata": {
      "application/vnd.holoviews_exec.v0+json": {
       "id": "3520"
      }
     },
     "output_type": "execute_result"
    }
   ],
   "source": [
    "decisions['date_eastern'].astype(str).value_counts().rename('total tasks per day').sort_index(ascending=False).hvplot.barh()"
   ]
  },
  {
   "cell_type": "markdown",
   "metadata": {},
   "source": [
    "### Check today's merge rate"
   ]
  },
  {
   "cell_type": "code",
   "execution_count": 66,
   "metadata": {},
   "outputs": [
    {
     "name": "stdout",
     "output_type": "stream",
     "text": [
      "4805 decisions so far today.\n"
     ]
    },
    {
     "data": {
      "text/html": [
       "<div>\n",
       "<style scoped>\n",
       "    .dataframe tbody tr th:only-of-type {\n",
       "        vertical-align: middle;\n",
       "    }\n",
       "\n",
       "    .dataframe tbody tr th {\n",
       "        vertical-align: top;\n",
       "    }\n",
       "\n",
       "    .dataframe thead th {\n",
       "        text-align: right;\n",
       "    }\n",
       "</style>\n",
       "<table border=\"1\" class=\"dataframe\">\n",
       "  <thead>\n",
       "    <tr style=\"text-align: right;\">\n",
       "      <th></th>\n",
       "      <th>count</th>\n",
       "      <th>pct</th>\n",
       "    </tr>\n",
       "    <tr>\n",
       "      <th>result</th>\n",
       "      <th></th>\n",
       "      <th></th>\n",
       "    </tr>\n",
       "  </thead>\n",
       "  <tbody>\n",
       "    <tr>\n",
       "      <th>dontMerge</th>\n",
       "      <td>3156</td>\n",
       "      <td>65.7</td>\n",
       "    </tr>\n",
       "    <tr>\n",
       "      <th>merge</th>\n",
       "      <td>1623</td>\n",
       "      <td>33.8</td>\n",
       "    </tr>\n",
       "    <tr>\n",
       "      <th>dontKnow</th>\n",
       "      <td>26</td>\n",
       "      <td>0.5</td>\n",
       "    </tr>\n",
       "    <tr>\n",
       "      <th>skip (same body ID)</th>\n",
       "      <td>0</td>\n",
       "      <td>0.0</td>\n",
       "    </tr>\n",
       "  </tbody>\n",
       "</table>\n",
       "</div>"
      ],
      "text/plain": [
       "                     count   pct\n",
       "result                          \n",
       "dontMerge             3156  65.7\n",
       "merge                 1623  33.8\n",
       "dontKnow                26   0.5\n",
       "skip (same body ID)      0   0.0"
      ]
     },
     "metadata": {},
     "output_type": "display_data"
    },
    {
     "data": {
      "image/png": "[encoded data removed]",
      "text/plain": [
       "<Figure size 432x288 with 1 Axes>"
      ]
     },
     "metadata": {},
     "output_type": "display_data"
    }
   ],
   "source": [
    "today = datetime.now().date()\n",
    "today_decisions = decisions.query('date_eastern == @today')\n",
    "\n",
    "print(f\"{len(today_decisions)} decisions so far today.\")\n",
    "\n",
    "vc = today_decisions['result'].value_counts().rename('count').rename_axis('result').to_frame()\n",
    "vc['pct'] = 100*(vc['count'] / vc['count'].sum())\n",
    "vc['pct'] = np.round(vc['pct'], 1)\n",
    "display(vc)\n",
    "vc['count'].plot(kind='pie', title=\"Today's decisions\");"
   ]
  },
  {
   "cell_type": "markdown",
   "metadata": {},
   "source": [
    "### Per-user analysis"
   ]
  },
  {
   "cell_type": "code",
   "execution_count": 67,
   "metadata": {},
   "outputs": [],
   "source": [
    "df = decisions\n",
    "\n",
    "# Optional: Query for some decisions only\n",
    "#df = decisions.query('not synth_score.isnull()')\n",
    "\n",
    "user_merge_rates = df.groupby('user')['result'].agg(lambda s: s.value_counts()).reset_index()\n",
    "user_merge_rates.columns = ['user', 'result', 'count']\n",
    "user_merge_rates = user_merge_rates.merge( user_merge_rates.groupby('user')['count'].sum().rename('total_tasks').reset_index(), 'left', on='user' )\n",
    "user_merge_rates = user_merge_rates.sort_values('total_tasks')\n",
    "user_merge_rates['rate'] = user_merge_rates['count'] / user_merge_rates['total_tasks']\n",
    "user_merge_rates = user_merge_rates.query('count > 0')"
   ]
  },
  {
   "cell_type": "code",
   "execution_count": 68,
   "metadata": {},
   "outputs": [
    {
     "data": {},
     "metadata": {},
     "output_type": "display_data"
    },
    {
     "data": {
      "application/vnd.holoviews_exec.v0+json": "",
      "text/html": [
       "<div id='3624'>\n",
       "\n",
       "\n",
       "\n",
       "\n",
       "\n",
       "  <div class=\"bk-root\" id=\"8a84a32f-a086-49c4-96ca-926ef3e0b992\" data-root-id=\"3624\"></div>\n",
       "</div>\n",
       "<script type=\"application/javascript\">(function(root) {\n",
       "  function embed_document(root) {\n",
       "  var docs_json = {\"a5bc7f83-4b1a-45e7-87c3-d5713a79da15\":{\"roots\":{\"references\":[{\"attributes\":{},\"id\":\"3673\",\"type\":\"UnionRenderers\"},{\"attributes\":{\"data_source\":{\"id\":\"3659\"},\"glyph\":{\"id\":\"3662\"},\"hover_glyph\":null,\"muted_glyph\":{\"id\":\"3664\"},\"nonselection_glyph\":{\"id\":\"3663\"},\"selection_glyph\":null,\"view\":{\"id\":\"3666\"}},\"id\":\"3665\",\"type\":\"GlyphRenderer\"},{\"attributes\":{},\"id\":\"3660\",\"type\":\"Selection\"},{\"attributes\":{\"bottom_units\":\"screen\",\"fill_alpha\":0.5,\"fill_color\":\"lightgrey\",\"left_units\":\"screen\",\"level\":\"overlay\",\"line_alpha\":1.0,\"line_color\":\"black\",\"line_dash\":[4,4],\"line_width\":2,\"right_units\":\"screen\",\"top_units\":\"screen\"},\"id\":\"3650\",\"type\":\"BoxAnnotation\"},{\"attributes\":{\"callback\":null,\"renderers\":[{\"id\":\"3665\"}],\"tags\":[\"hv_created\"],\"tooltips\":[[\"user\",\"@{user}\"],[\"result\",\"@{result}\"],[\"count\",\"@{count}\"]]},\"id\":\"3628\",\"type\":\"HoverTool\"},{\"attributes\":{\"align\":null,\"below\":[{\"id\":\"3638\"}],\"center\":[{\"id\":\"3641\"},{\"id\":\"3644\"},{\"id\":\"3675\"}],\"left\":[{\"id\":\"3642\"}],\"margin\":null,\"min_border_bottom\":10,\"min_border_left\":10,\"min_border_right\":10,\"min_border_top\":10,\"plot_height\":400,\"plot_width\":700,\"renderers\":[{\"id\":\"3665\"}],\"sizing_mode\":\"fixed\",\"title\":{\"id\":\"3630\"},\"toolbar\":{\"id\":\"3651\"},\"x_range\":{\"id\":\"3626\"},\"x_scale\":{\"id\":\"3634\"},\"y_range\":{\"id\":\"3627\"},\"y_scale\":{\"id\":\"3636\"}},\"id\":\"3629\",\"subtype\":\"Figure\",\"type\":\"Plot\"},{\"attributes\":{},\"id\":\"3646\",\"type\":\"PanTool\"},{\"attributes\":{},\"id\":\"3636\",\"type\":\"CategoricalScale\"},{\"attributes\":{\"axis_label\":\"count\",\"bounds\":\"auto\",\"formatter\":{\"id\":\"3671\"},\"major_label_orientation\":\"horizontal\",\"ticker\":{\"id\":\"3639\"}},\"id\":\"3638\",\"type\":\"LinearAxis\"},{\"attributes\":{\"label\":{\"field\":\"result\"},\"renderers\":[{\"id\":\"3665\"}]},\"id\":\"3676\",\"type\":\"LegendItem\"},{\"attributes\":{\"end\":18899.0,\"reset_end\":18899.0,\"reset_start\":0.0,\"tags\":[[[\"count\",\"count\",null]]]},\"id\":\"3626\",\"type\":\"Range1d\"},{\"attributes\":{\"factors\":[\"merge\",\"dontMerge\",\"dontKnow\"],\"palette\":[\"#1f77b3\",\"#ff7e0e\",\"#2ba02b\"]},\"id\":\"3658\",\"type\":\"CategoricalColorMapper\"},{\"attributes\":{\"axis\":{\"id\":\"3642\"},\"dimension\":1,\"grid_line_color\":null,\"ticker\":null},\"id\":\"3644\",\"type\":\"Grid\"},{\"attributes\":{\"source\":{\"id\":\"3659\"}},\"id\":\"3666\",\"type\":\"CDSView\"},{\"attributes\":{\"active_drag\":\"auto\",\"active_inspect\":\"auto\",\"active_multi\":null,\"active_scroll\":\"auto\",\"active_tap\":\"auto\",\"tools\":[{\"id\":\"3628\"},{\"id\":\"3645\"},{\"id\":\"3646\"},{\"id\":\"3647\"},{\"id\":\"3648\"},{\"id\":\"3649\"}]},\"id\":\"3651\",\"type\":\"Toolbar\"},{\"attributes\":{},\"id\":\"3634\",\"type\":\"LinearScale\"},{\"attributes\":{\"factors\":[\"cjk7067@gmail.com\",\"unknown\",\"aliansuleiman95@gmail.com\",\"paterson1391@gmail.com\",\"sammie42finley@gmail.com\",\"alfrancis1996@gmail.com\",\"satn2030@gmail.com\",\"cookmichaeledward@gmail.com\",\"csmith792@gmail.com\",\"phillips.m.emily@gmail.com\",\"kelli.fairbanks@gmail.com\",\"gary.patrick.hopkins@gmail.com\",\"quatretribunal@gmail.com\",\"charli.tiscareno@gmail.com\",\"slauchie@gmail.com\",\"iris.talebi@gmail.com\",\"mr.walsh.jr@gmail.com\",\"nneoma.okeoma@gmail.com\",\"ribeirocaitlin@gmail.com\",\"anniekayscott@gmail.com\",\"scott.ashleylauren@gmail.com\",\"dennis.aa.bailey@gmail.com\",\"brandoncanino808@gmail.com\",\"sm.ryan1412@gmail.com\",\"octave2014@gmail.com\",\"thomsonrymer@gmail.com\",\"emanley8794@gmail.com\",\"alanna.lohff@gmail.com\",\"elliott.phillips9@gmail.com\",\"tieka14@gmail.com\",\"natalielynnsmith@gmail.com\"],\"tags\":[[[\"user\",\"user\",null]]]},\"id\":\"3627\",\"type\":\"FactorRange\"},{\"attributes\":{},\"id\":\"3645\",\"type\":\"SaveTool\"},{\"attributes\":{\"overlay\":{\"id\":\"3650\"}},\"id\":\"3648\",\"type\":\"BoxZoomTool\"},{\"attributes\":{\"items\":[{\"id\":\"3676\"}],\"location\":\"bottom_right\"},\"id\":\"3675\",\"type\":\"Legend\"},{\"attributes\":{},\"id\":\"3649\",\"type\":\"ResetTool\"},{\"attributes\":{\"axis_label\":\"\",\"bounds\":\"auto\",\"formatter\":{\"id\":\"3669\"},\"major_label_orientation\":\"horizontal\",\"ticker\":{\"id\":\"3643\"}},\"id\":\"3642\",\"type\":\"CategoricalAxis\"},{\"attributes\":{\"fill_color\":{\"field\":\"result\",\"transform\":{\"id\":\"3658\"}},\"height\":{\"value\":0.8},\"left\":{\"field\":\"bottom\"},\"right\":{\"field\":\"top\"},\"y\":{\"field\":\"user\"}},\"id\":\"3662\",\"type\":\"HBar\"},{\"attributes\":{\"margin\":[5,5,5,5],\"name\":\"HSpacer08319\",\"sizing_mode\":\"stretch_width\"},\"id\":\"3697\",\"type\":\"Spacer\"},{\"attributes\":{},\"id\":\"3671\",\"type\":\"BasicTickFormatter\"},{\"attributes\":{\"data\":{\"bottom\":{\"__ndarray__\":\"AAAAAAAAAAAAAAAAAAAAAAAAAAAAAAAAAAAAAAAAAAAAAAAAAAAAAAAAAAAAAAAAAAAAAAAAAAAAAAAAAAAAAAAAAAAAAAAAAAAAAAAAAAAAAAAAAAAAAAAAAAAAAAAAAAAAAAAAAAAAAAAAAAAAAAAAAAAAAAAAAAAAAAAAAAAAAAAAAAAAAAAAAAAAAAAAAAAAAAAAAAAAAAAAAAAAAAAAAAAAAAAAAAAAAAAAAAAAAAAAAAAAAAAAAAAAAAAAAAAAAAAAAAAAAAAAAAAAAAAAAAAAAAAAAAAAAAAAAAAAAAAAAAAAAAAAAAAAAAAAAAAAAAAAAAAAAAAAACm0QAAAAAAAkrVAAAAAAABit0AAAAAAACa3QAAAAAAAJrVAAAAAAAClukAAAAAAAGW4QAAAAAAA9bpAAAAAAABGuUAAAAAAAMe3QAAAAAAAk79AAAAAAIDww0AAAAAAADi1QAAAAAAAjK5AAAAAAIBmw0AAAAAAADCfQAAAAAAA0KpAAAAAAAB0lUAAAAAAAIajQAAAAAAAeqxAAAAAAACgmUAAAAAAAJKkQAAAAAAAMKxAAAAAAAC2sEAAAAAAADyjQAAAAAAAAGdAAAAAAACerUAAAAAAAPiwQAAAAAAAEJBAAAAAAACypkAAAAAAAESuQAAAAAAAoqdAAAAAAADiuUAAAAAAgJ7FQAAAAAAAhqNAAAAAAACAo0AAAAAAAODIQAAAAAAAzJhAAAAAAMBK0EAAAAAAAJvFQAAAAACAHcVAAAAAAABBsUAAAAAAgBvDQAAAAAAAP7hAAAAAAAAavkAAAAAAgBbAQAAAAAAAJ7hAAAAAAABkt0AAAAAAAKjAQAAAAAAA8K5AAAAAAAAXwUAAAAAAgCbBQAAAAAAAN7ZAAAAAAADSs0AAAAAAgEvCQAAAAACAssJAAAAAAIDG0EAAAAAAAKS2QAAAAAAAgLlA\",\"dtype\":\"float64\",\"order\":\"little\",\"shape\":[90]},\"count\":[1,5926,3432,5432,5414,2905,6821,5986,3910,2633,4278,2499,6245,2462,3608,5522,3645,6470,1640,5161,6087,1373,1996,8083,6901,3791,10209,4344,1028,184,9933,2545,2715,3587,2824,3367,2546,3538,3910,4592,4982,4653,6474,3096,2716,7245,500,2255,1126,1461,2151,1385,1784,2380,1905,1412,96,2416,2184,559,2169,2,9,1,116,23,1,98,12,18,4,47,108,44,104,3,10,10,12,17,4,1,3,1,16,4,20,3,161,12],\"result\":[\"merge\",\"merge\",\"merge\",\"merge\",\"merge\",\"merge\",\"merge\",\"merge\",\"merge\",\"merge\",\"merge\",\"merge\",\"merge\",\"merge\",\"merge\",\"merge\",\"merge\",\"merge\",\"merge\",\"merge\",\"merge\",\"merge\",\"merge\",\"merge\",\"merge\",\"merge\",\"merge\",\"merge\",\"merge\",\"merge\",\"merge\",\"dontMerge\",\"dontMerge\",\"dontMerge\",\"dontMerge\",\"dontMerge\",\"dontMerge\",\"dontMerge\",\"dontMerge\",\"dontMerge\",\"dontMerge\",\"dontMerge\",\"dontMerge\",\"dontMerge\",\"dontMerge\",\"dontMerge\",\"dontMerge\",\"dontMerge\",\"dontMerge\",\"dontMerge\",\"dontMerge\",\"dontMerge\",\"dontMerge\",\"dontMerge\",\"dontMerge\",\"dontMerge\",\"dontMerge\",\"dontMerge\",\"dontMerge\",\"dontMerge\",\"dontMerge\",\"dontKnow\",\"dontKnow\",\"dontKnow\",\"dontKnow\",\"dontKnow\",\"dontKnow\",\"dontKnow\",\"dontKnow\",\"dontKnow\",\"dontKnow\",\"dontKnow\",\"dontKnow\",\"dontKnow\",\"dontKnow\",\"dontKnow\",\"dontKnow\",\"dontKnow\",\"dontKnow\",\"dontKnow\",\"dontKnow\",\"dontKnow\",\"dontKnow\",\"dontKnow\",\"dontKnow\",\"dontKnow\",\"dontKnow\",\"dontKnow\",\"dontKnow\",\"dontKnow\"],\"top\":{\"__ndarray__\":\"AAAAAAAA8D8AAAAAACa3QAAAAAAA0KpAAAAAAAA4tUAAAAAAACa1QAAAAAAAsqZAAAAAAAClukAAAAAAAGK3QAAAAAAAjK5AAAAAAACSpEAAAAAAALawQAAAAAAAhqNAAAAAAABluEAAAAAAADyjQAAAAAAAMKxAAAAAAACStUAAAAAAAHqsQAAAAAAARrlAAAAAAACgmUAAAAAAACm0QAAAAAAAx7dAAAAAAAB0lUAAAAAAADCfQAAAAAAAk79AAAAAAAD1ukAAAAAAAJ6tQAAAAACA8MNAAAAAAAD4sEAAAAAAABCQQAAAAAAAAGdAAAAAAIBmw0AAAAAAABq+QAAAAACAFsBAAAAAAICywkAAAAAAABfBQAAAAACAJsFAAAAAAIBLwkAAAAAAgBvDQAAAAACAHcVAAAAAAACbxUAAAAAAgJ7FQAAAAAAA4MhAAAAAAMBK0EAAAAAAAKjAQAAAAAAA4rlAAAAAAIDG0EAAAAAAAICjQAAAAAAAN7ZAAAAAAACGo0AAAAAAAPCuQAAAAAAApLZAAAAAAACip0AAAAAAAEGxQAAAAAAAZLdAAAAAAAAnuEAAAAAAAESuQAAAAAAAgHFAAAAAAAA/uEAAAAAAAIC5QAAAAAAAzJhAAAAAAADSs0AAAAAAAEiuQAAAAAAAtKdAAAAAAADjuUAAAAAAgNjFQAAAAAAAtKNAAAAAAACCo0AAAAAAABHJQAAAAAAA/JhAAAAAAEBP0EAAAAAAAJ3FQAAAAAAANcVAAAAAAACtsUAAAAAAgDHDQAAAAAAAp7hAAAAAAAAdvkAAAAAAgBvAQAAAAAAAMbhAAAAAAABwt0AAAAAAgLDAQAAAAAAA+K5AAAAAAIAXwUAAAAAAACjBQAAAAAAAOLZAAAAAAADis0AAAAAAgE3CQAAAAACAvMJAAAAAAEDH0EAAAAAAAEW3QAAAAAAAjLlA\",\"dtype\":\"float64\",\"order\":\"little\",\"shape\":[90]},\"user\":[\"cjk7067@gmail.com\",\"scott.ashleylauren@gmail.com\",\"kelli.fairbanks@gmail.com\",\"anniekayscott@gmail.com\",\"dennis.aa.bailey@gmail.com\",\"phillips.m.emily@gmail.com\",\"brandoncanino808@gmail.com\",\"sm.ryan1412@gmail.com\",\"mr.walsh.jr@gmail.com\",\"csmith792@gmail.com\",\"charli.tiscareno@gmail.com\",\"cookmichaeledward@gmail.com\",\"octave2014@gmail.com\",\"satn2030@gmail.com\",\"quatretribunal@gmail.com\",\"ribeirocaitlin@gmail.com\",\"gary.patrick.hopkins@gmail.com\",\"emanley8794@gmail.com\",\"alfrancis1996@gmail.com\",\"nneoma.okeoma@gmail.com\",\"alanna.lohff@gmail.com\",\"sammie42finley@gmail.com\",\"paterson1391@gmail.com\",\"elliott.phillips9@gmail.com\",\"thomsonrymer@gmail.com\",\"slauchie@gmail.com\",\"tieka14@gmail.com\",\"iris.talebi@gmail.com\",\"aliansuleiman95@gmail.com\",\"unknown\",\"natalielynnsmith@gmail.com\",\"nneoma.okeoma@gmail.com\",\"ribeirocaitlin@gmail.com\",\"sm.ryan1412@gmail.com\",\"scott.ashleylauren@gmail.com\",\"dennis.aa.bailey@gmail.com\",\"brandoncanino808@gmail.com\",\"octave2014@gmail.com\",\"thomsonrymer@gmail.com\",\"emanley8794@gmail.com\",\"alanna.lohff@gmail.com\",\"elliott.phillips9@gmail.com\",\"tieka14@gmail.com\",\"anniekayscott@gmail.com\",\"mr.walsh.jr@gmail.com\",\"natalielynnsmith@gmail.com\",\"paterson1391@gmail.com\",\"kelli.fairbanks@gmail.com\",\"sammie42finley@gmail.com\",\"cookmichaeledward@gmail.com\",\"gary.patrick.hopkins@gmail.com\",\"alfrancis1996@gmail.com\",\"csmith792@gmail.com\",\"quatretribunal@gmail.com\",\"charli.tiscareno@gmail.com\",\"satn2030@gmail.com\",\"unknown\",\"slauchie@gmail.com\",\"iris.talebi@gmail.com\",\"aliansuleiman95@gmail.com\",\"phillips.m.emily@gmail.com\",\"satn2030@gmail.com\",\"alfrancis1996@gmail.com\",\"mr.walsh.jr@gmail.com\",\"alanna.lohff@gmail.com\",\"sammie42finley@gmail.com\",\"paterson1391@gmail.com\",\"elliott.phillips9@gmail.com\",\"aliansuleiman95@gmail.com\",\"tieka14@gmail.com\",\"emanley8794@gmail.com\",\"thomsonrymer@gmail.com\",\"csmith792@gmail.com\",\"octave2014@gmail.com\",\"slauchie@gmail.com\",\"nneoma.okeoma@gmail.com\",\"ribeirocaitlin@gmail.com\",\"charli.tiscareno@gmail.com\",\"quatretribunal@gmail.com\",\"anniekayscott@gmail.com\",\"cookmichaeledward@gmail.com\",\"scott.ashleylauren@gmail.com\",\"dennis.aa.bailey@gmail.com\",\"kelli.fairbanks@gmail.com\",\"phillips.m.emily@gmail.com\",\"brandoncanino808@gmail.com\",\"sm.ryan1412@gmail.com\",\"natalielynnsmith@gmail.com\",\"gary.patrick.hopkins@gmail.com\",\"iris.talebi@gmail.com\"]},\"selected\":{\"id\":\"3660\"},\"selection_policy\":{\"id\":\"3673\"}},\"id\":\"3659\",\"type\":\"ColumnDataSource\"},{\"attributes\":{\"fill_alpha\":{\"value\":0.2},\"fill_color\":{\"field\":\"result\",\"transform\":{\"id\":\"3658\"}},\"height\":{\"value\":0.8},\"left\":{\"field\":\"bottom\"},\"line_alpha\":{\"value\":0.2},\"right\":{\"field\":\"top\"},\"y\":{\"field\":\"user\"}},\"id\":\"3664\",\"type\":\"HBar\"},{\"attributes\":{},\"id\":\"3643\",\"type\":\"CategoricalTicker\"},{\"attributes\":{\"children\":[{\"id\":\"3625\"},{\"id\":\"3629\"},{\"id\":\"3697\"}],\"margin\":[0,0,0,0],\"name\":\"Row08314\",\"tags\":[\"embedded\"]},\"id\":\"3624\",\"type\":\"Row\"},{\"attributes\":{},\"id\":\"3669\",\"type\":\"CategoricalTickFormatter\"},{\"attributes\":{},\"id\":\"3639\",\"type\":\"BasicTicker\"},{\"attributes\":{\"margin\":[5,5,5,5],\"name\":\"HSpacer08318\",\"sizing_mode\":\"stretch_width\"},\"id\":\"3625\",\"type\":\"Spacer\"},{\"attributes\":{\"text\":\"decisions per user\",\"text_color\":{\"value\":\"black\"},\"text_font_size\":{\"value\":\"12pt\"}},\"id\":\"3630\",\"type\":\"Title\"},{\"attributes\":{},\"id\":\"3647\",\"type\":\"WheelZoomTool\"},{\"attributes\":{\"fill_alpha\":{\"value\":0.1},\"fill_color\":{\"field\":\"result\",\"transform\":{\"id\":\"3658\"}},\"height\":{\"value\":0.8},\"left\":{\"field\":\"bottom\"},\"line_alpha\":{\"value\":0.1},\"right\":{\"field\":\"top\"},\"y\":{\"field\":\"user\"}},\"id\":\"3663\",\"type\":\"HBar\"},{\"attributes\":{\"axis\":{\"id\":\"3638\"},\"grid_line_color\":null,\"ticker\":null},\"id\":\"3641\",\"type\":\"Grid\"}],\"root_ids\":[\"3624\"]},\"title\":\"Bokeh Application\",\"version\":\"2.2.1\"}};\n",
       "  var render_items = [{\"docid\":\"a5bc7f83-4b1a-45e7-87c3-d5713a79da15\",\"root_ids\":[\"3624\"],\"roots\":{\"3624\":\"8a84a32f-a086-49c4-96ca-926ef3e0b992\"}}];\n",
       "  root.Bokeh.embed.embed_items_notebook(docs_json, render_items);\n",
       "  }\n",
       "if (root.Bokeh !== undefined) {\n",
       "    embed_document(root);\n",
       "  } else {\n",
       "    var attempts = 0;\n",
       "    var timer = setInterval(function(root) {\n",
       "      if (root.Bokeh !== undefined) {\n",
       "        clearInterval(timer);\n",
       "        embed_document(root);\n",
       "      } else if (document.readyState == \"complete\") {\n",
       "        attempts++;\n",
       "        if (attempts > 100) {\n",
       "          clearInterval(timer);\n",
       "          console.log(\"Bokeh: ERROR: Unable to run BokehJS code because BokehJS library is missing\");\n",
       "        }\n",
       "      }\n",
       "    }, 10, root)\n",
       "  }\n",
       "})(window);</script>"
      ],
      "text/plain": [
       ":Bars   [user,result]   (count)"
      ]
     },
     "execution_count": 68,
     "metadata": {
      "application/vnd.holoviews_exec.v0+json": {
       "id": "3624"
      }
     },
     "output_type": "execute_result"
    }
   ],
   "source": [
    "user_merge_rates.set_index(['user', 'result'])['count'].hvplot.barh(stacked=True, height=400, legend='bottom_right', title='decisions per user')"
   ]
  },
  {
   "cell_type": "code",
   "execution_count": 69,
   "metadata": {},
   "outputs": [
    {
     "data": {},
     "metadata": {},
     "output_type": "display_data"
    },
    {
     "data": {
      "application/vnd.holoviews_exec.v0+json": "",
      "text/html": [
       "<div id='3739'>\n",
       "\n",
       "\n",
       "\n",
       "\n",
       "\n",
       "  <div class=\"bk-root\" id=\"0566554b-8771-4b74-a859-77ce5271a927\" data-root-id=\"3739\"></div>\n",
       "</div>\n",
       "<script type=\"application/javascript\">(function(root) {\n",
       "  function embed_document(root) {\n",
       "  var docs_json = {\"80d5a8e7-08cb-4f63-843a-fadd75eae8dc\":{\"roots\":{\"references\":[{\"attributes\":{},\"id\":\"3762\",\"type\":\"WheelZoomTool\"},{\"attributes\":{},\"id\":\"3761\",\"type\":\"PanTool\"},{\"attributes\":{},\"id\":\"3760\",\"type\":\"SaveTool\"},{\"attributes\":{},\"id\":\"3788\",\"type\":\"UnionRenderers\"},{\"attributes\":{\"factors\":[\"cjk7067@gmail.com\",\"unknown\",\"aliansuleiman95@gmail.com\",\"paterson1391@gmail.com\",\"sammie42finley@gmail.com\",\"alfrancis1996@gmail.com\",\"satn2030@gmail.com\",\"cookmichaeledward@gmail.com\",\"csmith792@gmail.com\",\"phillips.m.emily@gmail.com\",\"kelli.fairbanks@gmail.com\",\"gary.patrick.hopkins@gmail.com\",\"quatretribunal@gmail.com\",\"charli.tiscareno@gmail.com\",\"slauchie@gmail.com\",\"iris.talebi@gmail.com\",\"mr.walsh.jr@gmail.com\",\"nneoma.okeoma@gmail.com\",\"ribeirocaitlin@gmail.com\",\"anniekayscott@gmail.com\",\"scott.ashleylauren@gmail.com\",\"dennis.aa.bailey@gmail.com\",\"brandoncanino808@gmail.com\",\"sm.ryan1412@gmail.com\",\"octave2014@gmail.com\",\"thomsonrymer@gmail.com\",\"emanley8794@gmail.com\",\"alanna.lohff@gmail.com\",\"elliott.phillips9@gmail.com\",\"tieka14@gmail.com\",\"natalielynnsmith@gmail.com\"],\"tags\":[[[\"user\",\"user\",null]]]},\"id\":\"3742\",\"type\":\"FactorRange\"},{\"attributes\":{\"factors\":[\"merge\",\"dontMerge\",\"dontKnow\"],\"palette\":[\"#1f77b3\",\"#ff7e0e\",\"#2ba02b\"]},\"id\":\"3773\",\"type\":\"CategoricalColorMapper\"},{\"attributes\":{\"margin\":[5,5,5,5],\"name\":\"HSpacer08621\",\"sizing_mode\":\"stretch_width\"},\"id\":\"3740\",\"type\":\"Spacer\"},{\"attributes\":{\"active_drag\":\"auto\",\"active_inspect\":\"auto\",\"active_multi\":null,\"active_scroll\":\"auto\",\"active_tap\":\"auto\",\"tools\":[{\"id\":\"3743\"},{\"id\":\"3760\"},{\"id\":\"3761\"},{\"id\":\"3762\"},{\"id\":\"3763\"},{\"id\":\"3764\"}]},\"id\":\"3766\",\"type\":\"Toolbar\"},{\"attributes\":{},\"id\":\"3784\",\"type\":\"CategoricalTickFormatter\"},{\"attributes\":{\"bottom_units\":\"screen\",\"fill_alpha\":0.5,\"fill_color\":\"lightgrey\",\"left_units\":\"screen\",\"level\":\"overlay\",\"line_alpha\":1.0,\"line_color\":\"black\",\"line_dash\":[4,4],\"line_width\":2,\"right_units\":\"screen\",\"top_units\":\"screen\"},\"id\":\"3765\",\"type\":\"BoxAnnotation\"},{\"attributes\":{\"items\":[{\"id\":\"3791\"}],\"location\":\"bottom_left\"},\"id\":\"3790\",\"type\":\"Legend\"},{\"attributes\":{\"reset_end\":1.0,\"reset_start\":0.0,\"tags\":[[[\"rate\",\"rate\",null]]]},\"id\":\"3741\",\"type\":\"Range1d\"},{\"attributes\":{\"axis_label\":\"\",\"bounds\":\"auto\",\"formatter\":{\"id\":\"3784\"},\"major_label_orientation\":\"horizontal\",\"ticker\":{\"id\":\"3758\"}},\"id\":\"3757\",\"type\":\"CategoricalAxis\"},{\"attributes\":{},\"id\":\"3758\",\"type\":\"CategoricalTicker\"},{\"attributes\":{\"fill_alpha\":{\"value\":0.1},\"fill_color\":{\"field\":\"result\",\"transform\":{\"id\":\"3773\"}},\"height\":{\"value\":0.8},\"left\":{\"field\":\"bottom\"},\"line_alpha\":{\"value\":0.1},\"right\":{\"field\":\"top\"},\"y\":{\"field\":\"user\"}},\"id\":\"3778\",\"type\":\"HBar\"},{\"attributes\":{\"align\":null,\"below\":[{\"id\":\"3753\"}],\"center\":[{\"id\":\"3756\"},{\"id\":\"3759\"},{\"id\":\"3790\"}],\"left\":[{\"id\":\"3757\"}],\"margin\":null,\"min_border_bottom\":10,\"min_border_left\":10,\"min_border_right\":10,\"min_border_top\":10,\"plot_height\":400,\"plot_width\":700,\"renderers\":[{\"id\":\"3780\"}],\"sizing_mode\":\"fixed\",\"title\":{\"id\":\"3745\"},\"toolbar\":{\"id\":\"3766\"},\"x_range\":{\"id\":\"3741\"},\"x_scale\":{\"id\":\"3749\"},\"y_range\":{\"id\":\"3742\"},\"y_scale\":{\"id\":\"3751\"}},\"id\":\"3744\",\"subtype\":\"Figure\",\"type\":\"Plot\"},{\"attributes\":{\"axis\":{\"id\":\"3753\"},\"grid_line_color\":null,\"ticker\":null},\"id\":\"3756\",\"type\":\"Grid\"},{\"attributes\":{\"data\":{\"bottom\":{\"__ndarray__\":\"AAAAAAAAAAAAAAAAAAAAAAAAAAAAAAAAAAAAAAAAAAAAAAAAAAAAAAAAAAAAAAAAAAAAAAAAAAAAAAAAAAAAAAAAAAAAAAAAAAAAAAAAAAAAAAAAAAAAAAAAAAAAAAAAAAAAAAAAAAAAAAAAAAAAAAAAAAAAAAAAAAAAAAAAAAAAAAAAAAAAAAAAAAAAAAAAAAAAAAAAAAAAAAAAAAAAAAAAAAAAAAAAAAAAAAAAAAAAAAAAAAAAAAAAAAAAAAAAAAAAAAAAAAAAAAAAAAAAAAAAAAAAAAAAAAAAAAAAAAAAAAAAAAAAAAAAAAAAAAAAAAAAAAAAAABEc2WFW2zlPxFKwlssbeU/5mI22sf34z/5JXLedKvlP7ypBD4fueM/ZpeuK9NK5z+4Mpec91XkP9CLHzeTVuQ/IS4Xx6W14j+84DUuLWrhP1DVTVFqJ+Q/IiP8q5yP4z8vZPComVfkP7Ni99Rd4eI/cpe8mxyA4j8ccmfPWZTpP0gRsDHaTuM/Ab0x18xr4T/kMiWQbizkP6IBEjmQlOM/whT5rBtM4T+qisGPv57iP6UpFWcfPuM/Sl7Hed4a5j+/zLHne1PkP3VQB3VQB+U/AacdU+k44z8VVK2vSkHlP7oKA9OmkuQ/MHWjF2VD4j8WWtPgxfvvP1CtUQyz5+8/An5Wi8P+7z9wf0BeCqvvPzDJhYFKte8/UqegIbj87z9k5HM3csHvP+r1AIaFwu8/gtVjuyv37z80E5XyCf3vPzBXi0GK3O8/vE1qbXo87z+ERu8VUtvvP8TxiLAAee8/SuC24c/87z9d76cSEfbvP0KmaqzF8u8/Vg4tsp3v7z9iasHIs+/vP+JJXs279+8/mvJVWhD/7z/ctXLCM/3vPxl/aU2P/u8/o30Pxj/m7z+cLE3VgPzvP71zx77r7u8/s6Ar0JH+7z8q8lk3mCLvPxD/wQP48O8/\",\"dtype\":\"float64\",\"order\":\"little\",\"shape\":[90]},\"rate\":{\"__ndarray__\":\"AAAAAAAA8D/5JXLedKvlP0gRsDHaTuM/L2TwqJlX5D+8qQQ+H7njPzB1oxdlQ+I/ZpeuK9NK5z/mYjbax/fjP7Ni99Rd4eI/qorBj7+e4j9KXsd53hrmP+QyJZBuLOQ/uDKXnPdV5D+/zLHne1PkP6UpFWcfPuM/EUrCWyxt5T+iARI5kJTjPyEuF8elteI/whT5rBtM4T9Ec2WFW2zlP7zgNS4tauE/Ab0x18xr4T8ccmfPWZTpP1DVTVFqJ+Q/0IsfN5NW5D8Bpx1T6TjjPyIj/Kucj+M/FVStr0pB5T+6CgPTppLkP3VQB3VQB+U/cpe8mxyA4j8L2qK46CDVP5hKy23JEdU/riEiyUfu1z9Dmcf3NqfUPz8Y3AgpiNg/bSo9U1tj0T+ZJ7DytArXP8CW1xTuC9c/Jcr7VsiO2j9oPRVguoHcPykeTMwPNNc/wWTPHh7P2D9nDKI/NDDXP582vmzLOto/ghLeaOr82j/W1ORIeaHJP6LbcjdqX9k/XRioVPuS3D/7LXJ6mpbXPw/hj/wPHNc/HDGxvi433T8jhlG7dTvZP2PJL5b8Ytk/749GZc6v0z+vGkPyk1DXPxZf8RVf8dU/hZXWui6A2D/2VSmoWl/VP2DW+2W9X9Y/5hDYXLVF2z8epZeyfOhAP4SwUq7zTGg/vNQfmErHIz/jI+BvaD2FPxO0jZ5frYI/mHXF+vI+Oj+nzQ1G5EZ/PwwLhf88vX4/FPtUOImoUT8IZGZXa7A3P+5nVDrfunE/h0i2UrJwmD+LvVwI9VZyP57H4e7p35A/arX9SPKAOT/ORiGw2t1TPzh8syqndFo//Knx0k1iYD+OnZU+N0xgP/c8bENliFA/Yr6sQbX0HT/5IlFq7GE2P/pmDmgpCyc/JV2C8DnAaT8KHZuWVfk7PyRDjDhBFGE/KtP0Rf3iJj/QusEU+aybPwDhAXz4D14/\",\"dtype\":\"float64\",\"order\":\"little\",\"shape\":[90]},\"result\":[\"merge\",\"merge\",\"merge\",\"merge\",\"merge\",\"merge\",\"merge\",\"merge\",\"merge\",\"merge\",\"merge\",\"merge\",\"merge\",\"merge\",\"merge\",\"merge\",\"merge\",\"merge\",\"merge\",\"merge\",\"merge\",\"merge\",\"merge\",\"merge\",\"merge\",\"merge\",\"merge\",\"merge\",\"merge\",\"merge\",\"merge\",\"dontMerge\",\"dontMerge\",\"dontMerge\",\"dontMerge\",\"dontMerge\",\"dontMerge\",\"dontMerge\",\"dontMerge\",\"dontMerge\",\"dontMerge\",\"dontMerge\",\"dontMerge\",\"dontMerge\",\"dontMerge\",\"dontMerge\",\"dontMerge\",\"dontMerge\",\"dontMerge\",\"dontMerge\",\"dontMerge\",\"dontMerge\",\"dontMerge\",\"dontMerge\",\"dontMerge\",\"dontMerge\",\"dontMerge\",\"dontMerge\",\"dontMerge\",\"dontMerge\",\"dontMerge\",\"dontKnow\",\"dontKnow\",\"dontKnow\",\"dontKnow\",\"dontKnow\",\"dontKnow\",\"dontKnow\",\"dontKnow\",\"dontKnow\",\"dontKnow\",\"dontKnow\",\"dontKnow\",\"dontKnow\",\"dontKnow\",\"dontKnow\",\"dontKnow\",\"dontKnow\",\"dontKnow\",\"dontKnow\",\"dontKnow\",\"dontKnow\",\"dontKnow\",\"dontKnow\",\"dontKnow\",\"dontKnow\",\"dontKnow\",\"dontKnow\",\"dontKnow\",\"dontKnow\"],\"top\":{\"__ndarray__\":\"AAAAAAAA8D/5JXLedKvlP0gRsDHaTuM/L2TwqJlX5D+8qQQ+H7njPzB1oxdlQ+I/ZpeuK9NK5z/mYjbax/fjP7Ni99Rd4eI/qorBj7+e4j9KXsd53hrmP+QyJZBuLOQ/uDKXnPdV5D+/zLHne1PkP6UpFWcfPuM/EUrCWyxt5T+iARI5kJTjPyEuF8elteI/whT5rBtM4T9Ec2WFW2zlP7zgNS4tauE/Ab0x18xr4T8ccmfPWZTpP1DVTVFqJ+Q/0IsfN5NW5D8Bpx1T6TjjPyIj/Kucj+M/FVStr0pB5T+6CgPTppLkP3VQB3VQB+U/cpe8mxyA4j9K4Lbhz/zvP13vpxIR9u8/vXPHvuvu7z+a8lVaEP/vP9y1csIz/e8/nCxN1YD87z+ERu8VUtvvPzBXi0GK3O8/NBOV8gn97z9wf0BeCqvvP2Tkczdywe8/gtVjuyv37z9iasHIs+/vPwJ+VovD/u8/s6Ar0JH+7z9Sp6AhuPzvPxl/aU2P/u8/MMmFgUq17z/iSV7Nu/fvPyryWTeYIu8/UK1RDLPn7z+8TWptejzvP1YOLbKd7+8/QqZqrMXy7z8WWtPgxfvvPwAAAAAAAPA/xPGIsAB57z8Q/8ED+PDvP+r1AIaFwu8/o30Pxj/m7z/////////vPwAAAAAAAPA/////////7z8AAAAAAADwPwAAAAAAAPA/AAAAAAAA8D/////////vPwAAAAAAAPA/AAAAAAAA8D8AAAAAAADwPwAAAAAAAPA/AAAAAAAA8D/////////vPwAAAAAAAPA/AAAAAAAA8D8AAAAAAADwPwAAAAAAAPA/AAAAAAAA8D8AAAAAAADwPwAAAAAAAPA/AAAAAAAA8D8AAAAAAADwP////////+8/AAAAAAAA8D8AAAAAAADwPwAAAAAAAPA/AAAAAAAA8D8AAAAAAADwPwAAAAAAAPA/\",\"dtype\":\"float64\",\"order\":\"little\",\"shape\":[90]},\"user\":[\"cjk7067@gmail.com\",\"scott.ashleylauren@gmail.com\",\"kelli.fairbanks@gmail.com\",\"anniekayscott@gmail.com\",\"dennis.aa.bailey@gmail.com\",\"phillips.m.emily@gmail.com\",\"brandoncanino808@gmail.com\",\"sm.ryan1412@gmail.com\",\"mr.walsh.jr@gmail.com\",\"csmith792@gmail.com\",\"charli.tiscareno@gmail.com\",\"cookmichaeledward@gmail.com\",\"octave2014@gmail.com\",\"satn2030@gmail.com\",\"quatretribunal@gmail.com\",\"ribeirocaitlin@gmail.com\",\"gary.patrick.hopkins@gmail.com\",\"emanley8794@gmail.com\",\"alfrancis1996@gmail.com\",\"nneoma.okeoma@gmail.com\",\"alanna.lohff@gmail.com\",\"sammie42finley@gmail.com\",\"paterson1391@gmail.com\",\"elliott.phillips9@gmail.com\",\"thomsonrymer@gmail.com\",\"slauchie@gmail.com\",\"tieka14@gmail.com\",\"iris.talebi@gmail.com\",\"aliansuleiman95@gmail.com\",\"unknown\",\"natalielynnsmith@gmail.com\",\"nneoma.okeoma@gmail.com\",\"ribeirocaitlin@gmail.com\",\"sm.ryan1412@gmail.com\",\"scott.ashleylauren@gmail.com\",\"dennis.aa.bailey@gmail.com\",\"brandoncanino808@gmail.com\",\"octave2014@gmail.com\",\"thomsonrymer@gmail.com\",\"emanley8794@gmail.com\",\"alanna.lohff@gmail.com\",\"elliott.phillips9@gmail.com\",\"tieka14@gmail.com\",\"anniekayscott@gmail.com\",\"mr.walsh.jr@gmail.com\",\"natalielynnsmith@gmail.com\",\"paterson1391@gmail.com\",\"kelli.fairbanks@gmail.com\",\"sammie42finley@gmail.com\",\"cookmichaeledward@gmail.com\",\"gary.patrick.hopkins@gmail.com\",\"alfrancis1996@gmail.com\",\"csmith792@gmail.com\",\"quatretribunal@gmail.com\",\"charli.tiscareno@gmail.com\",\"satn2030@gmail.com\",\"unknown\",\"slauchie@gmail.com\",\"iris.talebi@gmail.com\",\"aliansuleiman95@gmail.com\",\"phillips.m.emily@gmail.com\",\"satn2030@gmail.com\",\"alfrancis1996@gmail.com\",\"mr.walsh.jr@gmail.com\",\"alanna.lohff@gmail.com\",\"sammie42finley@gmail.com\",\"paterson1391@gmail.com\",\"elliott.phillips9@gmail.com\",\"aliansuleiman95@gmail.com\",\"tieka14@gmail.com\",\"emanley8794@gmail.com\",\"thomsonrymer@gmail.com\",\"csmith792@gmail.com\",\"octave2014@gmail.com\",\"slauchie@gmail.com\",\"nneoma.okeoma@gmail.com\",\"ribeirocaitlin@gmail.com\",\"charli.tiscareno@gmail.com\",\"quatretribunal@gmail.com\",\"anniekayscott@gmail.com\",\"cookmichaeledward@gmail.com\",\"scott.ashleylauren@gmail.com\",\"dennis.aa.bailey@gmail.com\",\"kelli.fairbanks@gmail.com\",\"phillips.m.emily@gmail.com\",\"brandoncanino808@gmail.com\",\"sm.ryan1412@gmail.com\",\"natalielynnsmith@gmail.com\",\"gary.patrick.hopkins@gmail.com\",\"iris.talebi@gmail.com\"]},\"selected\":{\"id\":\"3775\"},\"selection_policy\":{\"id\":\"3788\"}},\"id\":\"3774\",\"type\":\"ColumnDataSource\"},{\"attributes\":{\"data_source\":{\"id\":\"3774\"},\"glyph\":{\"id\":\"3777\"},\"hover_glyph\":null,\"muted_glyph\":{\"id\":\"3779\"},\"nonselection_glyph\":{\"id\":\"3778\"},\"selection_glyph\":null,\"view\":{\"id\":\"3781\"}},\"id\":\"3780\",\"type\":\"GlyphRenderer\"},{\"attributes\":{},\"id\":\"3754\",\"type\":\"BasicTicker\"},{\"attributes\":{},\"id\":\"3786\",\"type\":\"BasicTickFormatter\"},{\"attributes\":{\"axis_label\":\"rate\",\"bounds\":\"auto\",\"formatter\":{\"id\":\"3786\"},\"major_label_orientation\":\"horizontal\",\"ticker\":{\"id\":\"3754\"}},\"id\":\"3753\",\"type\":\"LinearAxis\"},{\"attributes\":{\"fill_alpha\":{\"value\":0.2},\"fill_color\":{\"field\":\"result\",\"transform\":{\"id\":\"3773\"}},\"height\":{\"value\":0.8},\"left\":{\"field\":\"bottom\"},\"line_alpha\":{\"value\":0.2},\"right\":{\"field\":\"top\"},\"y\":{\"field\":\"user\"}},\"id\":\"3779\",\"type\":\"HBar\"},{\"attributes\":{},\"id\":\"3751\",\"type\":\"CategoricalScale\"},{\"attributes\":{\"children\":[{\"id\":\"3740\"},{\"id\":\"3744\"},{\"id\":\"3812\"}],\"margin\":[0,0,0,0],\"name\":\"Row08617\",\"tags\":[\"embedded\"]},\"id\":\"3739\",\"type\":\"Row\"},{\"attributes\":{\"source\":{\"id\":\"3774\"}},\"id\":\"3781\",\"type\":\"CDSView\"},{\"attributes\":{},\"id\":\"3775\",\"type\":\"Selection\"},{\"attributes\":{\"margin\":[5,5,5,5],\"name\":\"HSpacer08622\",\"sizing_mode\":\"stretch_width\"},\"id\":\"3812\",\"type\":\"Spacer\"},{\"attributes\":{\"text\":\"decision rates per user\",\"text_color\":{\"value\":\"black\"},\"text_font_size\":{\"value\":\"12pt\"}},\"id\":\"3745\",\"type\":\"Title\"},{\"attributes\":{\"label\":{\"field\":\"result\"},\"renderers\":[{\"id\":\"3780\"}]},\"id\":\"3791\",\"type\":\"LegendItem\"},{\"attributes\":{\"fill_color\":{\"field\":\"result\",\"transform\":{\"id\":\"3773\"}},\"height\":{\"value\":0.8},\"left\":{\"field\":\"bottom\"},\"right\":{\"field\":\"top\"},\"y\":{\"field\":\"user\"}},\"id\":\"3777\",\"type\":\"HBar\"},{\"attributes\":{},\"id\":\"3764\",\"type\":\"ResetTool\"},{\"attributes\":{\"axis\":{\"id\":\"3757\"},\"dimension\":1,\"grid_line_color\":null,\"ticker\":null},\"id\":\"3759\",\"type\":\"Grid\"},{\"attributes\":{},\"id\":\"3749\",\"type\":\"LinearScale\"},{\"attributes\":{\"callback\":null,\"renderers\":[{\"id\":\"3780\"}],\"tags\":[\"hv_created\"],\"tooltips\":[[\"user\",\"@{user}\"],[\"result\",\"@{result}\"],[\"rate\",\"@{rate}\"]]},\"id\":\"3743\",\"type\":\"HoverTool\"},{\"attributes\":{\"overlay\":{\"id\":\"3765\"}},\"id\":\"3763\",\"type\":\"BoxZoomTool\"}],\"root_ids\":[\"3739\"]},\"title\":\"Bokeh Application\",\"version\":\"2.2.1\"}};\n",
       "  var render_items = [{\"docid\":\"80d5a8e7-08cb-4f63-843a-fadd75eae8dc\",\"root_ids\":[\"3739\"],\"roots\":{\"3739\":\"0566554b-8771-4b74-a859-77ce5271a927\"}}];\n",
       "  root.Bokeh.embed.embed_items_notebook(docs_json, render_items);\n",
       "  }\n",
       "if (root.Bokeh !== undefined) {\n",
       "    embed_document(root);\n",
       "  } else {\n",
       "    var attempts = 0;\n",
       "    var timer = setInterval(function(root) {\n",
       "      if (root.Bokeh !== undefined) {\n",
       "        clearInterval(timer);\n",
       "        embed_document(root);\n",
       "      } else if (document.readyState == \"complete\") {\n",
       "        attempts++;\n",
       "        if (attempts > 100) {\n",
       "          clearInterval(timer);\n",
       "          console.log(\"Bokeh: ERROR: Unable to run BokehJS code because BokehJS library is missing\");\n",
       "        }\n",
       "      }\n",
       "    }, 10, root)\n",
       "  }\n",
       "})(window);</script>"
      ],
      "text/plain": [
       ":Bars   [user,result]   (rate)"
      ]
     },
     "execution_count": 69,
     "metadata": {
      "application/vnd.holoviews_exec.v0+json": {
       "id": "3739"
      }
     },
     "output_type": "execute_result"
    }
   ],
   "source": [
    "# Same as above, but normalized by task count to make it easier to compare merge rates\n",
    "user_merge_rates.set_index(['user', 'result'])['rate'].hvplot.barh(stacked=True, height=400, legend='bottom_left', title='decision rates per user')"
   ]
  },
  {
   "cell_type": "markdown",
   "metadata": {},
   "source": [
    "### Show the merge rates for RAG-based tasks by (binned) score"
   ]
  },
  {
   "cell_type": "code",
   "execution_count": 91,
   "metadata": {},
   "outputs": [
    {
     "data": {},
     "metadata": {},
     "output_type": "display_data"
    },
    {
     "data": {
      "application/vnd.holoviews_exec.v0+json": "",
      "text/html": [
       "<div id='5240'>\n",
       "\n",
       "\n",
       "\n",
       "\n",
       "\n",
       "  <div class=\"bk-root\" id=\"1e29f15b-d075-40f3-918e-d145eb4c3536\" data-root-id=\"5240\"></div>\n",
       "</div>\n",
       "<script type=\"application/javascript\">(function(root) {\n",
       "  function embed_document(root) {\n",
       "  var docs_json = {\"4f2d3677-3e7d-4e21-b565-9f1caefadad2\":{\"roots\":{\"references\":[{\"attributes\":{\"data_source\":{\"id\":\"5275\"},\"glyph\":{\"id\":\"5278\"},\"hover_glyph\":null,\"muted_glyph\":{\"id\":\"5280\"},\"nonselection_glyph\":{\"id\":\"5279\"},\"selection_glyph\":null,\"view\":{\"id\":\"5282\"}},\"id\":\"5281\",\"type\":\"GlyphRenderer\"},{\"attributes\":{\"margin\":[5,5,5,5],\"name\":\"HSpacer13005\",\"sizing_mode\":\"stretch_width\"},\"id\":\"5313\",\"type\":\"Spacer\"},{\"attributes\":{\"items\":[{\"id\":\"5292\"}],\"location\":\"bottom_right\"},\"id\":\"5291\",\"type\":\"Legend\"},{\"attributes\":{\"active_drag\":\"auto\",\"active_inspect\":\"auto\",\"active_multi\":null,\"active_scroll\":\"auto\",\"active_tap\":\"auto\",\"tools\":[{\"id\":\"5244\"},{\"id\":\"5261\"},{\"id\":\"5262\"},{\"id\":\"5263\"},{\"id\":\"5264\"},{\"id\":\"5265\"}]},\"id\":\"5267\",\"type\":\"Toolbar\"},{\"attributes\":{\"axis_label\":\"\",\"bounds\":\"auto\",\"formatter\":{\"id\":\"5285\"},\"major_label_orientation\":\"horizontal\",\"ticker\":{\"id\":\"5259\"}},\"id\":\"5258\",\"type\":\"CategoricalAxis\"},{\"attributes\":{},\"id\":\"5289\",\"type\":\"UnionRenderers\"},{\"attributes\":{\"source\":{\"id\":\"5275\"}},\"id\":\"5282\",\"type\":\"CDSView\"},{\"attributes\":{\"fill_color\":{\"field\":\"result\",\"transform\":{\"id\":\"5274\"}},\"height\":{\"value\":0.8},\"left\":{\"field\":\"bottom\"},\"right\":{\"field\":\"top\"},\"y\":{\"field\":\"score_bin\"}},\"id\":\"5278\",\"type\":\"HBar\"},{\"attributes\":{},\"id\":\"5287\",\"type\":\"BasicTickFormatter\"},{\"attributes\":{\"data\":{\"bottom\":{\"__ndarray__\":\"AAAAAAAAAAAAAAAAAAAAAAAAAAAAAAAAAAAAAAAAAAAAAAAAAAAAAAAAAAAAAAAAAAAAAAAAAAAAAAAAAAAAAAAAAAAAAAAAAAAAAAAAAAAAAAAAAAAAAAAAAAAAAAAAAAAAAAAAAAAAAAAAAAAAAAAAAAAAAAAAAAAAAAAAAAAAAAAAAAAAAAAAAAAAAAAAAAAAAAAAAAAAAAAAAAAAAAAAAAAAAAAAAAAAAAAAAAAAAAAAAAAAAAAAAAAAAAAAAAAAAAAAAAAAAAAAAAAAAAAAAAAAAAAAAAAAAAAAAAAAAAAAAAAAAAAAAAAAAAAAAAAAAAAAAAAAAAAAAAAAAAAAAAAAAAAAAAAAAAAAAAAAAAAAAAAAAAAAAAAAAAAAAAAAAAAAAAAAAAAAAAAAAAAAAAAAAAAAAAAAAAAAAAAAAAAAAAAAAAAAAAAAAAAAAAAAAAAAAAAAAAAAAAAAAAAAAAAAAAAAAAAAAAAAAAAAAAAAAAAAAAAAAAAAAAAAAAAAAAAAAAAAAAAAAAAAAAAAAAAAAAAAAAAAAAAAAAAAAAAAAAAAAAAAAAAAAAAAAAAAAAAAAAAAAAAAAAAAAAAAAAAAAAAAAAAAAAAAAAAAAAAAAAAAAAAAAAAAAAAAAAAAAABomUAAAAAAgNnOQAAAAAAAPKpAAAAAAICKyEAAAAAAAGSSQAAAAAAANqBAAAAAAAAgkEAAAAAAAAiyQAAAAAAAMJVAAAAAAMCM7kAAAAAAACSQQAAAAAAA8KRAAAAAAAB4iEAAAAAAANiLQAAAAAAADJdAAAAAAABknUAAAAAAAJiHQAAAAAAAEIhAAAAAAABwiUAAAAAAAKyTQA==\",\"dtype\":\"float64\",\"order\":\"little\",\"shape\":[80]},\"count\":[0,0,0,0,0,0,0,0,0,0,0,0,0,0,0,0,0,0,0,0,0,0,0,0,0,0,0,0,0,0,0,0,0,0,0,0,0,0,0,0,1177,1626,12565,4616,2680,1475,1881,783,891,15795,3358,2075,1356,1033,1259,755,770,62566,1032,814,161,34704,306,4230,105,129,75,1289,92,22867,83,464,63,59,124,207,74,66,74,77],\"result\":[\"dontKnow\",\"dontKnow\",\"dontKnow\",\"dontKnow\",\"dontKnow\",\"dontKnow\",\"dontKnow\",\"dontKnow\",\"dontKnow\",\"dontKnow\",\"dontKnow\",\"dontKnow\",\"dontKnow\",\"dontKnow\",\"dontKnow\",\"dontKnow\",\"dontKnow\",\"dontKnow\",\"dontKnow\",\"dontKnow\",\"skip (same body ID)\",\"skip (same body ID)\",\"skip (same body ID)\",\"skip (same body ID)\",\"skip (same body ID)\",\"skip (same body ID)\",\"skip (same body ID)\",\"skip (same body ID)\",\"skip (same body ID)\",\"skip (same body ID)\",\"skip (same body ID)\",\"skip (same body ID)\",\"skip (same body ID)\",\"skip (same body ID)\",\"skip (same body ID)\",\"skip (same body ID)\",\"skip (same body ID)\",\"skip (same body ID)\",\"skip (same body ID)\",\"skip (same body ID)\",\"merge\",\"merge\",\"merge\",\"merge\",\"merge\",\"merge\",\"merge\",\"merge\",\"merge\",\"merge\",\"merge\",\"merge\",\"merge\",\"merge\",\"merge\",\"merge\",\"merge\",\"merge\",\"merge\",\"merge\",\"dontMerge\",\"dontMerge\",\"dontMerge\",\"dontMerge\",\"dontMerge\",\"dontMerge\",\"dontMerge\",\"dontMerge\",\"dontMerge\",\"dontMerge\",\"dontMerge\",\"dontMerge\",\"dontMerge\",\"dontMerge\",\"dontMerge\",\"dontMerge\",\"dontMerge\",\"dontMerge\",\"dontMerge\",\"dontMerge\"],\"score_bin\":[\"0\",\"0.55\",\"0.5\",\"0.65\",\"0.45\",\"0.7\",\"0.4\",\"0.35\",\"0.75\",\"0.3\",\"0.8\",\"0.25\",\"0.2\",\"0.85\",\"0.6\",\"0.1\",\"0.15\",\"0.05\",\"0.9\",\"0.95\",\"0.65\",\"0.45\",\"0.5\",\"0.05\",\"0.4\",\"0.7\",\"0.85\",\"0.35\",\"0.15\",\"0.75\",\"0.3\",\"0.1\",\"0.55\",\"0.25\",\"0.6\",\"0.8\",\"0\",\"0.2\",\"0.9\",\"0.95\",\"0.6\",\"0.7\",\"0.9\",\"0.85\",\"0.8\",\"0.65\",\"0.75\",\"0.45\",\"0.25\",\"0\",\"0.05\",\"0.1\",\"0.15\",\"0.2\",\"0.55\",\"0.3\",\"0.35\",\"0.95\",\"0.5\",\"0.4\",\"0.7\",\"0\",\"0.05\",\"0.9\",\"0.6\",\"0.1\",\"0.5\",\"0.85\",\"0.15\",\"0.95\",\"0.2\",\"0.8\",\"0.45\",\"0.25\",\"0.65\",\"0.75\",\"0.3\",\"0.35\",\"0.4\",\"0.55\"],\"top\":{\"__ndarray__\":\"AAAAAAAAAAAAAAAAAAAAAAAAAAAAAAAAAAAAAAAAAAAAAAAAAAAAAAAAAAAAAAAAAAAAAAAAAAAAAAAAAAAAAAAAAAAAAAAAAAAAAAAAAAAAAAAAAAAAAAAAAAAAAAAAAAAAAAAAAAAAAAAAAAAAAAAAAAAAAAAAAAAAAAAAAAAAAAAAAAAAAAAAAAAAAAAAAAAAAAAAAAAAAAAAAAAAAAAAAAAAAAAAAAAAAAAAAAAAAAAAAAAAAAAAAAAAAAAAAAAAAAAAAAAAAAAAAAAAAAAAAAAAAAAAAAAAAAAAAAAAAAAAAAAAAAAAAAAAAAAAAAAAAAAAAAAAAAAAAAAAAAAAAAAAAAAAAAAAAAAAAAAAAAAAAAAAAAAAAAAAAAAAAAAAAAAAAAAAAAAAAAAAAAAAAAAAAAAAAAAAAAAAAAAAAAAAAGSSQAAAAAAAaJlAAAAAAICKyEAAAAAAAAiyQAAAAAAA8KRAAAAAAAAMl0AAAAAAAGSdQAAAAAAAeIhAAAAAAADYi0AAAAAAgNnOQAAAAAAAPKpAAAAAAAA2oEAAAAAAADCVQAAAAAAAJJBAAAAAAACsk0AAAAAAAJiHQAAAAAAAEIhAAAAAAMCM7kAAAAAAACCQQAAAAAAAcIlAAAAAAADsm0AAAAAAYKjoQAAAAAAAoKxAAAAAAMBm0EAAAAAAAAiUQAAAAAAAOKFAAAAAAABMkUAAAAAAABG3QAAAAAAAoJZAAAAAAJDb9EAAAAAAAHCRQAAAAAAAkKhAAAAAAABwikAAAAAAALCNQAAAAAAA/JhAAAAAAABQoEAAAAAAAOiJQAAAAAAAIIpAAAAAAADAi0AAAAAAAOCUQA==\",\"dtype\":\"float64\",\"order\":\"little\",\"shape\":[80]}},\"selected\":{\"id\":\"5276\"},\"selection_policy\":{\"id\":\"5289\"}},\"id\":\"5275\",\"type\":\"ColumnDataSource\"},{\"attributes\":{},\"id\":\"5285\",\"type\":\"CategoricalTickFormatter\"},{\"attributes\":{\"factors\":[\"dontKnow\",\"skip (same body ID)\",\"merge\",\"dontMerge\"],\"palette\":[\"#1f77b3\",\"#ff7e0e\",\"#2ba02b\",\"#d62628\"]},\"id\":\"5274\",\"type\":\"CategoricalColorMapper\"},{\"attributes\":{},\"id\":\"5250\",\"type\":\"LinearScale\"},{\"attributes\":{\"factors\":[\"0\",\"0.05\",\"0.1\",\"0.15\",\"0.2\",\"0.25\",\"0.3\",\"0.35\",\"0.4\",\"0.45\",\"0.5\",\"0.55\",\"0.6\",\"0.65\",\"0.7\",\"0.75\",\"0.8\",\"0.85\",\"0.9\",\"0.95\"],\"tags\":[[[\"score_bin\",\"score_bin\",null]]]},\"id\":\"5243\",\"type\":\"FactorRange\"},{\"attributes\":{\"axis_label\":\"count\",\"bounds\":\"auto\",\"formatter\":{\"id\":\"5287\"},\"major_label_orientation\":\"horizontal\",\"ticker\":{\"id\":\"5255\"}},\"id\":\"5254\",\"type\":\"LinearAxis\"},{\"attributes\":{},\"id\":\"5255\",\"type\":\"BasicTicker\"},{\"attributes\":{\"bottom_units\":\"screen\",\"fill_alpha\":0.5,\"fill_color\":\"lightgrey\",\"left_units\":\"screen\",\"level\":\"overlay\",\"line_alpha\":1.0,\"line_color\":\"black\",\"line_dash\":[4,4],\"line_width\":2,\"right_units\":\"screen\",\"top_units\":\"screen\"},\"id\":\"5266\",\"type\":\"BoxAnnotation\"},{\"attributes\":{\"callback\":null,\"renderers\":[{\"id\":\"5281\"}],\"tags\":[\"hv_created\"],\"tooltips\":[[\"score_bin\",\"@{score_bin}\"],[\"result\",\"@{result}\"],[\"count\",\"@{count}\"]]},\"id\":\"5244\",\"type\":\"HoverTool\"},{\"attributes\":{\"margin\":[5,5,5,5],\"name\":\"HSpacer13004\",\"sizing_mode\":\"stretch_width\"},\"id\":\"5241\",\"type\":\"Spacer\"},{\"attributes\":{},\"id\":\"5262\",\"type\":\"PanTool\"},{\"attributes\":{\"fill_alpha\":{\"value\":0.2},\"fill_color\":{\"field\":\"result\",\"transform\":{\"id\":\"5274\"}},\"height\":{\"value\":0.8},\"left\":{\"field\":\"bottom\"},\"line_alpha\":{\"value\":0.2},\"right\":{\"field\":\"top\"},\"y\":{\"field\":\"score_bin\"}},\"id\":\"5280\",\"type\":\"HBar\"},{\"attributes\":{},\"id\":\"5261\",\"type\":\"SaveTool\"},{\"attributes\":{\"end\":93893.4,\"reset_end\":93893.4,\"reset_start\":0.0,\"tags\":[[[\"count\",\"count\",null]]]},\"id\":\"5242\",\"type\":\"Range1d\"},{\"attributes\":{\"overlay\":{\"id\":\"5266\"}},\"id\":\"5264\",\"type\":\"BoxZoomTool\"},{\"attributes\":{\"align\":null,\"below\":[{\"id\":\"5254\"}],\"center\":[{\"id\":\"5257\"},{\"id\":\"5260\"},{\"id\":\"5291\"}],\"left\":[{\"id\":\"5258\"}],\"margin\":null,\"min_border_bottom\":10,\"min_border_left\":10,\"min_border_right\":10,\"min_border_top\":10,\"plot_height\":300,\"plot_width\":700,\"renderers\":[{\"id\":\"5281\"}],\"sizing_mode\":\"fixed\",\"title\":{\"id\":\"5246\"},\"toolbar\":{\"id\":\"5267\"},\"x_range\":{\"id\":\"5242\"},\"x_scale\":{\"id\":\"5250\"},\"y_range\":{\"id\":\"5243\"},\"y_scale\":{\"id\":\"5252\"}},\"id\":\"5245\",\"subtype\":\"Figure\",\"type\":\"Plot\"},{\"attributes\":{},\"id\":\"5276\",\"type\":\"Selection\"},{\"attributes\":{},\"id\":\"5265\",\"type\":\"ResetTool\"},{\"attributes\":{},\"id\":\"5252\",\"type\":\"CategoricalScale\"},{\"attributes\":{\"text\":\"count\",\"text_color\":{\"value\":\"black\"},\"text_font_size\":{\"value\":\"12pt\"}},\"id\":\"5246\",\"type\":\"Title\"},{\"attributes\":{\"fill_alpha\":{\"value\":0.1},\"fill_color\":{\"field\":\"result\",\"transform\":{\"id\":\"5274\"}},\"height\":{\"value\":0.8},\"left\":{\"field\":\"bottom\"},\"line_alpha\":{\"value\":0.1},\"right\":{\"field\":\"top\"},\"y\":{\"field\":\"score_bin\"}},\"id\":\"5279\",\"type\":\"HBar\"},{\"attributes\":{\"children\":[{\"id\":\"5241\"},{\"id\":\"5245\"},{\"id\":\"5313\"}],\"margin\":[0,0,0,0],\"name\":\"Row13000\",\"tags\":[\"embedded\"]},\"id\":\"5240\",\"type\":\"Row\"},{\"attributes\":{},\"id\":\"5259\",\"type\":\"CategoricalTicker\"},{\"attributes\":{\"axis\":{\"id\":\"5254\"},\"grid_line_color\":null,\"ticker\":null},\"id\":\"5257\",\"type\":\"Grid\"},{\"attributes\":{},\"id\":\"5263\",\"type\":\"WheelZoomTool\"},{\"attributes\":{\"axis\":{\"id\":\"5258\"},\"dimension\":1,\"grid_line_color\":null,\"ticker\":null},\"id\":\"5260\",\"type\":\"Grid\"},{\"attributes\":{\"label\":{\"field\":\"result\"},\"renderers\":[{\"id\":\"5281\"}]},\"id\":\"5292\",\"type\":\"LegendItem\"}],\"root_ids\":[\"5240\"]},\"title\":\"Bokeh Application\",\"version\":\"2.2.1\"}};\n",
       "  var render_items = [{\"docid\":\"4f2d3677-3e7d-4e21-b565-9f1caefadad2\",\"root_ids\":[\"5240\"],\"roots\":{\"5240\":\"1e29f15b-d075-40f3-918e-d145eb4c3536\"}}];\n",
       "  root.Bokeh.embed.embed_items_notebook(docs_json, render_items);\n",
       "  }\n",
       "if (root.Bokeh !== undefined) {\n",
       "    embed_document(root);\n",
       "  } else {\n",
       "    var attempts = 0;\n",
       "    var timer = setInterval(function(root) {\n",
       "      if (root.Bokeh !== undefined) {\n",
       "        clearInterval(timer);\n",
       "        embed_document(root);\n",
       "      } else if (document.readyState == \"complete\") {\n",
       "        attempts++;\n",
       "        if (attempts > 100) {\n",
       "          clearInterval(timer);\n",
       "          console.log(\"Bokeh: ERROR: Unable to run BokehJS code because BokehJS library is missing\");\n",
       "        }\n",
       "      }\n",
       "    }, 10, root)\n",
       "  }\n",
       "})(window);</script>"
      ],
      "text/plain": [
       ":Bars   [score_bin,result]   (count)"
      ]
     },
     "execution_count": 91,
     "metadata": {
      "application/vnd.holoviews_exec.v0+json": {
       "id": "5240"
      }
     },
     "output_type": "execute_result"
    }
   ],
   "source": [
    "# Change this bin width for more fine-grained visualization\n",
    "bin_width = 0.05\n",
    "\n",
    "# Select tasks with a 'score'\n",
    "selections = decisions.query('not score.isnull()').copy()\n",
    "selections['score_bin'] = bin_width*(selections['score'] // bin_width)\n",
    "\n",
    "result_counts = (selections.query('result != \"dontKnow\"')[['score_bin', 'result']]\n",
    "                     .groupby(['score_bin'])['result']\n",
    "                     .agg([lambda x: x.value_counts().rename_axis('result').iloc[::-1],\n",
    "                           lambda x: x.value_counts().rename_axis('result').iloc[::-1] / len(x)]))\n",
    "\n",
    "result_counts.columns = ['count', 'rate']\n",
    "result_counts['count'].hvplot.barh(stacked=True, legend='bottom_right', height=int(1000//(bin_width*100) + 100))"
   ]
  },
  {
   "cell_type": "code",
   "execution_count": 85,
   "metadata": {},
   "outputs": [
    {
     "data": {},
     "metadata": {},
     "output_type": "display_data"
    },
    {
     "data": {
      "application/vnd.holoviews_exec.v0+json": "",
      "text/html": [
       "<div id='4665'>\n",
       "\n",
       "\n",
       "\n",
       "\n",
       "\n",
       "  <div class=\"bk-root\" id=\"76206b85-2226-4e52-8694-3595c1c173ca\" data-root-id=\"4665\"></div>\n",
       "</div>\n",
       "<script type=\"application/javascript\">(function(root) {\n",
       "  function embed_document(root) {\n",
       "  var docs_json = {\"65ca2737-8391-4706-a5f6-8ebc70a53000\":{\"roots\":{\"references\":[{\"attributes\":{\"axis\":{\"id\":\"4679\"},\"grid_line_color\":null,\"ticker\":null},\"id\":\"4682\",\"type\":\"Grid\"},{\"attributes\":{},\"id\":\"4686\",\"type\":\"SaveTool\"},{\"attributes\":{},\"id\":\"4684\",\"type\":\"CategoricalTicker\"},{\"attributes\":{},\"id\":\"4687\",\"type\":\"PanTool\"},{\"attributes\":{\"children\":[{\"id\":\"4666\"},{\"id\":\"4670\"},{\"id\":\"4738\"}],\"margin\":[0,0,0,0],\"name\":\"Row11485\",\"tags\":[\"embedded\"]},\"id\":\"4665\",\"type\":\"Row\"},{\"attributes\":{\"align\":null,\"below\":[{\"id\":\"4679\"}],\"center\":[{\"id\":\"4682\"},{\"id\":\"4685\"},{\"id\":\"4716\"}],\"left\":[{\"id\":\"4683\"}],\"margin\":null,\"min_border_bottom\":10,\"min_border_left\":10,\"min_border_right\":10,\"min_border_top\":10,\"plot_height\":300,\"plot_width\":700,\"renderers\":[{\"id\":\"4706\"}],\"sizing_mode\":\"fixed\",\"title\":{\"id\":\"4671\"},\"toolbar\":{\"id\":\"4692\"},\"x_range\":{\"id\":\"4667\"},\"x_scale\":{\"id\":\"4675\"},\"y_range\":{\"id\":\"4668\"},\"y_scale\":{\"id\":\"4677\"}},\"id\":\"4670\",\"subtype\":\"Figure\",\"type\":\"Plot\"},{\"attributes\":{},\"id\":\"4688\",\"type\":\"WheelZoomTool\"},{\"attributes\":{\"active_drag\":\"auto\",\"active_inspect\":\"auto\",\"active_multi\":null,\"active_scroll\":\"auto\",\"active_tap\":\"auto\",\"tools\":[{\"id\":\"4669\"},{\"id\":\"4686\"},{\"id\":\"4687\"},{\"id\":\"4688\"},{\"id\":\"4689\"},{\"id\":\"4690\"}]},\"id\":\"4692\",\"type\":\"Toolbar\"},{\"attributes\":{\"bottom_units\":\"screen\",\"fill_alpha\":0.5,\"fill_color\":\"lightgrey\",\"left_units\":\"screen\",\"level\":\"overlay\",\"line_alpha\":1.0,\"line_color\":\"black\",\"line_dash\":[4,4],\"line_width\":2,\"right_units\":\"screen\",\"top_units\":\"screen\"},\"id\":\"4691\",\"type\":\"BoxAnnotation\"},{\"attributes\":{\"data\":{\"bottom\":{\"__ndarray__\":\"AAAAAAAAAAAAAAAAAAAAAAAAAAAAAAAAAAAAAAAAAAAAAAAAAAAAAAAAAAAAAAAAAAAAAAAAAAAAAAAAAAAAAAAAAAAAAAAAAAAAAAAAAAAAAAAAAAAAAAAAAAAAAAAAAAAAAAAAAAAAAAAAAAAAAAAAAAAAAAAAAAAAAAAAAAAAAAAAAAAAAAAAAAAAAAAAAAAAAAAAAAAAAAAAAAAAAAAAAAAAAAAAAAAAAAAAAAAAAAAAAAAAAAAAAAAAAAAAAAAAAAAAAAAAAAAAAAAAAAAAAAAAAAAAAAAAAAAAAAAAAAAAAAAAAAAAAAAAAAAAAAAAAAAAAAAAAAAAAAAAAAAAAAAAAAAAAAAAAAAAAAAAAAAAAAAAAAAAAAAAAAAAAAAAAAAAAAAAAAAAAAAAAAAAAAAAAAAAAAAAAAAAAAAAAAAAAAAAAAAAAAAAAAAAAAAAAAAAAAAAAAAAAAAAAAAAAAAAAAAAAAAAAAAAAAAAAAAAAAAAAAAAAAAAAAAAAAAAAAAAAAAAAAAAAAAAAAAAAAAAAAAAAAAAAAAAAAAAAAAAAAAAAAAAAAAAAAAAAAAAAAAAAAAAAAAAAAAAAAAAAAAAAAAAAAAAAAAAAAAAAAAAAAAAAAAAAAAAAAAAtfyU0PAd7T82Xc/9jwTUP7G6ZcHXU+0/efbi4sHw5z/0nnJhDGHtPzVZwM6FIO4/KnP6h/zU7T8zYV6PxQPpP7WAMYmD9+0/y491N1Rv5z/0epYEvZ7tP/cdwqYAR+s/Nuo7G/Wd7T/NebrSOwPuP3FCXxO5hO0/yz2NsNzT7D96rqd1vyTtP5TXUF5Dee0/VVVVVVVV7T/+Fqc12yfuPw==\",\"dtype\":\"float64\",\"order\":\"little\",\"shape\":[80]},\"rate\":{\"__ndarray__\":\"AAAAAAAAAAAAAAAAAAAAAAAAAAAAAAAAAAAAAAAAAAAAAAAAAAAAAAAAAAAAAAAAAAAAAAAAAAAAAAAAAAAAAAAAAAAAAAAAAAAAAAAAAAAAAAAAAAAAAAAAAAAAAAAAAAAAAAAAAAAAAAAAAAAAAAAAAAAAAAAAAAAAAAAAAAAAAAAAAAAAAAAAAAAAAAAAAAAAAAAAAAAAAAAAAAAAAAAAAAAAAAAAAAAAAAAAAAAAAAAAAAAAAAAAAAAAAAAAAAAAAAAAAAAAAAAAAAAAAAAAAAAAAAAAAAAAAAAAAAAAAAAAAAAAAAAAAAAAAAAAAAAAAAAAAAAAAAAAAAAAAAAAAAAAAAAAAAAAAAAAAAAAAAAAAAAAAAAAAAAAAAAAAAAAAAAAAAAAAAAAAAAAAAAAAAAAAAAAAAAAAAAAAAD0nnJhDGHtP7X8lNDwHe0/efbi4sHw5z8zYV6PxQPpP/cdwqYAR+s/cUJfE7mE7T/LPY2w3NPsPzbqOxv1ne0/zXm60jsD7j82Xc/9jwTUP7G6ZcHXU+0/NVnAzoUg7j+1gDGJg/ftP/R6lgS9nu0//hanNdsn7j96rqd1vyTtP5TXUF5Dee0/y491N1Rv5z8qc/qH/NTtP1VVVVVVVe0/XBpYe3kQtz9lURgBuP3lP3sq0vRBYbU/DhM6Onwe0D9jCGv0nPe0P7hs+hOj960/rWYswBtYsT82e4bC6fDLP1j6c7bjQ7A/auAUkVch0T9fKEzbFwqzPySI92T948I/TK4gJlcQsz8rY1jUQsyvP3jsBWU32rM/qBGWexphuT8zjMJSBNq2P15DeQ3lNbQ/VVVVVVVVtT8ZkI6lTIKtPw==\",\"dtype\":\"float64\",\"order\":\"little\",\"shape\":[80]},\"result\":[\"dontKnow\",\"dontKnow\",\"dontKnow\",\"dontKnow\",\"dontKnow\",\"dontKnow\",\"dontKnow\",\"dontKnow\",\"dontKnow\",\"dontKnow\",\"dontKnow\",\"dontKnow\",\"dontKnow\",\"dontKnow\",\"dontKnow\",\"dontKnow\",\"dontKnow\",\"dontKnow\",\"dontKnow\",\"dontKnow\",\"skip (same body ID)\",\"skip (same body ID)\",\"skip (same body ID)\",\"skip (same body ID)\",\"skip (same body ID)\",\"skip (same body ID)\",\"skip (same body ID)\",\"skip (same body ID)\",\"skip (same body ID)\",\"skip (same body ID)\",\"skip (same body ID)\",\"skip (same body ID)\",\"skip (same body ID)\",\"skip (same body ID)\",\"skip (same body ID)\",\"skip (same body ID)\",\"skip (same body ID)\",\"skip (same body ID)\",\"skip (same body ID)\",\"skip (same body ID)\",\"merge\",\"merge\",\"merge\",\"merge\",\"merge\",\"merge\",\"merge\",\"merge\",\"merge\",\"merge\",\"merge\",\"merge\",\"merge\",\"merge\",\"merge\",\"merge\",\"merge\",\"merge\",\"merge\",\"merge\",\"dontMerge\",\"dontMerge\",\"dontMerge\",\"dontMerge\",\"dontMerge\",\"dontMerge\",\"dontMerge\",\"dontMerge\",\"dontMerge\",\"dontMerge\",\"dontMerge\",\"dontMerge\",\"dontMerge\",\"dontMerge\",\"dontMerge\",\"dontMerge\",\"dontMerge\",\"dontMerge\",\"dontMerge\",\"dontMerge\"],\"score_bin\":[\"0\",\"0.55\",\"0.5\",\"0.65\",\"0.45\",\"0.7\",\"0.4\",\"0.35\",\"0.75\",\"0.3\",\"0.8\",\"0.25\",\"0.2\",\"0.85\",\"0.6\",\"0.1\",\"0.15\",\"0.05\",\"0.9\",\"0.95\",\"0.65\",\"0.45\",\"0.5\",\"0.05\",\"0.4\",\"0.7\",\"0.85\",\"0.35\",\"0.15\",\"0.75\",\"0.3\",\"0.1\",\"0.55\",\"0.25\",\"0.6\",\"0.8\",\"0\",\"0.2\",\"0.9\",\"0.95\",\"0.6\",\"0.7\",\"0.9\",\"0.85\",\"0.8\",\"0.65\",\"0.75\",\"0.45\",\"0.25\",\"0\",\"0.05\",\"0.1\",\"0.15\",\"0.2\",\"0.55\",\"0.3\",\"0.35\",\"0.95\",\"0.5\",\"0.4\",\"0.7\",\"0\",\"0.05\",\"0.9\",\"0.6\",\"0.1\",\"0.5\",\"0.85\",\"0.15\",\"0.95\",\"0.2\",\"0.8\",\"0.45\",\"0.25\",\"0.65\",\"0.75\",\"0.3\",\"0.35\",\"0.4\",\"0.55\"],\"top\":{\"__ndarray__\":\"AAAAAAAAAAAAAAAAAAAAAAAAAAAAAAAAAAAAAAAAAAAAAAAAAAAAAAAAAAAAAAAAAAAAAAAAAAAAAAAAAAAAAAAAAAAAAAAAAAAAAAAAAAAAAAAAAAAAAAAAAAAAAAAAAAAAAAAAAAAAAAAAAAAAAAAAAAAAAAAAAAAAAAAAAAAAAAAAAAAAAAAAAAAAAAAAAAAAAAAAAAAAAAAAAAAAAAAAAAAAAAAAAAAAAAAAAAAAAAAAAAAAAAAAAAAAAAAAAAAAAAAAAAAAAAAAAAAAAAAAAAAAAAAAAAAAAAAAAAAAAAAAAAAAAAAAAAAAAAAAAAAAAAAAAAAAAAAAAAAAAAAAAAAAAAAAAAAAAAAAAAAAAAAAAAAAAAAAAAAAAAAAAAAAAAAAAAAAAAAAAAAAAAAAAAAAAAAAAAAAAAAAAAD0nnJhDGHtP7X8lNDwHe0/efbi4sHw5z8zYV6PxQPpP/cdwqYAR+s/cUJfE7mE7T/LPY2w3NPsPzbqOxv1ne0/zXm60jsD7j82Xc/9jwTUP7G6ZcHXU+0/NVnAzoUg7j+1gDGJg/ftP/R6lgS9nu0//hanNdsn7j96rqd1vyTtP5TXUF5Dee0/y491N1Rv5z8qc/qH/NTtP1VVVVVVVe0/AAAAAAAA8D8AAAAAAADwPwAAAAAAAPA/AAAAAAAA8D8AAAAAAADwPwAAAAAAAPA/AAAAAAAA8D8AAAAAAADwPwAAAAAAAPA/AAAAAAAA8D8AAAAAAADwPwAAAAAAAPA/AAAAAAAA8D8AAAAAAADwPwAAAAAAAPA/AAAAAAAA8D8AAAAAAADwPwAAAAAAAPA/AAAAAAAA8D8AAAAAAADwPw==\",\"dtype\":\"float64\",\"order\":\"little\",\"shape\":[80]}},\"selected\":{\"id\":\"4701\"},\"selection_policy\":{\"id\":\"4714\"}},\"id\":\"4700\",\"type\":\"ColumnDataSource\"},{\"attributes\":{\"factors\":[\"dontKnow\",\"skip (same body ID)\",\"merge\",\"dontMerge\"],\"palette\":[\"#1f77b3\",\"#ff7e0e\",\"#2ba02b\",\"#d62628\"]},\"id\":\"4699\",\"type\":\"CategoricalColorMapper\"},{\"attributes\":{},\"id\":\"4701\",\"type\":\"Selection\"},{\"attributes\":{\"axis_label\":\"\",\"bounds\":\"auto\",\"formatter\":{\"id\":\"4710\"},\"major_label_orientation\":\"horizontal\",\"ticker\":{\"id\":\"4684\"}},\"id\":\"4683\",\"type\":\"CategoricalAxis\"},{\"attributes\":{\"data_source\":{\"id\":\"4700\"},\"glyph\":{\"id\":\"4703\"},\"hover_glyph\":null,\"muted_glyph\":{\"id\":\"4705\"},\"nonselection_glyph\":{\"id\":\"4704\"},\"selection_glyph\":null,\"view\":{\"id\":\"4707\"}},\"id\":\"4706\",\"type\":\"GlyphRenderer\"},{\"attributes\":{},\"id\":\"4714\",\"type\":\"UnionRenderers\"},{\"attributes\":{},\"id\":\"4675\",\"type\":\"LinearScale\"},{\"attributes\":{\"fill_color\":{\"field\":\"result\",\"transform\":{\"id\":\"4699\"}},\"height\":{\"value\":0.8},\"left\":{\"field\":\"bottom\"},\"right\":{\"field\":\"top\"},\"y\":{\"field\":\"score_bin\"}},\"id\":\"4703\",\"type\":\"HBar\"},{\"attributes\":{\"factors\":[\"0\",\"0.05\",\"0.1\",\"0.15\",\"0.2\",\"0.25\",\"0.3\",\"0.35\",\"0.4\",\"0.45\",\"0.5\",\"0.55\",\"0.6\",\"0.65\",\"0.7\",\"0.75\",\"0.8\",\"0.85\",\"0.9\",\"0.95\"],\"tags\":[[[\"score_bin\",\"score_bin\",null]]]},\"id\":\"4668\",\"type\":\"FactorRange\"},{\"attributes\":{},\"id\":\"4710\",\"type\":\"CategoricalTickFormatter\"},{\"attributes\":{\"axis_label\":\"rate\",\"bounds\":\"auto\",\"formatter\":{\"id\":\"4712\"},\"major_label_orientation\":\"horizontal\",\"ticker\":{\"id\":\"4680\"}},\"id\":\"4679\",\"type\":\"LinearAxis\"},{\"attributes\":{},\"id\":\"4690\",\"type\":\"ResetTool\"},{\"attributes\":{\"axis\":{\"id\":\"4683\"},\"dimension\":1,\"grid_line_color\":null,\"ticker\":null},\"id\":\"4685\",\"type\":\"Grid\"},{\"attributes\":{},\"id\":\"4680\",\"type\":\"BasicTicker\"},{\"attributes\":{\"source\":{\"id\":\"4700\"}},\"id\":\"4707\",\"type\":\"CDSView\"},{\"attributes\":{\"items\":[{\"id\":\"4717\"}],\"location\":\"top_left\"},\"id\":\"4716\",\"type\":\"Legend\"},{\"attributes\":{},\"id\":\"4677\",\"type\":\"CategoricalScale\"},{\"attributes\":{\"label\":{\"field\":\"result\"},\"renderers\":[{\"id\":\"4706\"}]},\"id\":\"4717\",\"type\":\"LegendItem\"},{\"attributes\":{},\"id\":\"4712\",\"type\":\"BasicTickFormatter\"},{\"attributes\":{\"callback\":null,\"renderers\":[{\"id\":\"4706\"}],\"tags\":[\"hv_created\"],\"tooltips\":[[\"score_bin\",\"@{score_bin}\"],[\"result\",\"@{result}\"],[\"rate\",\"@{rate}\"]]},\"id\":\"4669\",\"type\":\"HoverTool\"},{\"attributes\":{\"margin\":[5,5,5,5],\"name\":\"HSpacer11489\",\"sizing_mode\":\"stretch_width\"},\"id\":\"4666\",\"type\":\"Spacer\"},{\"attributes\":{\"reset_end\":1.0,\"reset_start\":0.0,\"tags\":[[[\"rate\",\"rate\",null]]]},\"id\":\"4667\",\"type\":\"Range1d\"},{\"attributes\":{\"text\":\"rate\",\"text_color\":{\"value\":\"black\"},\"text_font_size\":{\"value\":\"12pt\"}},\"id\":\"4671\",\"type\":\"Title\"},{\"attributes\":{\"fill_alpha\":{\"value\":0.2},\"fill_color\":{\"field\":\"result\",\"transform\":{\"id\":\"4699\"}},\"height\":{\"value\":0.8},\"left\":{\"field\":\"bottom\"},\"line_alpha\":{\"value\":0.2},\"right\":{\"field\":\"top\"},\"y\":{\"field\":\"score_bin\"}},\"id\":\"4705\",\"type\":\"HBar\"},{\"attributes\":{\"overlay\":{\"id\":\"4691\"}},\"id\":\"4689\",\"type\":\"BoxZoomTool\"},{\"attributes\":{\"fill_alpha\":{\"value\":0.1},\"fill_color\":{\"field\":\"result\",\"transform\":{\"id\":\"4699\"}},\"height\":{\"value\":0.8},\"left\":{\"field\":\"bottom\"},\"line_alpha\":{\"value\":0.1},\"right\":{\"field\":\"top\"},\"y\":{\"field\":\"score_bin\"}},\"id\":\"4704\",\"type\":\"HBar\"},{\"attributes\":{\"margin\":[5,5,5,5],\"name\":\"HSpacer11490\",\"sizing_mode\":\"stretch_width\"},\"id\":\"4738\",\"type\":\"Spacer\"}],\"root_ids\":[\"4665\"]},\"title\":\"Bokeh Application\",\"version\":\"2.2.1\"}};\n",
       "  var render_items = [{\"docid\":\"65ca2737-8391-4706-a5f6-8ebc70a53000\",\"root_ids\":[\"4665\"],\"roots\":{\"4665\":\"76206b85-2226-4e52-8694-3595c1c173ca\"}}];\n",
       "  root.Bokeh.embed.embed_items_notebook(docs_json, render_items);\n",
       "  }\n",
       "if (root.Bokeh !== undefined) {\n",
       "    embed_document(root);\n",
       "  } else {\n",
       "    var attempts = 0;\n",
       "    var timer = setInterval(function(root) {\n",
       "      if (root.Bokeh !== undefined) {\n",
       "        clearInterval(timer);\n",
       "        embed_document(root);\n",
       "      } else if (document.readyState == \"complete\") {\n",
       "        attempts++;\n",
       "        if (attempts > 100) {\n",
       "          clearInterval(timer);\n",
       "          console.log(\"Bokeh: ERROR: Unable to run BokehJS code because BokehJS library is missing\");\n",
       "        }\n",
       "      }\n",
       "    }, 10, root)\n",
       "  }\n",
       "})(window);</script>"
      ],
      "text/plain": [
       ":Bars   [score_bin,result]   (rate)"
      ]
     },
     "execution_count": 85,
     "metadata": {
      "application/vnd.holoviews_exec.v0+json": {
       "id": "4665"
      }
     },
     "output_type": "execute_result"
    }
   ],
   "source": [
    "# Same as above, but normalized by task count to make it easier to compare merge rates\n",
    "result_counts['rate'].hvplot.barh(stacked=True, legend='top_left', height=int(1000//(bin_width*100) + 100))"
   ]
  },
  {
   "cell_type": "markdown",
   "metadata": {},
   "source": [
    "### Show the merge rates for synth-based tasks by (binned) synth_score"
   ]
  },
  {
   "cell_type": "code",
   "execution_count": 86,
   "metadata": {},
   "outputs": [
    {
     "data": {},
     "metadata": {},
     "output_type": "display_data"
    },
    {
     "data": {
      "application/vnd.holoviews_exec.v0+json": "",
      "text/html": [
       "<div id='4780'>\n",
       "\n",
       "\n",
       "\n",
       "\n",
       "\n",
       "  <div class=\"bk-root\" id=\"53e95976-3277-4bbd-8985-c94a59d99ca8\" data-root-id=\"4780\"></div>\n",
       "</div>\n",
       "<script type=\"application/javascript\">(function(root) {\n",
       "  function embed_document(root) {\n",
       "  var docs_json = {\"a144abf1-e2ea-416c-823a-cc2a7a1ba8fc\":{\"roots\":{\"references\":[{\"attributes\":{\"margin\":[5,5,5,5],\"name\":\"HSpacer11792\",\"sizing_mode\":\"stretch_width\"},\"id\":\"4781\",\"type\":\"Spacer\"},{\"attributes\":{\"fill_alpha\":{\"value\":0.2},\"fill_color\":{\"field\":\"result\",\"transform\":{\"id\":\"4814\"}},\"height\":{\"value\":0.8},\"left\":{\"field\":\"bottom\"},\"line_alpha\":{\"value\":0.2},\"right\":{\"field\":\"top\"},\"y\":{\"field\":\"score_bin\"}},\"id\":\"4820\",\"type\":\"HBar\"},{\"attributes\":{\"margin\":[5,5,5,5],\"name\":\"HSpacer11793\",\"sizing_mode\":\"stretch_width\"},\"id\":\"4853\",\"type\":\"Spacer\"},{\"attributes\":{\"children\":[{\"id\":\"4781\"},{\"id\":\"4785\"},{\"id\":\"4853\"}],\"margin\":[0,0,0,0],\"name\":\"Row11788\",\"tags\":[\"embedded\"]},\"id\":\"4780\",\"type\":\"Row\"},{\"attributes\":{},\"id\":\"4790\",\"type\":\"LinearScale\"},{\"attributes\":{\"data_source\":{\"id\":\"4815\"},\"glyph\":{\"id\":\"4818\"},\"hover_glyph\":null,\"muted_glyph\":{\"id\":\"4820\"},\"nonselection_glyph\":{\"id\":\"4819\"},\"selection_glyph\":null,\"view\":{\"id\":\"4822\"}},\"id\":\"4821\",\"type\":\"GlyphRenderer\"},{\"attributes\":{\"axis\":{\"id\":\"4798\"},\"dimension\":1,\"grid_line_color\":null,\"ticker\":null},\"id\":\"4800\",\"type\":\"Grid\"},{\"attributes\":{},\"id\":\"4805\",\"type\":\"ResetTool\"},{\"attributes\":{\"fill_alpha\":{\"value\":0.1},\"fill_color\":{\"field\":\"result\",\"transform\":{\"id\":\"4814\"}},\"height\":{\"value\":0.8},\"left\":{\"field\":\"bottom\"},\"line_alpha\":{\"value\":0.1},\"right\":{\"field\":\"top\"},\"y\":{\"field\":\"score_bin\"}},\"id\":\"4819\",\"type\":\"HBar\"},{\"attributes\":{\"items\":[{\"id\":\"4832\"}]},\"id\":\"4831\",\"type\":\"Legend\"},{\"attributes\":{\"overlay\":{\"id\":\"4806\"}},\"id\":\"4804\",\"type\":\"BoxZoomTool\"},{\"attributes\":{},\"id\":\"4825\",\"type\":\"CategoricalTickFormatter\"},{\"attributes\":{\"fill_color\":{\"field\":\"result\",\"transform\":{\"id\":\"4814\"}},\"height\":{\"value\":0.8},\"left\":{\"field\":\"bottom\"},\"right\":{\"field\":\"top\"},\"y\":{\"field\":\"score_bin\"}},\"id\":\"4818\",\"type\":\"HBar\"},{\"attributes\":{},\"id\":\"4792\",\"type\":\"CategoricalScale\"},{\"attributes\":{\"callback\":null,\"renderers\":[{\"id\":\"4821\"}],\"tags\":[\"hv_created\"],\"tooltips\":[[\"score_bin\",\"@{score_bin}\"],[\"result\",\"@{result}\"],[\"count\",\"@{count}\"]]},\"id\":\"4784\",\"type\":\"HoverTool\"},{\"attributes\":{\"axis_label\":\"count\",\"bounds\":\"auto\",\"formatter\":{\"id\":\"4827\"},\"major_label_orientation\":\"horizontal\",\"ticker\":{\"id\":\"4795\"}},\"id\":\"4794\",\"type\":\"LinearAxis\"},{\"attributes\":{\"factors\":[\"5\",\"10\",\"15\",\"20\",\"25\",\"30\",\"35\",\"40\",\"45\",\"50\",\"55\",\"60\",\"65\",\"70\",\"75\",\"80\",\"85\",\"90\",\"95\"],\"tags\":[[[\"score_bin\",\"score_bin\",null]]]},\"id\":\"4783\",\"type\":\"FactorRange\"},{\"attributes\":{},\"id\":\"4795\",\"type\":\"BasicTicker\"},{\"attributes\":{\"axis\":{\"id\":\"4794\"},\"grid_line_color\":null,\"ticker\":null},\"id\":\"4797\",\"type\":\"Grid\"},{\"attributes\":{},\"id\":\"4827\",\"type\":\"BasicTickFormatter\"},{\"attributes\":{},\"id\":\"4799\",\"type\":\"CategoricalTicker\"},{\"attributes\":{\"axis_label\":\"\",\"bounds\":\"auto\",\"formatter\":{\"id\":\"4825\"},\"major_label_orientation\":\"horizontal\",\"ticker\":{\"id\":\"4799\"}},\"id\":\"4798\",\"type\":\"CategoricalAxis\"},{\"attributes\":{\"text\":\"count\",\"text_color\":{\"value\":\"black\"},\"text_font_size\":{\"value\":\"12pt\"}},\"id\":\"4786\",\"type\":\"Title\"},{\"attributes\":{\"bottom_units\":\"screen\",\"fill_alpha\":0.5,\"fill_color\":\"lightgrey\",\"left_units\":\"screen\",\"level\":\"overlay\",\"line_alpha\":1.0,\"line_color\":\"black\",\"line_dash\":[4,4],\"line_width\":2,\"right_units\":\"screen\",\"top_units\":\"screen\"},\"id\":\"4806\",\"type\":\"BoxAnnotation\"},{\"attributes\":{},\"id\":\"4829\",\"type\":\"UnionRenderers\"},{\"attributes\":{\"active_drag\":\"auto\",\"active_inspect\":\"auto\",\"active_multi\":null,\"active_scroll\":\"auto\",\"active_tap\":\"auto\",\"tools\":[{\"id\":\"4784\"},{\"id\":\"4801\"},{\"id\":\"4802\"},{\"id\":\"4803\"},{\"id\":\"4804\"},{\"id\":\"4805\"}]},\"id\":\"4807\",\"type\":\"Toolbar\"},{\"attributes\":{\"align\":null,\"below\":[{\"id\":\"4794\"}],\"center\":[{\"id\":\"4797\"},{\"id\":\"4800\"},{\"id\":\"4831\"}],\"left\":[{\"id\":\"4798\"}],\"margin\":null,\"min_border_bottom\":10,\"min_border_left\":10,\"min_border_right\":10,\"min_border_top\":10,\"plot_height\":300,\"plot_width\":700,\"renderers\":[{\"id\":\"4821\"}],\"sizing_mode\":\"fixed\",\"title\":{\"id\":\"4786\"},\"toolbar\":{\"id\":\"4807\"},\"x_range\":{\"id\":\"4782\"},\"x_scale\":{\"id\":\"4790\"},\"y_range\":{\"id\":\"4783\"},\"y_scale\":{\"id\":\"4792\"}},\"id\":\"4785\",\"subtype\":\"Figure\",\"type\":\"Plot\"},{\"attributes\":{\"data\":{\"bottom\":{\"__ndarray__\":\"AAAAAAAAAAAAAAAAAAAAAAAAAAAAAAAAAAAAAAAAAAAAAAAAAAAAAAAAAAAAAAAAAAAAAAAAAAAAAAAAAAAAAAAAAAAAAAAAAAAAAAAAAAAAAAAAAAAAAAAAAAAAAAAAAAAAAAAAAAAAAAAAAAAAAAAAAAAAAAAAAAAAAAAAAAAAAAAAAAAAAAAAAAAAAAAAAAAAAAAAAAAAAAAAAAAAAAAAAAAAAAAAAAAAAAAAAAAAAAAAAAAAAAAAAAAAAAAAAAAAAAAAAAAAAAAAAAAAAAAAAAAAAAAAAAAAAAAAAAAAAAAAAAAAAAAAAAAAAAAAAAAAAAAAAAAAAAAAAAAAAAAAAAAAAAAAAAAAAAAAAAAAAAAAAAAAAAAAAAAAAAAAAAAAAAAAAAAAAAAAAAAAAAAAAAAAAAAAAAAAAAAAAAAAAAAAAAAAAAAAAAAAAAAAAAAAAAAAAAAAAAAAAAAAAAAAAAAAAAAAAAAAAAAAAAAAAAAAAAAAAAAAAAAAAAAAAAAAAAAAAAAAAAAAAAAAAAAAAAAAAAAAAAAAAAAAAAAAAAAAAAAAAAAAAAAAAAAAAAAAAAAAAAAAAAAAAAAAAAAAAAAAAAAAAAAAAAD4ikAAAAAAAFCBQAAAAAAAIq1AAAAAAADIh0AAAAAAABB/QAAAAAAAMIRAAAAAAACmokAAAAAAAEB/QAAAAAAAwJFAAAAAAAC4jkAAAAAAAMB+QAAAAAAAGJxAAAAAAABIg0AAAAAAAJB8QAAAAAAA+JZAAAAAAACYgUAAAAAAALiAQAAAAAAAqIVAAAAAAADYhkA=\",\"dtype\":\"float64\",\"order\":\"little\",\"shape\":[76]},\"count\":[0,0,0,0,0,0,0,0,0,0,0,0,0,0,0,0,0,0,0,0,0,0,0,0,0,0,0,0,0,0,0,0,0,0,0,0,0,0,457,492,1470,535,2387,497,554,3729,1798,500,646,563,731,863,1136,617,761,983,693,322,54,7782,209,56,71,3520,77,738,519,85,1922,117,95,1145,124,106,153,229],\"result\":[\"dontKnow\",\"dontKnow\",\"dontKnow\",\"dontKnow\",\"dontKnow\",\"dontKnow\",\"dontKnow\",\"dontKnow\",\"dontKnow\",\"dontKnow\",\"dontKnow\",\"dontKnow\",\"dontKnow\",\"dontKnow\",\"dontKnow\",\"dontKnow\",\"dontKnow\",\"dontKnow\",\"dontKnow\",\"skip (same body ID)\",\"skip (same body ID)\",\"skip (same body ID)\",\"skip (same body ID)\",\"skip (same body ID)\",\"skip (same body ID)\",\"skip (same body ID)\",\"skip (same body ID)\",\"skip (same body ID)\",\"skip (same body ID)\",\"skip (same body ID)\",\"skip (same body ID)\",\"skip (same body ID)\",\"skip (same body ID)\",\"skip (same body ID)\",\"skip (same body ID)\",\"skip (same body ID)\",\"skip (same body ID)\",\"skip (same body ID)\",\"merge\",\"merge\",\"merge\",\"merge\",\"merge\",\"merge\",\"merge\",\"merge\",\"merge\",\"merge\",\"merge\",\"merge\",\"merge\",\"merge\",\"merge\",\"merge\",\"merge\",\"merge\",\"merge\",\"dontMerge\",\"dontMerge\",\"dontMerge\",\"dontMerge\",\"dontMerge\",\"dontMerge\",\"dontMerge\",\"dontMerge\",\"dontMerge\",\"dontMerge\",\"dontMerge\",\"dontMerge\",\"dontMerge\",\"dontMerge\",\"dontMerge\",\"dontMerge\",\"dontMerge\",\"dontMerge\",\"dontMerge\"],\"score_bin\":[\"5\",\"50\",\"35\",\"55\",\"60\",\"30\",\"65\",\"25\",\"70\",\"45\",\"75\",\"20\",\"40\",\"80\",\"15\",\"85\",\"90\",\"10\",\"95\",\"80\",\"65\",\"85\",\"60\",\"55\",\"90\",\"95\",\"45\",\"75\",\"70\",\"50\",\"25\",\"5\",\"40\",\"30\",\"10\",\"35\",\"20\",\"15\",\"70\",\"75\",\"20\",\"65\",\"10\",\"85\",\"90\",\"5\",\"15\",\"80\",\"95\",\"60\",\"40\",\"35\",\"25\",\"55\",\"45\",\"30\",\"50\",\"35\",\"90\",\"5\",\"45\",\"85\",\"95\",\"10\",\"80\",\"25\",\"30\",\"75\",\"15\",\"55\",\"70\",\"20\",\"60\",\"65\",\"50\",\"40\"],\"top\":{\"__ndarray__\":\"AAAAAAAAAAAAAAAAAAAAAAAAAAAAAAAAAAAAAAAAAAAAAAAAAAAAAAAAAAAAAAAAAAAAAAAAAAAAAAAAAAAAAAAAAAAAAAAAAAAAAAAAAAAAAAAAAAAAAAAAAAAAAAAAAAAAAAAAAAAAAAAAAAAAAAAAAAAAAAAAAAAAAAAAAAAAAAAAAAAAAAAAAAAAAAAAAAAAAAAAAAAAAAAAAAAAAAAAAAAAAAAAAAAAAAAAAAAAAAAAAAAAAAAAAAAAAAAAAAAAAAAAAAAAAAAAAAAAAAAAAAAAAAAAAAAAAAAAAAAAAAAAAAAAAAAAAAAAAAAAAAAAAAAAAAAAAAAAAAAAAAAAAAAAAAAAAAAAAAAAAAAAAAAAAAAAAAAAAAAAAAAAAAAAAAAAAAAAAAAAAAAAAAAAAAAAkHxAAAAAAADAfkAAAAAAAPiWQAAAAAAAuIBAAAAAAACmokAAAAAAABB/QAAAAAAAUIFAAAAAAAAirUAAAAAAABicQAAAAAAAQH9AAAAAAAAwhEAAAAAAAJiBQAAAAAAA2IZAAAAAAAD4ikAAAAAAAMCRQAAAAAAASINAAAAAAADIh0AAAAAAALiOQAAAAAAAqIVAAAAAAACEkkAAAAAAAACDQAAAAACAe8ZAAAAAAABQjkAAAAAAAEiBQAAAAAAAaIZAAAAAAAATt0AAAAAAAAiCQAAAAAAASJ1AAAAAAAB4l0AAAAAAAAiCQAAAAAAAEK1AAAAAAADwhkAAAAAAAECBQAAAAAAAbqRAAAAAAAB4hUAAAAAAAAiEQAAAAAAAcIpAAAAAAAAAjkA=\",\"dtype\":\"float64\",\"order\":\"little\",\"shape\":[76]}},\"selected\":{\"id\":\"4816\"},\"selection_policy\":{\"id\":\"4829\"}},\"id\":\"4815\",\"type\":\"ColumnDataSource\"},{\"attributes\":{\"source\":{\"id\":\"4815\"}},\"id\":\"4822\",\"type\":\"CDSView\"},{\"attributes\":{},\"id\":\"4801\",\"type\":\"SaveTool\"},{\"attributes\":{\"label\":{\"field\":\"result\"},\"renderers\":[{\"id\":\"4821\"}]},\"id\":\"4832\",\"type\":\"LegendItem\"},{\"attributes\":{},\"id\":\"4802\",\"type\":\"PanTool\"},{\"attributes\":{},\"id\":\"4816\",\"type\":\"Selection\"},{\"attributes\":{},\"id\":\"4803\",\"type\":\"WheelZoomTool\"},{\"attributes\":{\"factors\":[\"dontKnow\",\"skip (same body ID)\",\"merge\",\"dontMerge\"],\"palette\":[\"#1f77b3\",\"#ff7e0e\",\"#2ba02b\",\"#d62628\"]},\"id\":\"4814\",\"type\":\"CategoricalColorMapper\"},{\"attributes\":{\"end\":12606.9,\"reset_end\":12606.9,\"reset_start\":0.0,\"tags\":[[[\"count\",\"count\",null]]]},\"id\":\"4782\",\"type\":\"Range1d\"}],\"root_ids\":[\"4780\"]},\"title\":\"Bokeh Application\",\"version\":\"2.2.1\"}};\n",
       "  var render_items = [{\"docid\":\"a144abf1-e2ea-416c-823a-cc2a7a1ba8fc\",\"root_ids\":[\"4780\"],\"roots\":{\"4780\":\"53e95976-3277-4bbd-8985-c94a59d99ca8\"}}];\n",
       "  root.Bokeh.embed.embed_items_notebook(docs_json, render_items);\n",
       "  }\n",
       "if (root.Bokeh !== undefined) {\n",
       "    embed_document(root);\n",
       "  } else {\n",
       "    var attempts = 0;\n",
       "    var timer = setInterval(function(root) {\n",
       "      if (root.Bokeh !== undefined) {\n",
       "        clearInterval(timer);\n",
       "        embed_document(root);\n",
       "      } else if (document.readyState == \"complete\") {\n",
       "        attempts++;\n",
       "        if (attempts > 100) {\n",
       "          clearInterval(timer);\n",
       "          console.log(\"Bokeh: ERROR: Unable to run BokehJS code because BokehJS library is missing\");\n",
       "        }\n",
       "      }\n",
       "    }, 10, root)\n",
       "  }\n",
       "})(window);</script>"
      ],
      "text/plain": [
       ":Bars   [score_bin,result]   (count)"
      ]
     },
     "execution_count": 86,
     "metadata": {
      "application/vnd.holoviews_exec.v0+json": {
       "id": "4780"
      }
     },
     "output_type": "execute_result"
    }
   ],
   "source": [
    "# Change this bin width for more fine-grained visualization\n",
    "bin_width = 5\n",
    "\n",
    "selections = decisions.query('not synth_score.isnull()').copy()\n",
    "selections['score_bin'] = bin_width*(selections['synth_score'] // bin_width)\n",
    "\n",
    "result_counts = (selections.query('result != \"dontKnow\"')[['score_bin', 'result']]\n",
    "                     .groupby(['score_bin'])['result']\n",
    "                     .agg([lambda x: x.value_counts().rename_axis('result').iloc[::-1],\n",
    "                           lambda x: x.value_counts().rename_axis('result').iloc[::-1] / len(x)]))\n",
    "\n",
    "result_counts.columns = ['count', 'rate']\n",
    "result_counts['count'].hvplot.barh(stacked=True, legend='top_right', height=1000//bin_width + 100)"
   ]
  },
  {
   "cell_type": "code",
   "execution_count": 87,
   "metadata": {},
   "outputs": [
    {
     "data": {},
     "metadata": {},
     "output_type": "display_data"
    },
    {
     "data": {
      "application/vnd.holoviews_exec.v0+json": "",
      "text/html": [
       "<div id='4895'>\n",
       "\n",
       "\n",
       "\n",
       "\n",
       "\n",
       "  <div class=\"bk-root\" id=\"5ad61fab-0420-48f6-997e-685b759ed318\" data-root-id=\"4895\"></div>\n",
       "</div>\n",
       "<script type=\"application/javascript\">(function(root) {\n",
       "  function embed_document(root) {\n",
       "  var docs_json = {\"0a34c279-4434-4479-b934-c880417e0fbf\":{\"roots\":{\"references\":[{\"attributes\":{\"reset_end\":1.0,\"reset_start\":0.0,\"tags\":[[[\"rate\",\"rate\",null]]]},\"id\":\"4897\",\"type\":\"Range1d\"},{\"attributes\":{\"axis\":{\"id\":\"4909\"},\"grid_line_color\":null,\"ticker\":null},\"id\":\"4912\",\"type\":\"Grid\"},{\"attributes\":{},\"id\":\"4931\",\"type\":\"Selection\"},{\"attributes\":{\"margin\":[5,5,5,5],\"name\":\"HSpacer12096\",\"sizing_mode\":\"stretch_width\"},\"id\":\"4968\",\"type\":\"Spacer\"},{\"attributes\":{},\"id\":\"4914\",\"type\":\"CategoricalTicker\"},{\"attributes\":{\"source\":{\"id\":\"4930\"}},\"id\":\"4937\",\"type\":\"CDSView\"},{\"attributes\":{\"axis_label\":\"\",\"bounds\":\"auto\",\"formatter\":{\"id\":\"4940\"},\"major_label_orientation\":\"horizontal\",\"ticker\":{\"id\":\"4914\"}},\"id\":\"4913\",\"type\":\"CategoricalAxis\"},{\"attributes\":{},\"id\":\"4905\",\"type\":\"LinearScale\"},{\"attributes\":{\"items\":[{\"id\":\"4947\"}],\"location\":\"top_left\"},\"id\":\"4946\",\"type\":\"Legend\"},{\"attributes\":{\"text\":\"rate\",\"text_color\":{\"value\":\"black\"},\"text_font_size\":{\"value\":\"12pt\"}},\"id\":\"4901\",\"type\":\"Title\"},{\"attributes\":{},\"id\":\"4944\",\"type\":\"UnionRenderers\"},{\"attributes\":{\"align\":null,\"below\":[{\"id\":\"4909\"}],\"center\":[{\"id\":\"4912\"},{\"id\":\"4915\"},{\"id\":\"4946\"}],\"left\":[{\"id\":\"4913\"}],\"margin\":null,\"min_border_bottom\":10,\"min_border_left\":10,\"min_border_right\":10,\"min_border_top\":10,\"plot_height\":300,\"plot_width\":700,\"renderers\":[{\"id\":\"4936\"}],\"sizing_mode\":\"fixed\",\"title\":{\"id\":\"4901\"},\"toolbar\":{\"id\":\"4922\"},\"x_range\":{\"id\":\"4897\"},\"x_scale\":{\"id\":\"4905\"},\"y_range\":{\"id\":\"4898\"},\"y_scale\":{\"id\":\"4907\"}},\"id\":\"4900\",\"subtype\":\"Figure\",\"type\":\"Plot\"},{\"attributes\":{\"factors\":[\"5\",\"10\",\"15\",\"20\",\"25\",\"30\",\"35\",\"40\",\"45\",\"50\",\"55\",\"60\",\"65\",\"70\",\"75\",\"80\",\"85\",\"90\",\"95\"],\"tags\":[[[\"score_bin\",\"score_bin\",null]]]},\"id\":\"4898\",\"type\":\"FactorRange\"},{\"attributes\":{\"children\":[{\"id\":\"4896\"},{\"id\":\"4900\"},{\"id\":\"4968\"}],\"margin\":[0,0,0,0],\"name\":\"Row12091\",\"tags\":[\"embedded\"]},\"id\":\"4895\",\"type\":\"Row\"},{\"attributes\":{},\"id\":\"4916\",\"type\":\"SaveTool\"},{\"attributes\":{\"data_source\":{\"id\":\"4930\"},\"glyph\":{\"id\":\"4933\"},\"hover_glyph\":null,\"muted_glyph\":{\"id\":\"4935\"},\"nonselection_glyph\":{\"id\":\"4934\"},\"selection_glyph\":null,\"view\":{\"id\":\"4937\"}},\"id\":\"4936\",\"type\":\"GlyphRenderer\"},{\"attributes\":{},\"id\":\"4917\",\"type\":\"PanTool\"},{\"attributes\":{\"fill_alpha\":{\"value\":0.1},\"fill_color\":{\"field\":\"result\",\"transform\":{\"id\":\"4929\"}},\"height\":{\"value\":0.8},\"left\":{\"field\":\"bottom\"},\"line_alpha\":{\"value\":0.1},\"right\":{\"field\":\"top\"},\"y\":{\"field\":\"score_bin\"}},\"id\":\"4934\",\"type\":\"HBar\"},{\"attributes\":{\"fill_alpha\":{\"value\":0.2},\"fill_color\":{\"field\":\"result\",\"transform\":{\"id\":\"4929\"}},\"height\":{\"value\":0.8},\"left\":{\"field\":\"bottom\"},\"line_alpha\":{\"value\":0.2},\"right\":{\"field\":\"top\"},\"y\":{\"field\":\"score_bin\"}},\"id\":\"4935\",\"type\":\"HBar\"},{\"attributes\":{},\"id\":\"4918\",\"type\":\"WheelZoomTool\"},{\"attributes\":{\"active_drag\":\"auto\",\"active_inspect\":\"auto\",\"active_multi\":null,\"active_scroll\":\"auto\",\"active_tap\":\"auto\",\"tools\":[{\"id\":\"4899\"},{\"id\":\"4916\"},{\"id\":\"4917\"},{\"id\":\"4918\"},{\"id\":\"4919\"},{\"id\":\"4920\"}]},\"id\":\"4922\",\"type\":\"Toolbar\"},{\"attributes\":{\"factors\":[\"dontKnow\",\"skip (same body ID)\",\"merge\",\"dontMerge\"],\"palette\":[\"#1f77b3\",\"#ff7e0e\",\"#2ba02b\",\"#d62628\"]},\"id\":\"4929\",\"type\":\"CategoricalColorMapper\"},{\"attributes\":{},\"id\":\"4942\",\"type\":\"BasicTickFormatter\"},{\"attributes\":{\"data\":{\"bottom\":{\"__ndarray__\":\"AAAAAAAAAAAAAAAAAAAAAAAAAAAAAAAAAAAAAAAAAAAAAAAAAAAAAAAAAAAAAAAAAAAAAAAAAAAAAAAAAAAAAAAAAAAAAAAAAAAAAAAAAAAAAAAAAAAAAAAAAAAAAAAAAAAAAAAAAAAAAAAAAAAAAAAAAAAAAAAAAAAAAAAAAAAAAAAAAAAAAAAAAAAAAAAAAAAAAAAAAAAAAAAAAAAAAAAAAAAAAAAAAAAAAAAAAAAAAAAAAAAAAAAAAAAAAAAAAAAAAAAAAAAAAAAAAAAAAAAAAAAAAAAAAAAAAAAAAAAAAAAAAAAAAAAAAAAAAAAAAAAAAAAAAAAAAAAAAAAAAAAAAAAAAAAAAAAAAAAAAAAAAAAAAAAAAAAAAAAAAAAAAAAAAAAAAAAAAAAAAAAAAAAAAAAAAAAAAAAAAAAAAAAAAAAAAAAAAAAAAAAAAAAAAAAAAAAAAAAAAAAAAAAAAAAAAAAAAAAAAAAAAAAAAAAAAAAAAAAAAAAAAAAAAAAAAAAAAAAAAAAAAAAAAAAAAAAAAAAAAAAAAAAAAAAAAAAAAAAAAAAAAAAAAAAAAAAAAAAAAAAAAAAAAAAAAAAAAAAAAAAAAAAAWCq8+fxN5z+H8hrKayjtPza4Q/2cu9Q/yUcYausa6T+F+V0tbsLsP2wajjrM1Ow/tU3l97jc2T/SZ5ZtybrrP13M9IDoZeM/4JAZm1fx5D8xEhfMNEnrP+/u7u7u7t4/cvMN1DDm6j9olPgZJX7qP42gKCcQ/eE/xcGIv2I56j+vSsUSUbXqP6nvbNR3Nuo/3t3d3d1d6D8=\",\"dtype\":\"float64\",\"order\":\"little\",\"shape\":[76]},\"rate\":{\"__ndarray__\":\"AAAAAAAAAAAAAAAAAAAAAAAAAAAAAAAAAAAAAAAAAAAAAAAAAAAAAAAAAAAAAAAAAAAAAAAAAAAAAAAAAAAAAAAAAAAAAAAAAAAAAAAAAAAAAAAAAAAAAAAAAAAAAAAAAAAAAAAAAAAAAAAAAAAAAAAAAAAAAAAAAAAAAAAAAAAAAAAAAAAAAAAAAAAAAAAAAAAAAAAAAAAAAAAAAAAAAAAAAAAAAAAAAAAAAAAAAAAAAAAAAAAAAAAAAAAAAAAAAAAAAAAAAAAAAAAAAAAAAAAAAAAAAAAAAAAAAAAAAAAAAAAAAAAAAAAAAAAAAAAAAAAAAAAAAAAAAAAAAAAAAAAAAAAAAAAAAAAAAAAAAAAAAAAAAAAAAAAAAAAAAAAAAAAAAAAAAAAAAAAAAAAAAGiU+Bklfuo/MRIXzDRJ6z+NoCgnEP3hP69KxRJRteo/tU3l97jc2T+F+V0tbsLsP4fyGsprKO0/NrhD/Zy71D/v7u7u7u7eP9Jnlm3Juus/bBqOOszU7D/FwYi/YjnqP97d3d3dXeg/WCq8+fxN5z9dzPSA6GXjP3LzDdQw5uo/yUcYausa6T/gkBmbV/HkP6nvbNR3Nuo/UauHDAZk0T/Kayivoby2P+UjXoExouU/3OCeV1KUyz/ZMxCVjuy5P6EsjyueWbk/JlkNhKMR4z+5YKZJ2hTBP0ZnFv4uNNk/Qd7MyVAd1j89t6PPLNvCP4mIiIiIiOA/OTLIrzxnxD9grh2YawfGP+a+rrHfBdw/7PjcAXUaxz9E1eq0uyrFP11BTK4gJsc/iYiIiIiIzj8=\",\"dtype\":\"float64\",\"order\":\"little\",\"shape\":[76]},\"result\":[\"dontKnow\",\"dontKnow\",\"dontKnow\",\"dontKnow\",\"dontKnow\",\"dontKnow\",\"dontKnow\",\"dontKnow\",\"dontKnow\",\"dontKnow\",\"dontKnow\",\"dontKnow\",\"dontKnow\",\"dontKnow\",\"dontKnow\",\"dontKnow\",\"dontKnow\",\"dontKnow\",\"dontKnow\",\"skip (same body ID)\",\"skip (same body ID)\",\"skip (same body ID)\",\"skip (same body ID)\",\"skip (same body ID)\",\"skip (same body ID)\",\"skip (same body ID)\",\"skip (same body ID)\",\"skip (same body ID)\",\"skip (same body ID)\",\"skip (same body ID)\",\"skip (same body ID)\",\"skip (same body ID)\",\"skip (same body ID)\",\"skip (same body ID)\",\"skip (same body ID)\",\"skip (same body ID)\",\"skip (same body ID)\",\"skip (same body ID)\",\"merge\",\"merge\",\"merge\",\"merge\",\"merge\",\"merge\",\"merge\",\"merge\",\"merge\",\"merge\",\"merge\",\"merge\",\"merge\",\"merge\",\"merge\",\"merge\",\"merge\",\"merge\",\"merge\",\"dontMerge\",\"dontMerge\",\"dontMerge\",\"dontMerge\",\"dontMerge\",\"dontMerge\",\"dontMerge\",\"dontMerge\",\"dontMerge\",\"dontMerge\",\"dontMerge\",\"dontMerge\",\"dontMerge\",\"dontMerge\",\"dontMerge\",\"dontMerge\",\"dontMerge\",\"dontMerge\",\"dontMerge\"],\"score_bin\":[\"5\",\"50\",\"35\",\"55\",\"60\",\"30\",\"65\",\"25\",\"70\",\"45\",\"75\",\"20\",\"40\",\"80\",\"15\",\"85\",\"90\",\"10\",\"95\",\"80\",\"65\",\"85\",\"60\",\"55\",\"90\",\"95\",\"45\",\"75\",\"70\",\"50\",\"25\",\"5\",\"40\",\"30\",\"10\",\"35\",\"20\",\"15\",\"70\",\"75\",\"20\",\"65\",\"10\",\"85\",\"90\",\"5\",\"15\",\"80\",\"95\",\"60\",\"40\",\"35\",\"25\",\"55\",\"45\",\"30\",\"50\",\"35\",\"90\",\"5\",\"45\",\"85\",\"95\",\"10\",\"80\",\"25\",\"30\",\"75\",\"15\",\"55\",\"70\",\"20\",\"60\",\"65\",\"50\",\"40\"],\"top\":{\"__ndarray__\":\"AAAAAAAAAAAAAAAAAAAAAAAAAAAAAAAAAAAAAAAAAAAAAAAAAAAAAAAAAAAAAAAAAAAAAAAAAAAAAAAAAAAAAAAAAAAAAAAAAAAAAAAAAAAAAAAAAAAAAAAAAAAAAAAAAAAAAAAAAAAAAAAAAAAAAAAAAAAAAAAAAAAAAAAAAAAAAAAAAAAAAAAAAAAAAAAAAAAAAAAAAAAAAAAAAAAAAAAAAAAAAAAAAAAAAAAAAAAAAAAAAAAAAAAAAAAAAAAAAAAAAAAAAAAAAAAAAAAAAAAAAAAAAAAAAAAAAAAAAAAAAAAAAAAAAAAAAAAAAAAAAAAAAAAAAAAAAAAAAAAAAAAAAAAAAAAAAAAAAAAAAAAAAAAAAAAAAAAAAAAAAAAAAAAAAAAAAAAAAAAAAAAAAGiU+Bklfuo/MRIXzDRJ6z+NoCgnEP3hP69KxRJRteo/tU3l97jc2T+F+V0tbsLsP4fyGsprKO0/NrhD/Zy71D/v7u7u7u7eP9Jnlm3Juus/bBqOOszU7D/FwYi/YjnqP97d3d3dXeg/WCq8+fxN5z9dzPSA6GXjP3LzDdQw5uo/yUcYausa6T/gkBmbV/HkP6nvbNR3Nuo/AAAAAAAA8D8AAAAAAADwPwAAAAAAAPA/AAAAAAAA8D8AAAAAAADwPwAAAAAAAPA/AAAAAAAA8D8AAAAAAADwPwAAAAAAAPA/AAAAAAAA8D8AAAAAAADwPwAAAAAAAPA/AAAAAAAA8D8AAAAAAADwPwAAAAAAAPA/AAAAAAAA8D8AAAAAAADwPwAAAAAAAPA/AAAAAAAA8D8=\",\"dtype\":\"float64\",\"order\":\"little\",\"shape\":[76]}},\"selected\":{\"id\":\"4931\"},\"selection_policy\":{\"id\":\"4944\"}},\"id\":\"4930\",\"type\":\"ColumnDataSource\"},{\"attributes\":{\"overlay\":{\"id\":\"4921\"}},\"id\":\"4919\",\"type\":\"BoxZoomTool\"},{\"attributes\":{},\"id\":\"4940\",\"type\":\"CategoricalTickFormatter\"},{\"attributes\":{\"margin\":[5,5,5,5],\"name\":\"HSpacer12095\",\"sizing_mode\":\"stretch_width\"},\"id\":\"4896\",\"type\":\"Spacer\"},{\"attributes\":{},\"id\":\"4910\",\"type\":\"BasicTicker\"},{\"attributes\":{\"axis\":{\"id\":\"4913\"},\"dimension\":1,\"grid_line_color\":null,\"ticker\":null},\"id\":\"4915\",\"type\":\"Grid\"},{\"attributes\":{},\"id\":\"4920\",\"type\":\"ResetTool\"},{\"attributes\":{\"bottom_units\":\"screen\",\"fill_alpha\":0.5,\"fill_color\":\"lightgrey\",\"left_units\":\"screen\",\"level\":\"overlay\",\"line_alpha\":1.0,\"line_color\":\"black\",\"line_dash\":[4,4],\"line_width\":2,\"right_units\":\"screen\",\"top_units\":\"screen\"},\"id\":\"4921\",\"type\":\"BoxAnnotation\"},{\"attributes\":{\"callback\":null,\"renderers\":[{\"id\":\"4936\"}],\"tags\":[\"hv_created\"],\"tooltips\":[[\"score_bin\",\"@{score_bin}\"],[\"result\",\"@{result}\"],[\"rate\",\"@{rate}\"]]},\"id\":\"4899\",\"type\":\"HoverTool\"},{\"attributes\":{\"fill_color\":{\"field\":\"result\",\"transform\":{\"id\":\"4929\"}},\"height\":{\"value\":0.8},\"left\":{\"field\":\"bottom\"},\"right\":{\"field\":\"top\"},\"y\":{\"field\":\"score_bin\"}},\"id\":\"4933\",\"type\":\"HBar\"},{\"attributes\":{},\"id\":\"4907\",\"type\":\"CategoricalScale\"},{\"attributes\":{\"axis_label\":\"rate\",\"bounds\":\"auto\",\"formatter\":{\"id\":\"4942\"},\"major_label_orientation\":\"horizontal\",\"ticker\":{\"id\":\"4910\"}},\"id\":\"4909\",\"type\":\"LinearAxis\"},{\"attributes\":{\"label\":{\"field\":\"result\"},\"renderers\":[{\"id\":\"4936\"}]},\"id\":\"4947\",\"type\":\"LegendItem\"}],\"root_ids\":[\"4895\"]},\"title\":\"Bokeh Application\",\"version\":\"2.2.1\"}};\n",
       "  var render_items = [{\"docid\":\"0a34c279-4434-4479-b934-c880417e0fbf\",\"root_ids\":[\"4895\"],\"roots\":{\"4895\":\"5ad61fab-0420-48f6-997e-685b759ed318\"}}];\n",
       "  root.Bokeh.embed.embed_items_notebook(docs_json, render_items);\n",
       "  }\n",
       "if (root.Bokeh !== undefined) {\n",
       "    embed_document(root);\n",
       "  } else {\n",
       "    var attempts = 0;\n",
       "    var timer = setInterval(function(root) {\n",
       "      if (root.Bokeh !== undefined) {\n",
       "        clearInterval(timer);\n",
       "        embed_document(root);\n",
       "      } else if (document.readyState == \"complete\") {\n",
       "        attempts++;\n",
       "        if (attempts > 100) {\n",
       "          clearInterval(timer);\n",
       "          console.log(\"Bokeh: ERROR: Unable to run BokehJS code because BokehJS library is missing\");\n",
       "        }\n",
       "      }\n",
       "    }, 10, root)\n",
       "  }\n",
       "})(window);</script>"
      ],
      "text/plain": [
       ":Bars   [score_bin,result]   (rate)"
      ]
     },
     "execution_count": 87,
     "metadata": {
      "application/vnd.holoviews_exec.v0+json": {
       "id": "4895"
      }
     },
     "output_type": "execute_result"
    }
   ],
   "source": [
    "# Same as above, but normalized by task count to make it easier to compare merge rates\n",
    "result_counts['rate'].hvplot.barh(stacked=True, legend='top_left', height=1000//bin_width + 100)"
   ]
  },
  {
   "cell_type": "markdown",
   "metadata": {},
   "source": [
    "### Show a selection of decisions"
   ]
  },
  {
   "cell_type": "code",
   "execution_count": 70,
   "metadata": {},
   "outputs": [
    {
     "data": {
      "text/html": [
       "<div>\n",
       "<style scoped>\n",
       "    .dataframe tbody tr th:only-of-type {\n",
       "        vertical-align: middle;\n",
       "    }\n",
       "\n",
       "    .dataframe tbody tr th {\n",
       "        vertical-align: top;\n",
       "    }\n",
       "\n",
       "    .dataframe thead th {\n",
       "        text-align: right;\n",
       "    }\n",
       "</style>\n",
       "<table border=\"1\" class=\"dataframe\">\n",
       "  <thead>\n",
       "    <tr style=\"text-align: right;\">\n",
       "      <th></th>\n",
       "      <th>sv_a</th>\n",
       "      <th>sv_b</th>\n",
       "      <th>body_a</th>\n",
       "      <th>body_b</th>\n",
       "      <th>xa</th>\n",
       "      <th>ya</th>\n",
       "      <th>za</th>\n",
       "      <th>xb</th>\n",
       "      <th>yb</th>\n",
       "      <th>zb</th>\n",
       "      <th>score</th>\n",
       "      <th>synth_score</th>\n",
       "      <th>user</th>\n",
       "    </tr>\n",
       "  </thead>\n",
       "  <tbody>\n",
       "    <tr>\n",
       "      <th>216554</th>\n",
       "      <td>26813065737</td>\n",
       "      <td>30088862306</td>\n",
       "      <td>26813065737</td>\n",
       "      <td>30088862306</td>\n",
       "      <td>27548</td>\n",
       "      <td>19652</td>\n",
       "      <td>37472</td>\n",
       "      <td>27541</td>\n",
       "      <td>19616</td>\n",
       "      <td>37495</td>\n",
       "      <td>NaN</td>\n",
       "      <td>5.0</td>\n",
       "      <td>natalielynnsmith@gmail.com</td>\n",
       "    </tr>\n",
       "    <tr>\n",
       "      <th>218646</th>\n",
       "      <td>38008520055</td>\n",
       "      <td>38418866267</td>\n",
       "      <td>38008520055</td>\n",
       "      <td>38418866267</td>\n",
       "      <td>15698</td>\n",
       "      <td>37256</td>\n",
       "      <td>47736</td>\n",
       "      <td>15698</td>\n",
       "      <td>37264</td>\n",
       "      <td>47751</td>\n",
       "      <td>NaN</td>\n",
       "      <td>5.0</td>\n",
       "      <td>quatretribunal@gmail.com</td>\n",
       "    </tr>\n",
       "    <tr>\n",
       "      <th>218627</th>\n",
       "      <td>31807988689</td>\n",
       "      <td>31807992831</td>\n",
       "      <td>31807988689</td>\n",
       "      <td>31807992831</td>\n",
       "      <td>26195</td>\n",
       "      <td>30438</td>\n",
       "      <td>39716</td>\n",
       "      <td>26180</td>\n",
       "      <td>30436</td>\n",
       "      <td>39787</td>\n",
       "      <td>NaN</td>\n",
       "      <td>5.0</td>\n",
       "      <td>emanley8794@gmail.com</td>\n",
       "    </tr>\n",
       "    <tr>\n",
       "      <th>218601</th>\n",
       "      <td>5078230937</td>\n",
       "      <td>8753727872</td>\n",
       "      <td>5078230937</td>\n",
       "      <td>8753727872</td>\n",
       "      <td>24818</td>\n",
       "      <td>18613</td>\n",
       "      <td>12473</td>\n",
       "      <td>24817</td>\n",
       "      <td>18613</td>\n",
       "      <td>12473</td>\n",
       "      <td>NaN</td>\n",
       "      <td>5.0</td>\n",
       "      <td>dennis.aa.bailey@gmail.com</td>\n",
       "    </tr>\n",
       "    <tr>\n",
       "      <th>218591</th>\n",
       "      <td>15305329184</td>\n",
       "      <td>15308829923</td>\n",
       "      <td>15305329184</td>\n",
       "      <td>15308829923</td>\n",
       "      <td>25019</td>\n",
       "      <td>18254</td>\n",
       "      <td>19592</td>\n",
       "      <td>24902</td>\n",
       "      <td>18212</td>\n",
       "      <td>19500</td>\n",
       "      <td>NaN</td>\n",
       "      <td>5.0</td>\n",
       "      <td>dennis.aa.bailey@gmail.com</td>\n",
       "    </tr>\n",
       "    <tr>\n",
       "      <th>218576</th>\n",
       "      <td>22812304458</td>\n",
       "      <td>27312055233</td>\n",
       "      <td>22812304458</td>\n",
       "      <td>27312055233</td>\n",
       "      <td>29759</td>\n",
       "      <td>33176</td>\n",
       "      <td>34144</td>\n",
       "      <td>29704</td>\n",
       "      <td>33210</td>\n",
       "      <td>34263</td>\n",
       "      <td>NaN</td>\n",
       "      <td>5.0</td>\n",
       "      <td>emanley8794@gmail.com</td>\n",
       "    </tr>\n",
       "    <tr>\n",
       "      <th>218565</th>\n",
       "      <td>35978916729</td>\n",
       "      <td>36389226643</td>\n",
       "      <td>35978916729</td>\n",
       "      <td>36389226643</td>\n",
       "      <td>27558</td>\n",
       "      <td>40380</td>\n",
       "      <td>45372</td>\n",
       "      <td>27540</td>\n",
       "      <td>40383</td>\n",
       "      <td>45406</td>\n",
       "      <td>NaN</td>\n",
       "      <td>5.0</td>\n",
       "      <td>thomsonrymer@gmail.com</td>\n",
       "    </tr>\n",
       "    <tr>\n",
       "      <th>218524</th>\n",
       "      <td>22808926212</td>\n",
       "      <td>22808928269</td>\n",
       "      <td>22808926212</td>\n",
       "      <td>22808928269</td>\n",
       "      <td>31524</td>\n",
       "      <td>34627</td>\n",
       "      <td>28688</td>\n",
       "      <td>31500</td>\n",
       "      <td>34584</td>\n",
       "      <td>28722</td>\n",
       "      <td>NaN</td>\n",
       "      <td>5.0</td>\n",
       "      <td>cookmichaeledward@gmail.com</td>\n",
       "    </tr>\n",
       "    <tr>\n",
       "      <th>218508</th>\n",
       "      <td>32967635264</td>\n",
       "      <td>32967672398</td>\n",
       "      <td>32967635264</td>\n",
       "      <td>32967672398</td>\n",
       "      <td>17528</td>\n",
       "      <td>20576</td>\n",
       "      <td>41426</td>\n",
       "      <td>17558</td>\n",
       "      <td>20584</td>\n",
       "      <td>41456</td>\n",
       "      <td>NaN</td>\n",
       "      <td>5.0</td>\n",
       "      <td>emanley8794@gmail.com</td>\n",
       "    </tr>\n",
       "    <tr>\n",
       "      <th>218493</th>\n",
       "      <td>45359052808</td>\n",
       "      <td>45359058607</td>\n",
       "      <td>45359052808</td>\n",
       "      <td>45359058607</td>\n",
       "      <td>9828</td>\n",
       "      <td>32074</td>\n",
       "      <td>56632</td>\n",
       "      <td>9867</td>\n",
       "      <td>32090</td>\n",
       "      <td>56726</td>\n",
       "      <td>NaN</td>\n",
       "      <td>5.0</td>\n",
       "      <td>alfrancis1996@gmail.com</td>\n",
       "    </tr>\n",
       "  </tbody>\n",
       "</table>\n",
       "</div>"
      ],
      "text/plain": [
       "               sv_a         sv_b       body_a       body_b     xa     ya  \\\n",
       "216554  26813065737  30088862306  26813065737  30088862306  27548  19652   \n",
       "218646  38008520055  38418866267  38008520055  38418866267  15698  37256   \n",
       "218627  31807988689  31807992831  31807988689  31807992831  26195  30438   \n",
       "218601   5078230937   8753727872   5078230937   8753727872  24818  18613   \n",
       "218591  15305329184  15308829923  15305329184  15308829923  25019  18254   \n",
       "218576  22812304458  27312055233  22812304458  27312055233  29759  33176   \n",
       "218565  35978916729  36389226643  35978916729  36389226643  27558  40380   \n",
       "218524  22808926212  22808928269  22808926212  22808928269  31524  34627   \n",
       "218508  32967635264  32967672398  32967635264  32967672398  17528  20576   \n",
       "218493  45359052808  45359058607  45359052808  45359058607   9828  32074   \n",
       "\n",
       "           za     xb     yb     zb  score  synth_score  \\\n",
       "216554  37472  27541  19616  37495    NaN          5.0   \n",
       "218646  47736  15698  37264  47751    NaN          5.0   \n",
       "218627  39716  26180  30436  39787    NaN          5.0   \n",
       "218601  12473  24817  18613  12473    NaN          5.0   \n",
       "218591  19592  24902  18212  19500    NaN          5.0   \n",
       "218576  34144  29704  33210  34263    NaN          5.0   \n",
       "218565  45372  27540  40383  45406    NaN          5.0   \n",
       "218524  28688  31500  34584  28722    NaN          5.0   \n",
       "218508  41426  17558  20584  41456    NaN          5.0   \n",
       "218493  56632   9867  32090  56726    NaN          5.0   \n",
       "\n",
       "                               user  \n",
       "216554   natalielynnsmith@gmail.com  \n",
       "218646     quatretribunal@gmail.com  \n",
       "218627        emanley8794@gmail.com  \n",
       "218601   dennis.aa.bailey@gmail.com  \n",
       "218591   dennis.aa.bailey@gmail.com  \n",
       "218576        emanley8794@gmail.com  \n",
       "218565       thomsonrymer@gmail.com  \n",
       "218524  cookmichaeledward@gmail.com  \n",
       "218508        emanley8794@gmail.com  \n",
       "218493      alfrancis1996@gmail.com  "
      ]
     },
     "execution_count": 70,
     "metadata": {},
     "output_type": "execute_result"
    }
   ],
   "source": [
    "cols = ['sv_a', 'sv_b', 'body_a', 'body_b', 'xa', 'ya', 'za', 'xb', 'yb', 'zb', 'score', 'synth_score', 'user']\n",
    "\n",
    "# Example query\n",
    "q = \"date_eastern == @today and result == 'merge'\"\n",
    "\n",
    "selections = decisions.query(q).sort_values('synth_score')\n",
    "selections[cols].head(10)"
   ]
  },
  {
   "cell_type": "markdown",
   "metadata": {},
   "source": [
    "### Neuroglancer link for a particular task"
   ]
  },
  {
   "cell_type": "code",
   "execution_count": 73,
   "metadata": {
    "jupyter": {
     "source_hidden": true
    }
   },
   "outputs": [],
   "source": [
    "DEFAULT_NG_SETTINGS = {\n",
    "  \"dimensions\": {\n",
    "    \"x\": [\n",
    "      8e-9,\n",
    "      \"m\"\n",
    "    ],\n",
    "    \"y\": [\n",
    "      8e-9,\n",
    "      \"m\"\n",
    "    ],\n",
    "    \"z\": [\n",
    "      8e-9,\n",
    "      \"m\"\n",
    "    ]\n",
    "  },\n",
    "  \"position\": [\n",
    "    22491.5,\n",
    "    26671.6328125,\n",
    "    31805.267578125\n",
    "  ],\n",
    "  \"crossSectionScale\": 1.1903340818685682,\n",
    "  \"projectionScale\": 16050.60896397486,\n",
    "  \"layers\": [\n",
    "    {\n",
    "      \"type\": \"image\",\n",
    "      \"source\": {\n",
    "        \"url\": \"precomputed://gs://flyem-vnc-2-26-213dba213ef26e094c16c860ae7f4be0/v3_emdata_clahe_xy/jpeg\",\n",
    "        \"subsources\": {\n",
    "          \"default\": True,\n",
    "          \"bounds\": True\n",
    "        },\n",
    "        \"enableDefaultSubsources\": False\n",
    "      },\n",
    "      \"tab\": \"source\",\n",
    "      \"name\": \"v3_emdata_clahe_xy/jpeg\"\n",
    "    },\n",
    "    {\n",
    "      \"type\": \"segmentation\",\n",
    "      \"source\": \"precomputed://gs://vnc-v3-seg-3d2f1c08fd4720848061f77362dc6c17/rc4_wsexp\",\n",
    "      \"tab\": \"source\",\n",
    "      \"segments\": [],\n",
    "      \"name\": \"supervoxels\"\n",
    "    },\n",
    "    {\n",
    "      \"type\": \"segmentation\",\n",
    "      \"source\": \"precomputed://gs://vnc-v3-seg-3d2f1c08fd4720848061f77362dc6c17/rc4_wsexp_rsg32_16_sep_8_sep1e6\",\n",
    "      \"tab\": \"segments\",\n",
    "      \"name\": \"agglo-8nm-except-1M-1M-merges\",\n",
    "      \"visible\": False\n",
    "    }\n",
    "  ],\n",
    "  \"showSlices\": False,\n",
    "  \"prefetch\": False,\n",
    "  \"selectedLayer\": {\n",
    "    \"layer\": \"supervoxels\",\n",
    "    \"visible\": True\n",
    "  },\n",
    "  \"layout\": \"4panel\",\n",
    "  \"partialViewport\": [\n",
    "    0,\n",
    "    0,\n",
    "    1,\n",
    "    1\n",
    "  ]\n",
    "}"
   ]
  },
  {
   "cell_type": "code",
   "execution_count": 74,
   "metadata": {
    "jupyter": {
     "source_hidden": true
    }
   },
   "outputs": [],
   "source": [
    "def ng_link_for_row(tasks, index):\n",
    "    ng_settings = copy.deepcopy(DEFAULT_NG_SETTINGS)\n",
    "\n",
    "    sv_settings = [l for l in ng_settings[\"layers\"] if l[\"name\"] == \"supervoxels\" ][0]\n",
    "    agglo_settings = [l for l in ng_settings[\"layers\"] if l[\"name\"].startswith(\"agglo\")][0]\n",
    "\n",
    "    sv_settings[\"segments\"] = tasks.loc[index, ['sv_a', 'sv_b']].values.astype(str).tolist()\n",
    "    agglo_settings[\"segments\"] = tasks.loc[index, ['body_a', 'body_b']].values.astype(str).tolist()\n",
    "    \n",
    "    point_a = tasks.loc[index, ['xa', 'ya', 'za']].values\n",
    "    point_b = tasks.loc[index, ['xb', 'yb', 'zb']].values\n",
    "    midpoint = (point_a + point_b) / 2\n",
    "    ng_settings[\"position\"] = midpoint.tolist()\n",
    "    \n",
    "    url = \"https://neuroglancer-demo.appspot.com/#!\" + urllib.parse.quote(json.dumps(ng_settings))\n",
    "    return url"
   ]
  },
  {
   "cell_type": "code",
   "execution_count": 75,
   "metadata": {},
   "outputs": [
    {
     "data": {
      "text/plain": [
       "'https://neuroglancer-demo.appspot.com/#!%7B%22dimensions%22%3A%20%7B%22x%22%3A%20%5B8e-09%2C%20%22m%22%5D%2C%20%22y%22%3A%20%5B8e-09%2C%20%22m%22%5D%2C%20%22z%22%3A%20%5B8e-09%2C%20%22m%22%5D%7D%2C%20%22position%22%3A%20%5B13033.0%2C%2033488.0%2C%2032871.0%5D%2C%20%22crossSectionScale%22%3A%201.1903340818685682%2C%20%22projectionScale%22%3A%2016050.60896397486%2C%20%22layers%22%3A%20%5B%7B%22type%22%3A%20%22image%22%2C%20%22source%22%3A%20%7B%22url%22%3A%20%22precomputed%3A//gs%3A//flyem-vnc-2-26-213dba213ef26e094c16c860ae7f4be0/v3_emdata_clahe_xy/jpeg%22%2C%20%22subsources%22%3A%20%7B%22default%22%3A%20true%2C%20%22bounds%22%3A%20true%7D%2C%20%22enableDefaultSubsources%22%3A%20false%7D%2C%20%22tab%22%3A%20%22source%22%2C%20%22name%22%3A%20%22v3_emdata_clahe_xy/jpeg%22%7D%2C%20%7B%22type%22%3A%20%22segmentation%22%2C%20%22source%22%3A%20%22precomputed%3A//gs%3A//vnc-v3-seg-3d2f1c08fd4720848061f77362dc6c17/rc4_wsexp%22%2C%20%22tab%22%3A%20%22source%22%2C%20%22segments%22%3A%20%5B%2225262564872%22%2C%20%2226079734562%22%5D%2C%20%22name%22%3A%20%22supervoxels%22%7D%2C%20%7B%22type%22%3A%20%22segmentation%22%2C%20%22source%22%3A%20%22precomputed%3A//gs%3A//vnc-v3-seg-3d2f1c08fd4720848061f77362dc6c17/rc4_wsexp_rsg32_16_sep_8_sep1e6%22%2C%20%22tab%22%3A%20%22segments%22%2C%20%22name%22%3A%20%22agglo-8nm-except-1M-1M-merges%22%2C%20%22visible%22%3A%20false%2C%20%22segments%22%3A%20%5B%2225262564872%22%2C%20%2226079734562%22%5D%7D%5D%2C%20%22showSlices%22%3A%20false%2C%20%22prefetch%22%3A%20false%2C%20%22selectedLayer%22%3A%20%7B%22layer%22%3A%20%22supervoxels%22%2C%20%22visible%22%3A%20true%7D%2C%20%22layout%22%3A%20%224panel%22%2C%20%22partialViewport%22%3A%20%5B0%2C%200%2C%201%2C%201%5D%7D'"
      ]
     },
     "execution_count": 75,
     "metadata": {},
     "output_type": "execute_result"
    }
   ],
   "source": [
    "ng_link_for_row(decisions, 208151)"
   ]
  },
  {
   "cell_type": "markdown",
   "metadata": {},
   "source": [
    "### Re-export a selection of task results to a new assignment file"
   ]
  },
  {
   "cell_type": "code",
   "execution_count": 76,
   "metadata": {},
   "outputs": [],
   "source": [
    "_ = reexport_tasks_to_assignment(decisions.tail(10), path='/tmp/exported-assignment.json')"
   ]
  },
  {
   "cell_type": "code",
   "execution_count": null,
   "metadata": {},
   "outputs": [],
   "source": []
  }
 ],
 "metadata": {
  "kernelspec": {
   "display_name": "Python 3",
   "language": "python",
   "name": "python3"
  },
  "language_info": {
   "codemirror_mode": {
    "name": "ipython",
    "version": 3
   },
   "file_extension": ".py",
   "mimetype": "text/x-python",
   "name": "python",
   "nbconvert_exporter": "python",
   "pygments_lexer": "ipython3",
   "version": "3.7.8"
  }
 },
 "nbformat": 4,
 "nbformat_minor": 4
}
