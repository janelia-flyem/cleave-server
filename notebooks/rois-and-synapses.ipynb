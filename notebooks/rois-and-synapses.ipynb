{
 "cells": [
  {
   "cell_type": "markdown",
   "metadata": {},
   "source": [
    "## ROI and Synapse Examples\n",
    "\n",
    "This notebook demonstrates neuclease functions for:\n",
    "- downloading synapse points from DVID as a CSV,\n",
    "- downloading ROI geometry as a single combined label volume,\n",
    "- and examining the volume to assign an ROI label to each synapse point."
   ]
  },
  {
   "cell_type": "code",
   "execution_count": 1,
   "metadata": {},
   "outputs": [],
   "source": [
    "%load_ext autoreload\n",
    "%autoreload 2"
   ]
  },
  {
   "cell_type": "code",
   "execution_count": 2,
   "metadata": {},
   "outputs": [],
   "source": [
    "import os\n",
    "import sys\n",
    "import logging\n",
    "\n",
    "import requests\n",
    "from tqdm import tqdm_notebook\n",
    "tqdm = tqdm_notebook\n",
    "\n",
    "import numpy as np\n",
    "import pandas as pd"
   ]
  },
  {
   "cell_type": "code",
   "execution_count": 3,
   "metadata": {},
   "outputs": [],
   "source": [
    "from neuclease import configure_default_logging\n",
    "configure_default_logging()"
   ]
  },
  {
   "cell_type": "code",
   "execution_count": 4,
   "metadata": {},
   "outputs": [
    {
     "data": {
      "text/plain": [
       "'/groups/flyem/proj/cluster/miniforge/envs/flyem/neuclease/notebooks'"
      ]
     },
     "execution_count": 4,
     "metadata": {},
     "output_type": "execute_result"
    }
   ],
   "source": [
    "pwd"
   ]
  },
  {
   "cell_type": "markdown",
   "metadata": {},
   "source": [
    "### Choose UUID"
   ]
  },
  {
   "cell_type": "code",
   "execution_count": 5,
   "metadata": {},
   "outputs": [
    {
     "name": "stdout",
     "output_type": "stream",
     "text": [
      "Using master uuid: 7f0c\n"
     ]
    }
   ],
   "source": [
    "from neuclease.dvid import find_master\n",
    "\n",
    "server = 'emdata3:8900'\n",
    "uuid = find_master(server)\n",
    "uuid = uuid[:4]\n",
    "print(f\"Using master uuid: {uuid}\")\n",
    "\n",
    "master = (server, uuid)"
   ]
  },
  {
   "cell_type": "markdown",
   "metadata": {},
   "source": [
    "### Download synapses from DVID"
   ]
  },
  {
   "cell_type": "code",
   "execution_count": 6,
   "metadata": {},
   "outputs": [
    {
     "data": {
      "application/vnd.jupyter.widget-view+json": {
       "model_id": "4ef4b8a46f744adc9d5af040944f3ee2",
       "version_major": 2,
       "version_minor": 0
      },
      "text/html": [
       "<p>Failed to display Jupyter Widget of type <code>HBox</code>.</p>\n",
       "<p>\n",
       "  If you're reading this message in the Jupyter Notebook or JupyterLab Notebook, it may mean\n",
       "  that the widgets JavaScript is still loading. If this message persists, it\n",
       "  likely means that the widgets JavaScript library is either not installed or\n",
       "  not enabled. See the <a href=\"https://ipywidgets.readthedocs.io/en/stable/user_install.html\">Jupyter\n",
       "  Widgets Documentation</a> for setup instructions.\n",
       "</p>\n",
       "<p>\n",
       "  If you're reading this message in another frontend (for example, a static\n",
       "  rendering on GitHub or <a href=\"https://nbviewer.jupyter.org/\">NBViewer</a>),\n",
       "  it may mean that your frontend doesn't currently support widgets.\n",
       "</p>\n"
      ],
      "text/plain": [
       "HBox(children=(IntProgress(value=0, max=256), HTML(value='')))"
      ]
     },
     "metadata": {},
     "output_type": "display_data"
    },
    {
     "name": "stdout",
     "output_type": "stream",
     "text": [
      "\n"
     ]
    },
    {
     "data": {
      "text/html": [
       "<div>\n",
       "<style scoped>\n",
       "    .dataframe tbody tr th:only-of-type {\n",
       "        vertical-align: middle;\n",
       "    }\n",
       "\n",
       "    .dataframe tbody tr th {\n",
       "        vertical-align: top;\n",
       "    }\n",
       "\n",
       "    .dataframe thead th {\n",
       "        text-align: right;\n",
       "    }\n",
       "</style>\n",
       "<table border=\"1\" class=\"dataframe\">\n",
       "  <thead>\n",
       "    <tr style=\"text-align: right;\">\n",
       "      <th></th>\n",
       "      <th>x</th>\n",
       "      <th>y</th>\n",
       "      <th>z</th>\n",
       "      <th>kind</th>\n",
       "      <th>conf</th>\n",
       "      <th>user</th>\n",
       "    </tr>\n",
       "  </thead>\n",
       "  <tbody>\n",
       "    <tr>\n",
       "      <th>0</th>\n",
       "      <td>16062</td>\n",
       "      <td>16050</td>\n",
       "      <td>16041</td>\n",
       "      <td>PostSyn</td>\n",
       "      <td>0.785155</td>\n",
       "      <td>$fpl</td>\n",
       "    </tr>\n",
       "    <tr>\n",
       "      <th>1</th>\n",
       "      <td>16120</td>\n",
       "      <td>16059</td>\n",
       "      <td>16041</td>\n",
       "      <td>PostSyn</td>\n",
       "      <td>0.955115</td>\n",
       "      <td>$fpl</td>\n",
       "    </tr>\n",
       "    <tr>\n",
       "      <th>2</th>\n",
       "      <td>16096</td>\n",
       "      <td>16059</td>\n",
       "      <td>16027</td>\n",
       "      <td>PostSyn</td>\n",
       "      <td>0.915969</td>\n",
       "      <td>$fpl</td>\n",
       "    </tr>\n",
       "    <tr>\n",
       "      <th>3</th>\n",
       "      <td>16100</td>\n",
       "      <td>16045</td>\n",
       "      <td>16051</td>\n",
       "      <td>PostSyn</td>\n",
       "      <td>0.956573</td>\n",
       "      <td>$fpl</td>\n",
       "    </tr>\n",
       "    <tr>\n",
       "      <th>4</th>\n",
       "      <td>16110</td>\n",
       "      <td>16055</td>\n",
       "      <td>16051</td>\n",
       "      <td>PostSyn</td>\n",
       "      <td>0.946751</td>\n",
       "      <td>$fpl</td>\n",
       "    </tr>\n",
       "  </tbody>\n",
       "</table>\n",
       "</div>"
      ],
      "text/plain": [
       "       x      y      z     kind      conf  user\n",
       "0  16062  16050  16041  PostSyn  0.785155  $fpl\n",
       "1  16120  16059  16041  PostSyn  0.955115  $fpl\n",
       "2  16096  16059  16027  PostSyn  0.915969  $fpl\n",
       "3  16100  16045  16051  PostSyn  0.956573  $fpl\n",
       "4  16110  16055  16051  PostSyn  0.946751  $fpl"
      ]
     },
     "execution_count": 6,
     "metadata": {},
     "output_type": "execute_result"
    }
   ],
   "source": [
    "from neuclease.dvid import fetch_synapses_in_batches\n",
    "\n",
    "# See docs for details:\n",
    "#help(fetch_synapses_in_batches)\n",
    "\n",
    "# FULL DOWNLOAD\n",
    "# For the full hemibrain, this will take an hour or so.\n",
    "#synapses_df = fetch_synapses_in_batches(*master, 'synapses', 'segmentation', format='pandas')\n",
    "#synapses_df.to_csv(f'synapses-{uuid}.csv', header=True, index=False)\n",
    "\n",
    "# For testing, here's the same as above, but for only a small subvolume\n",
    "box_zyx = [(16000,16000,16000), (17024,17024,17024)]\n",
    "synapses_df = fetch_synapses_in_batches(*master, 'synapses', box_zyx, format='pandas')\n",
    "synapses_df.to_csv(f'synapses-{uuid}-SUBVOLUME.csv', header=True, index=False)\n",
    "synapses_df.head()"
   ]
  },
  {
   "cell_type": "markdown",
   "metadata": {},
   "source": [
    "### Fetch/select ROI names"
   ]
  },
  {
   "cell_type": "code",
   "execution_count": 7,
   "metadata": {},
   "outputs": [
    {
     "name": "stdout",
     "output_type": "stream",
     "text": [
      "['AB', 'AL', 'AME', 'AMMC', 'AOT', 'AOTU', 'ATL', 'AVLP', 'BU', 'CA', 'CAN', 'CRE', 'EB', 'EPA', 'FB', 'FLA', 'GA', 'GC', 'GF', 'GNG', 'GOR', 'IB', 'ICL', 'IPS', 'LAL', 'LH', 'LO', 'LOP', 'ME', 'NO1', 'NO2D', 'NO2V', 'NO3', 'PB(L1)', 'PB(L2)', 'PB(L3)', 'PB(L4)', 'PB(L5)', 'PB(L6)', 'PB(L7)', 'PB(L8)', 'PB(L9)', 'PB(R1)', 'PB(R2)', 'PB(R3)', 'PB(R4)', 'PB(R5)', 'PB(R6)', 'PB(R7)', 'PB(R8)', 'PB(R9)', 'PED', 'PLP', 'POC', 'PRW', 'PVLP', 'ROB', 'RUB', 'SAD', 'SCL', 'SIP', 'SLP', 'SMP', 'SPS', 'VES', 'WED', \"a'L\", 'aL', \"b'L\", 'bL', 'dACA', 'gL', 'mALT', 'vACA']\n"
     ]
    }
   ],
   "source": [
    "from neuclease.dvid import fetch_repo_instances\n",
    "\n",
    "# Get the list of all ROIs\n",
    "rois = fetch_repo_instances(*master, 'roi').keys()\n",
    "\n",
    "# Select ROIs of interest (no '-lm' or 'L' rois)\n",
    "rois = filter(lambda roi: not roi.startswith('(L)'), rois)\n",
    "rois = filter(lambda roi: not roi.endswith('-lm'), rois)\n",
    "rois = list(rois)\n",
    "print(rois)"
   ]
  },
  {
   "cell_type": "markdown",
   "metadata": {},
   "source": [
    "### Load ROIs as a single volume"
   ]
  },
  {
   "cell_type": "code",
   "execution_count": 8,
   "metadata": {},
   "outputs": [],
   "source": [
    "from neuclease.dvid import fetch_combined_roi_volume\n",
    "\n",
    "# Fetch and combine into one volume\n",
    "#roi_vol, box, overlaps = fetch_combined_roi_volume(*master, rois, box_zyx=[(0,0,0), None])"
   ]
  },
  {
   "cell_type": "markdown",
   "metadata": {},
   "source": [
    "#### Alternatively, provide rois as a dict to explicitly choose the output label for each ROI"
   ]
  },
  {
   "cell_type": "code",
   "execution_count": 14,
   "metadata": {},
   "outputs": [
    {
     "data": {
      "application/vnd.jupyter.widget-view+json": {
       "model_id": "d132bd05f95a4d81ba29de3d52d38eee",
       "version_major": 2,
       "version_minor": 0
      },
      "text/html": [
       "<p>Failed to display Jupyter Widget of type <code>HBox</code>.</p>\n",
       "<p>\n",
       "  If you're reading this message in the Jupyter Notebook or JupyterLab Notebook, it may mean\n",
       "  that the widgets JavaScript is still loading. If this message persists, it\n",
       "  likely means that the widgets JavaScript library is either not installed or\n",
       "  not enabled. See the <a href=\"https://ipywidgets.readthedocs.io/en/stable/user_install.html\">Jupyter\n",
       "  Widgets Documentation</a> for setup instructions.\n",
       "</p>\n",
       "<p>\n",
       "  If you're reading this message in another frontend (for example, a static\n",
       "  rendering on GitHub or <a href=\"https://nbviewer.jupyter.org/\">NBViewer</a>),\n",
       "  it may mean that your frontend doesn't currently support widgets.\n",
       "</p>\n"
      ],
      "text/plain": [
       "HBox(children=(IntProgress(value=0, max=74), HTML(value='')))"
      ]
     },
     "metadata": {},
     "output_type": "display_data"
    },
    {
     "name": "stdout",
     "output_type": "stream",
     "text": [
      "\r"
     ]
    },
    {
     "data": {
      "application/vnd.jupyter.widget-view+json": {
       "model_id": "4aba7a429c0447baa187af6e2a4af8c4",
       "version_major": 2,
       "version_minor": 0
      },
      "text/html": [
       "<p>Failed to display Jupyter Widget of type <code>HBox</code>.</p>\n",
       "<p>\n",
       "  If you're reading this message in the Jupyter Notebook or JupyterLab Notebook, it may mean\n",
       "  that the widgets JavaScript is still loading. If this message persists, it\n",
       "  likely means that the widgets JavaScript library is either not installed or\n",
       "  not enabled. See the <a href=\"https://ipywidgets.readthedocs.io/en/stable/user_install.html\">Jupyter\n",
       "  Widgets Documentation</a> for setup instructions.\n",
       "</p>\n",
       "<p>\n",
       "  If you're reading this message in another frontend (for example, a static\n",
       "  rendering on GitHub or <a href=\"https://nbviewer.jupyter.org/\">NBViewer</a>),\n",
       "  it may mean that your frontend doesn't currently support widgets.\n",
       "</p>\n"
      ],
      "text/plain": [
       "HBox(children=(IntProgress(value=0, max=74), HTML(value='')))"
      ]
     },
     "metadata": {},
     "output_type": "display_data"
    },
    {
     "name": "stdout",
     "output_type": "stream",
     "text": [
      "\r",
      "ROI volume consumes 1.6 GB of RAM\n"
     ]
    }
   ],
   "source": [
    "from neuclease.dvid import fetch_combined_roi_volume\n",
    "\n",
    "rois = { roi_name: label for label, roi_name in enumerate(rois, start=1) }\n",
    "\n",
    "# Combine all PB(*) rois into a single label\n",
    "pb_label = rois['PB(L1)']\n",
    "for name in rois.keys():\n",
    "    if name.startswith('PB'):\n",
    "        rois[name] = pb_label\n",
    "\n",
    "roi_vol, box, overlaps = fetch_combined_roi_volume(*master, rois, box_zyx=[(0,0,0), None])\n",
    "print(f\"ROI volume consumes {roi_vol.nbytes / 1e9:.1f} GB of RAM\")"
   ]
  },
  {
   "cell_type": "markdown",
   "metadata": {},
   "source": [
    "### Assign ROI label to each point in a table"
   ]
  },
  {
   "cell_type": "code",
   "execution_count": 10,
   "metadata": {},
   "outputs": [
    {
     "name": "stdout",
     "output_type": "stream",
     "text": [
      "Loaded 71369749 points\n"
     ]
    }
   ],
   "source": [
    "from neuclease.dvid import load_synapses # Knows proper dtypes for each CSV column\n",
    "\n",
    "# Example: load a pre-downloaded synapses table\n",
    "synapses_df = load_synapses('/nrs/flyem/bergs/complete-ffn-agglo/synapses-d585.csv')\n",
    "print(f\"Loaded {len(synapses_df)} points\")"
   ]
  },
  {
   "cell_type": "code",
   "execution_count": 11,
   "metadata": {},
   "outputs": [
    {
     "name": "stdout",
     "output_type": "stream",
     "text": [
      "INFO [2018-09-27 00:39:42,251] Extracting 71366455 ROI index values\n"
     ]
    }
   ],
   "source": [
    "from neuclease.util import extract_labels_from_volume\n",
    "\n",
    "# Above, we forced all PB ROIs to a single label,\n",
    "# so make sure the label names reflect that.\n",
    "consolidated_rois = dict(rois)\n",
    "consolidated_rois['PB'] = rois['PB(L1)']\n",
    "for k in rois.keys():\n",
    "    if k.startswith('PB'):\n",
    "        del consolidated_rois[k]\n",
    "\n",
    "# Scale is important here -- ROIs were downloaded at scale 5\n",
    "extract_labels_from_volume(synapses_df, roi_vol, vol_scale=5, label_names=consolidated_rois)"
   ]
  },
  {
   "cell_type": "code",
   "execution_count": 12,
   "metadata": {},
   "outputs": [
    {
     "data": {
      "text/html": [
       "<div>\n",
       "<style scoped>\n",
       "    .dataframe tbody tr th:only-of-type {\n",
       "        vertical-align: middle;\n",
       "    }\n",
       "\n",
       "    .dataframe tbody tr th {\n",
       "        vertical-align: top;\n",
       "    }\n",
       "\n",
       "    .dataframe thead th {\n",
       "        text-align: right;\n",
       "    }\n",
       "</style>\n",
       "<table border=\"1\" class=\"dataframe\">\n",
       "  <thead>\n",
       "    <tr style=\"text-align: right;\">\n",
       "      <th></th>\n",
       "      <th>x</th>\n",
       "      <th>y</th>\n",
       "      <th>z</th>\n",
       "      <th>kind</th>\n",
       "      <th>conf</th>\n",
       "      <th>user</th>\n",
       "      <th>label</th>\n",
       "      <th>label_name</th>\n",
       "    </tr>\n",
       "  </thead>\n",
       "  <tbody>\n",
       "    <tr>\n",
       "      <th>0</th>\n",
       "      <td>23893</td>\n",
       "      <td>20166</td>\n",
       "      <td>1775</td>\n",
       "      <td>PostSyn</td>\n",
       "      <td>0.294397</td>\n",
       "      <td>$fpl</td>\n",
       "      <td>0</td>\n",
       "      <td>&lt;unspecified&gt;</td>\n",
       "    </tr>\n",
       "    <tr>\n",
       "      <th>1</th>\n",
       "      <td>23917</td>\n",
       "      <td>20161</td>\n",
       "      <td>1786</td>\n",
       "      <td>PreSyn</td>\n",
       "      <td>0.985000</td>\n",
       "      <td>$fpl</td>\n",
       "      <td>0</td>\n",
       "      <td>&lt;unspecified&gt;</td>\n",
       "    </tr>\n",
       "    <tr>\n",
       "      <th>2</th>\n",
       "      <td>23889</td>\n",
       "      <td>20453</td>\n",
       "      <td>1749</td>\n",
       "      <td>PostSyn</td>\n",
       "      <td>0.999742</td>\n",
       "      <td>$fpl</td>\n",
       "      <td>0</td>\n",
       "      <td>&lt;unspecified&gt;</td>\n",
       "    </tr>\n",
       "    <tr>\n",
       "      <th>3</th>\n",
       "      <td>23909</td>\n",
       "      <td>20469</td>\n",
       "      <td>1734</td>\n",
       "      <td>PostSyn</td>\n",
       "      <td>0.717127</td>\n",
       "      <td>$fpl</td>\n",
       "      <td>0</td>\n",
       "      <td>&lt;unspecified&gt;</td>\n",
       "    </tr>\n",
       "    <tr>\n",
       "      <th>4</th>\n",
       "      <td>23902</td>\n",
       "      <td>20458</td>\n",
       "      <td>1749</td>\n",
       "      <td>PostSyn</td>\n",
       "      <td>0.989156</td>\n",
       "      <td>$fpl</td>\n",
       "      <td>0</td>\n",
       "      <td>&lt;unspecified&gt;</td>\n",
       "    </tr>\n",
       "  </tbody>\n",
       "</table>\n",
       "</div>"
      ],
      "text/plain": [
       "       x      y     z     kind      conf  user  label     label_name\n",
       "0  23893  20166  1775  PostSyn  0.294397  $fpl      0  <unspecified>\n",
       "1  23917  20161  1786   PreSyn  0.985000  $fpl      0  <unspecified>\n",
       "2  23889  20453  1749  PostSyn  0.999742  $fpl      0  <unspecified>\n",
       "3  23909  20469  1734  PostSyn  0.717127  $fpl      0  <unspecified>\n",
       "4  23902  20458  1749  PostSyn  0.989156  $fpl      0  <unspecified>"
      ]
     },
     "execution_count": 12,
     "metadata": {},
     "output_type": "execute_result"
    }
   ],
   "source": [
    "synapses_df.head()"
   ]
  },
  {
   "cell_type": "code",
   "execution_count": 13,
   "metadata": {},
   "outputs": [
    {
     "data": {
      "text/plain": [
       "<unspecified>    11986353\n",
       "LO                6223254\n",
       "AVLP              4886147\n",
       "SLP               4545272\n",
       "SMP               3986675\n",
       "PVLP              3965910\n",
       "PLP               3372312\n",
       "FB                2911311\n",
       "AL                2841205\n",
       "SPS               2147006\n",
       "LH                1898021\n",
       "WED               1867072\n",
       "IB                1780529\n",
       "ICL               1768989\n",
       "SCL               1762854\n",
       "LAL               1760440\n",
       "SIP               1664827\n",
       "VES               1412391\n",
       "CRE               1123234\n",
       "gL                1013228\n",
       "EB                 887026\n",
       "GNG                806847\n",
       "IPS                697409\n",
       "AOTU               692475\n",
       "SAD                506368\n",
       "CA                 488225\n",
       "bL                 464947\n",
       "aL                 439701\n",
       "LOP                433161\n",
       "AMMC               415769\n",
       "b'L                374613\n",
       "PB                 367222\n",
       "ME                 297854\n",
       "EPA                261628\n",
       "PED                257061\n",
       "a'L                224488\n",
       "GOR                213373\n",
       "ATL                174437\n",
       "BU                  56718\n",
       "FLA                 47934\n",
       "CAN                 44993\n",
       "NO3                 44323\n",
       "AME                 39900\n",
       "NO2D                38262\n",
       "GA                  23608\n",
       "AB                  23434\n",
       "NO1                 18690\n",
       "mALT                18195\n",
       "POC                 17269\n",
       "NO2V                14830\n",
       "RUB                 13936\n",
       "ROB                 12891\n",
       "GC                  11573\n",
       "vACA                 6635\n",
       "AOT                  5085\n",
       "dACA                 4939\n",
       "GF                   4519\n",
       "PRW                  2381\n",
       "Name: label_name, dtype: int64"
      ]
     },
     "execution_count": 13,
     "metadata": {},
     "output_type": "execute_result"
    }
   ],
   "source": [
    "synapses_df['label_name'].value_counts()"
   ]
  }
 ],
 "metadata": {
  "kernelspec": {
   "display_name": "Python 3",
   "language": "python",
   "name": "python3"
  },
  "language_info": {
   "codemirror_mode": {
    "name": "ipython",
    "version": 3
   },
   "file_extension": ".py",
   "mimetype": "text/x-python",
   "name": "python",
   "nbconvert_exporter": "python",
   "pygments_lexer": "ipython3",
   "version": "3.6.3"
  }
 },
 "nbformat": 4,
 "nbformat_minor": 2
}
